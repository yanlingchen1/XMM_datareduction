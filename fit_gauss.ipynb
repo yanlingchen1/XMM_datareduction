{
 "cells": [
  {
   "cell_type": "code",
   "execution_count": 4,
   "metadata": {},
   "outputs": [
    {
     "name": "stdout",
     "output_type": "stream",
     "text": [
      "Amplitude: 0.9477400282816749, Mean: -0.061596355507566154, Stddev: 1.0441178076137794\n",
      "Relative error in amp: 0.05225997171832508\n",
      "Relative error in mu: inf\n",
      "Relative error in sigma: 0.04411780761377937\n"
     ]
    },
    {
     "name": "stderr",
     "output_type": "stream",
     "text": [
      "<ipython-input-4-f8b5b269e11c>:18: RuntimeWarning: divide by zero encountered in scalar divide\n",
      "  mu_error = np.abs(popt[1] - true_mu) / true_mu\n"
     ]
    }
   ],
   "source": [
    "import numpy as np\n",
    "from scipy.optimize import curve_fit\n",
    "\n",
    "def gaussian(x, amplitude, mean, stddev):\n",
    "    return amplitude * np.exp(-((x - mean) / stddev)**2 / 2)\n",
    "\n",
    "xdata = np.linspace(-5, 5, 100)\n",
    "ydata = gaussian(xdata, 1, 0, 1) + 0.2 * np.random.normal(size=len(xdata))\n",
    "\n",
    "true_amp = 1\n",
    "true_mu = 0\n",
    "true_sig = 1\n",
    "initial_guess = [1, 0, 1]  # initial guess for the amplitude, mean, and standard deviation\n",
    "popt, pcov = curve_fit(gaussian, xdata, ydata, p0=initial_guess)\n",
    "\n",
    "print(f\"Amplitude: {popt[0]}, Mean: {popt[1]}, Stddev: {popt[2]}\")\n",
    "amp_error = np.abs(popt[0] - true_amp) / true_amp\n",
    "mu_error = np.abs(popt[1] - true_mu) / true_mu\n",
    "sigma_error = np.abs(popt[2] - true_sig) / true_sig\n",
    "print('Relative error in amp:', amp_error)\n",
    "print('Relative error in mu:', mu_error)\n",
    "print('Relative error in sigma:', sigma_error)"
   ]
  },
  {
   "cell_type": "code",
   "execution_count": 6,
   "metadata": {},
   "outputs": [],
   "source": [
    "import logging\n",
    "\n",
    "# create logger\n",
    "logger = logging.getLogger('my_logger')\n",
    "logger.setLevel(logging.DEBUG)\n",
    "\n",
    "# create file handler which logs messages to a file\n",
    "fh = logging.FileHandler('log/my_log_file.log')\n",
    "fh.setLevel(logging.DEBUG)\n",
    "\n",
    "# create formatter and add it to the handler\n",
    "formatter = logging.Formatter('%(asctime)s - %(name)s - %(levelname)s - %(message)s')\n",
    "fh.setFormatter(formatter)\n",
    "\n",
    "# add the handler to the logger\n",
    "logger.addHandler(fh)\n",
    "\n",
    "# log some messages\n",
    "logger.debug('Debug message')\n",
    "logger.info('Info message')\n",
    "logger.warning('Warning message')\n",
    "logger.error('Error message')\n",
    "logger.critical('Critical message')\n"
   ]
  },
  {
   "cell_type": "code",
   "execution_count": null,
   "metadata": {},
   "outputs": [],
   "source": []
  }
 ],
 "metadata": {
  "kernelspec": {
   "display_name": "Python 3.9.2 64-bit",
   "language": "python",
   "name": "python3"
  },
  "language_info": {
   "codemirror_mode": {
    "name": "ipython",
    "version": 3
   },
   "file_extension": ".py",
   "mimetype": "text/x-python",
   "name": "python",
   "nbconvert_exporter": "python",
   "pygments_lexer": "ipython3",
   "version": "3.9.2"
  },
  "orig_nbformat": 4,
  "vscode": {
   "interpreter": {
    "hash": "916dbcbb3f70747c44a77c7bcd40155683ae19c65e1c03b4aa3499c5328201f1"
   }
  }
 },
 "nbformat": 4,
 "nbformat_minor": 2
}
