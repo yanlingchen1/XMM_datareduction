{
 "cells": [
  {
   "cell_type": "code",
   "execution_count": null,
   "metadata": {},
   "outputs": [],
   "source": [
    "import os, glob\n",
    "import numpy as np\n",
    "import matplotlib.pyplot as plt\n",
    "import warnings\n",
    "import glob\n",
    "import subprocess as s\n",
    "warnings.filterwarnings(\"ignore\")\n",
    "\n",
    "from astropy.io import fits\n",
    "from astropy.time import Time\n",
    "from astropy.table import Table\n",
    "from scipy.optimize import curve_fit\n",
    "from copy import deepcopy\n",
    "import datetime\n",
    "import pandas as pd"
   ]
  },
  {
   "cell_type": "markdown",
   "metadata": {},
   "source": [
    "fit gaussian to lc"
   ]
  },
  {
   "cell_type": "code",
   "execution_count": null,
   "metadata": {},
   "outputs": [],
   "source": [
    "def plotting(x, y, y_err, model, xlim, ObsID, instrument, figures_path,  xscale='linear', bkg=False):\n",
    "    fig, (ax1, ax2) = plt.subplots(2, 1, figsize=(8,8), sharex=True, gridspec_kw={'height_ratios': [3, 1]})\n",
    "    ax1.tick_params(direction='in', which='both', length=5, labelsize=15)\n",
    "    ax2.tick_params(direction='in', which='both', length=5, labelsize=15)\n",
    "\n",
    "    plt.suptitle(instrument)\n",
    "    \n",
    "    ax1.set_ylabel(r'N', fontsize = 15.0)\n",
    "    ax1.set_xscale(xscale)\n",
    "    \n",
    "    ax1.set_xlim(0, xlim[1])\n",
    "\n",
    "    ax1.errorbar(x, y, yerr=y_err, fmt='o', capsize=2, label='Data')\n",
    "    ax1.plot(x, model, label='Fit')\n",
    "    ax1.legend(loc='best', fontsize=15.0)\n",
    "\n",
    "    ax2.set_ylabel(r'Ratio', fontsize = 15.0)\n",
    "    ax2.set_ylim(0.5,1.5)\n",
    "    ax2.axhline(y=1.)\n",
    "\n",
    "    ax2.errorbar(x, y/model, yerr=y_err/model, fmt='o', capsize=2)\n",
    "\n",
    "    ax2.set_xlabel('Rate [cts/s]', fontsize = 15.0)\n",
    "\n",
    "    plt.subplots_adjust(hspace=0.1)\n",
    "    \n",
    "    plt.show()\n",
    "def input_lc(fname, path, PN_cts_limit, EMOS_cts_limit):\n",
    "    os.chdir(path)\n",
    "    hdul = fits.open(fname)\n",
    "    data = hdul[1].data\n",
    "    time = data['time']\n",
    "    rate = data['rate']\n",
    "    rate_err = data['error']\n",
    "    hdul.close()\n",
    "    # Delete zero rates\n",
    "    where = np.where(rate == 0)[0]\n",
    "    time = np.delete(time, where)\n",
    "    rate = np.delete(rate, where)\n",
    "    rate_err = np.delete(rate_err, where)\n",
    "    # filter maximum counts rate before fitting\n",
    "    if('EPN' in fname or 'Oot' in fname):\n",
    "        where = np.where(rate > PN_cts_limit)[0]\n",
    "        time = np.delete(time, where)\n",
    "        rate = np.delete(rate, where)\n",
    "        rate_err = np.delete(rate_err, where)\n",
    "            \n",
    "    else:\n",
    "        where = np.where(rate > EMOS_cts_limit)[0]\n",
    "        time = np.delete(time, where)\n",
    "        rate = np.delete(rate, where)\n",
    "        rate_err = np.delete(rate_err, where)\n",
    "    return rate, time, rate_err, data['rate'], data['time']\n",
    "def hist_filter(rate):\n",
    "    # Make histogram\n",
    "    hist, bin_edges = np.histogram(np.log10(rate), bins=120)\n",
    "        \n",
    "    bin_mid = 0.5*(bin_edges[1:] + bin_edges[:-1])\n",
    "    bin_mid = 10**(bin_mid)\n",
    "    hist_err = np.sqrt(hist)\n",
    "    where = np.where(hist_err == 0)[0]\n",
    "    bin_mid = np.delete(bin_mid, where)\n",
    "    hist = np.delete(hist, where)\n",
    "    hist_err = np.delete(hist_err, where)\n",
    "    return hist, bin_mid, hist_err\n",
    "def fit_gauss(hist, bin_mid, hist_err):\n",
    "    # Define gaussian function\n",
    "    gaussian = lambda x, amp, cen, sig: amp * np.exp(-(x-cen)**2 / sig**2)\n",
    "    # Fit\n",
    "    init_vals = [max(hist), np.mean(bin_mid), 0.4]\n",
    "    best_vals, covar = curve_fit(gaussian, bin_mid, hist, p0=init_vals, sigma=1/hist_err, bounds=((0, 0, 0),\n",
    "                                                                                        (np.inf, np.inf, np.inf)),\n",
    "                                maxfev=100000)\n",
    "    return best_vals[0], best_vals[1], best_vals[2]\n",
    "def fit_dirty(iter_cts, fname, path, scale, PN_cts_limit=1.5, EMOS_cts_limit=1.5, PLOT=True):\n",
    "    rate, time, rate_err, rate_ori, time_ori = input_lc(fname, path, PN_cts_limit, EMOS_cts_limit)\n",
    "    hist, bin_mid, hist_err = hist_filter(rate)\n",
    "    amp, mu,sigma = fit_gauss(hist, bin_mid, hist_err)\n",
    "    newrate = deepcopy(rate)\n",
    "    newtime = deepcopy(time)\n",
    "    print(newrate.max(), len(newtime))\n",
    "    for i in range(iter_cts):\n",
    "        where = (newrate<mu+scale*sigma)&(newrate>mu-scale*sigma)\n",
    "        newrate = newrate[where]\n",
    "        newtime = newtime[where]\n",
    "        hist, bin_mid, hist_err = hist_filter(newrate)\n",
    "        amp, mu,sigma = fit_gauss(hist, bin_mid, hist_err)\n",
    "        print(newrate.max(), len(newtime), amp, mu, sigma)\n",
    "    if PLOT==True:\n",
    "        gaussian = lambda x, amp, cen, sig: amp * np.exp(-(x-cen)**2 / sig**2)\n",
    "        plotting(bin_mid, hist, hist_err, gaussian(bin_mid, amp, mu, sigma), \n",
    "                    [mu-scale*sigma, mu+scale*sigma], fname, \n",
    "                    fname, figures_path='./', bkg=True)\n",
    "        # check with the original lightcurve data\n",
    "        plt.figure(figsize = (8,8))\n",
    "        plt.scatter(newtime,newrate, alpha=0.5, s=2, color = 'b')#, yerr=dat['ERROR'])\n",
    "        plt.scatter(time_ori,rate_ori, alpha=0.5, s=1, color = 'k')#, yerr=dat['ERROR'])\n",
    "        plt.axhline(mu+scale*sigma, color = 'r')\n",
    "        plt.axhline(mu-scale*sigma, color = 'r')\n",
    "        plt.title(f'{fname}')\n",
    "        plt.savefig(f'{fname}.png')\n",
    "    return mu,sigma"
   ]
  },
  {
   "cell_type": "markdown",
   "metadata": {},
   "source": [
    "imshow the data "
   ]
  },
  {
   "cell_type": "code",
   "execution_count": null,
   "metadata": {},
   "outputs": [],
   "source": [
    "from astropy.visualization import astropy_mpl_style\n",
    "import matplotlib.colors as colors\n",
    "plt.style.use(astropy_mpl_style)\n",
    "from astropy.utils.data import get_pkg_data_filename\n",
    "bkg_dir = '/stage/headat/yanling/xmm/fwc_dat'\n",
    "os.chdir(bkg_dir)\n",
    "\n",
    "'''\n",
    "evselect table=mos1_closed_FF_2022_v2_obs201.fits.gz xcolumn=X ycolumn=Y \\\n",
    "imagebinning=binSize ximagebinsize=20 yimagebinsize=20 withimageset=true \\\n",
    "imageset=mos1_closed_FF_2022_v2_obs201.img\n",
    "'''\n",
    "\n",
    "image_file = get_pkg_data_filename('mos1_closed_FF_2022_v2_obs201.img')\n",
    "image_data = fits.getdata(image_file, ext=0)\n",
    "plt.figure(figsize = (8,8))\n",
    "plt.imshow(image_data, cmap='binary', norm = colors.LogNorm(vmin = 0.1, vmax = 100))\n",
    "plt.colorbar()\n",
    "plt.show()\n",
    "plt.clf()"
   ]
  },
  {
   "cell_type": "markdown",
   "metadata": {},
   "source": [
    "# 0. prereduction data"
   ]
  },
  {
   "cell_type": "code",
   "execution_count": null,
   "metadata": {},
   "outputs": [],
   "source": [
    "'''\n",
    "cd reduction_230227/101\n",
    "export SAS_CCF=/stage/headat/yanling/xmm/0502020101/ccf.cif\n",
    "export SAS_ODF=/stage/headat/yanling/xmm/0502020101/1378_0502020101_SCX00000SUM.SAS\n",
    "emproc\n",
    "mkdir Main\n",
    "cd Main\n",
    "epproc\n",
    "\n",
    "cd ..\n",
    "mkdir Oot\n",
    "cd Oot\n",
    "epproc withoutoftime=yes\n",
    "\n",
    "'''\n",
    "'''\n",
    "cd 201\n",
    "export SAS_CCF=/stage/headat/yanling/xmm/0502020201/ccf.cif\n",
    "export SAS_ODF=/stage/headat/yanling/xmm/0502020201/1380_0502020201_SCX00000SUM.SAS\n",
    "emproc\n",
    "cd Main\n",
    "epproc\n",
    "cd ..\n",
    "cd Oot\n",
    "epproc withoutoftime=yes\n",
    "'''\n",
    "import glob\n",
    "data_dir = '/stage/headat/yanling/xmm/reduction_230227/101'\n",
    "os.chdir(data_dir)\n",
    "pn_path = f'{data_dir}/Main'\n",
    "Oot_path = f'{data_dir}/Oot'\n",
    "\n",
    "# os.system(f'cp {pn_path}/*_ImagingEvts*.ds .')\n",
    "# os.system(f'cp {Oot_path}/*_ImagingEvts*.ds 1378_0502020201_Oot_S003_ImagingEvts.ds')\n"
   ]
  },
  {
   "cell_type": "markdown",
   "metadata": {},
   "source": [
    "# 1. Extract lc"
   ]
  },
  {
   "cell_type": "code",
   "execution_count": null,
   "metadata": {},
   "outputs": [],
   "source": [
    "'''\n",
    "We are doing twice cleaning\n",
    "1. 10-12 keV for mos, 10-14 keV for PN\n",
    "2. 0.4-1 keV for mos and pn\n",
    "\n",
    "'''\n",
    "f = open(f'{data_dir}/data_lc.sh', 'w')\n",
    "instruments=['EMOS1', 'EMOS2', 'EPN', 'Oot']\n",
    "energy_bands_1 = [(10, 12), (10,12), (10,14), (10,14)]\n",
    "energy_bands_2 = [(0.4, 1), (0.4, 1), (0.4, 1), (0.4, 1)]\n",
    "# energy_bands_2 = [(4, 10), (4, 10), (4, 10), (4, 10)]\n",
    "for energy_bands in [energy_bands_2]:\n",
    "    for i, instrument in enumerate(instruments):\n",
    "        if(instrument == 'EPN') or (instrument =='Oot'):\n",
    "            ins = 'EP'\n",
    "            pattern = 4\n",
    "        else:\n",
    "            ins = 'EM'\n",
    "            pattern = 12\n",
    "\n",
    "        fname = glob.glob(f'*{instrument}*_ImagingEvts.ds')[0]\n",
    "\n",
    "        print(f'evselect table={fname} withrateset=Y rateset=rate_{int(1000*energy_bands[i][0])}-{int(1000*energy_bands[i][1])}_{instrument}.fits \\\n",
    "maketimecolumn=Y timebinsize=100 makeratecolumn=Y expression=\"#XMMEA_{ins} && (PI in [{int(1000*energy_bands[i][0])}:{int(1000*energy_bands[i][1])}]) && (PATTERN<={pattern})\"')\n",
    "        f.write(f'evselect table={fname} withrateset=Y rateset=rate_{int(1000*energy_bands[i][0])}-{int(1000*energy_bands[i][1])}_{instrument}.fits \\\n",
    "maketimecolumn=Y timebinsize=100 makeratecolumn=Y expression=\"#XMMEA_{ins} && (PI in [{int(1000*energy_bands[i][0])}:{int(1000*energy_bands[i][1])}]) && (PATTERN<={pattern})\"\\n')\n",
    "f.close()"
   ]
  },
  {
   "cell_type": "markdown",
   "metadata": {},
   "source": [
    "plot lightcone"
   ]
  },
  {
   "cell_type": "code",
   "execution_count": null,
   "metadata": {},
   "outputs": [],
   "source": [
    "files = ['rate_Oot']\n",
    "\n",
    "for file in files:\n",
    "    hdul = fits.open(f'{file}.fits')\n",
    "    dat = hdul[1].data\n",
    "    hdul.close()\n",
    "    plt.figure(figsize = (8,8))\n",
    "    plt.scatter(dat['TIME'],dat['RATE'])#, yerr=dat['ERROR'])\n",
    "    # plt.axhline(1.264, color = 'r')\n",
    "    plt.axhline(0.35, color = 'r')\n",
    "    plt.title(f'{file}')\n",
    "    plt.show()"
   ]
  },
  {
   "cell_type": "code",
   "execution_count": null,
   "metadata": {},
   "outputs": [],
   "source": [
    "# show gti\n",
    "# os.chdir(tmp_dir)\n",
    "from astropy.io import fits\n",
    "\n",
    "os.chdir(f'{data_dir}')\n",
    "hdul = fits.open('EMOS2_gti.fits')\n",
    "hdul.info()\n",
    "hdul.close()"
   ]
  },
  {
   "cell_type": "code",
   "execution_count": null,
   "metadata": {},
   "outputs": [],
   "source": [
    "import numpy as np\n",
    "import matplotlib.pyplot as plt\n",
    "from astropy.io import fits\n",
    "for obs in ['201']:\n",
    "    fig = plt.subplots(figsize = (8,8))\n",
    "    data_dir = f'/stage/headat/yanling/xmm/reduction_230227/{obs}'\n",
    "    os.chdir(data_dir)\n",
    "    hdul = fits.open('EMOS1_gti_loband_2023-05-05.fits')\n",
    "    dat1 = np.array(hdul[1].data)\n",
    "    hdul.close()\n",
    "    hdul = fits.open('EMOS2_gti_loband_2023-05-05.fits')\n",
    "    dat2 = np.array(hdul[1].data)\n",
    "    hdul.close()\n",
    "    cb = ['#0173b2', '#de8f05', '#029e73', '#d55e00', '#cc78bc', '#ca9161', '#fbafe4', '#949494', '#ece133', '#56b4e9']\n",
    "\n",
    "    for j,dat in enumerate([dat1, dat2]):\n",
    "        for i in range(1,len(dat)):\n",
    "            plt.hlines(j, dat['START'][i], dat['STOP'][i],color = cb[j], lw=4)\n",
    "    plt.title(f'obs{obs}')\n",
    "    plt.legend(loc = 'center right')\n",
    "    plt.text(np.mean(dat['START']), 0.5, f\"MOS1 sumtime: {np.sum(dat1['STOP']-dat1['START'])}\")\n",
    "    plt.text(np.mean(dat['START']), 0.4, f\"MOS2 sumtime: {np.sum(dat2['STOP']-dat2['START'])}\")\n"
   ]
  },
  {
   "cell_type": "code",
   "execution_count": null,
   "metadata": {},
   "outputs": [],
   "source": [
    "plt.close()"
   ]
  },
  {
   "cell_type": "markdown",
   "metadata": {},
   "source": [
    "fit lightcone with gaussian to determine the most stable ctr upper limit"
   ]
  },
  {
   "cell_type": "code",
   "execution_count": null,
   "metadata": {},
   "outputs": [],
   "source": [
    "files = ['EMOS1', 'EMOS2', 'EPN', 'Oot']\n",
    "for file in files:\n",
    "    fit(f'rate_{file}.fits', './', PN_cts_limit = 1.3, EMOS_cts_limit = 0.4,)"
   ]
  },
  {
   "cell_type": "markdown",
   "metadata": {},
   "source": [
    "filter data based on gaussian fit and visual inspect"
   ]
  },
  {
   "cell_type": "code",
   "execution_count": null,
   "metadata": {},
   "outputs": [],
   "source": [
    "# generate gti files after gaussian fitting the lightcurve\n",
    "# generate the filtered events and images of [corner(_oofov)] and [all fov without corner region(_fov)]\n",
    "\n",
    "from fit_gauss_to_lc import fit_lc_dirty, create_logfile\n",
    "import datetime\n",
    "import glob\n",
    "# Create GTI and filter\n",
    "instruments = ['EMOS1', 'EMOS2', 'EPN', 'Oot']\n",
    "energy_bands_1 = [(10, 12), (10,12), (10,14), (10,14)]\n",
    "energy_bands_2 = [(0.4, 1), (0.4, 1), (0.4, 1), (0.4, 1)]\n",
    "# energy_bands_2 = [(4, 10), (4, 10), (4, 10), (4, 10)]\n",
    "scale = [2,2,2,2]\n",
    "'''\n",
    "first extract lightcurves at high energy band and low energy band, \n",
    "and fit the gaussian for two bands in parallel, and use these 2 gti to extract image from origin event file.\n",
    "\n",
    "STEP0: extract lightcurves\n",
    "Generate lightcurve of 10-12 keV, 0.4-1keV for EMOS1, EMOS2. \n",
    "Generate lightcurve of 10-14 keV, 0.4-1keV for EPN, Oot.\n",
    "The time bin is 100s.\n",
    "-> rate_10000-12000_EMOS*.fits, rate_10000-14000_EPN.fits, rate_10000-14000_Oot.fits, rate_400-1000_EMOS*.fits,\n",
    "\n",
    "STEP1: clean at high energy range\n",
    "For 10-12keV (10-14 keV) lightcurve for EMOS (EPN), fit gaussian iteratively until the parameters don't change. \n",
    "Visually inspect if the fitting curve and the data look like gaussian, if not, lower the ctr limit and refit.\n",
    "Finally, for EMOS1 in obs101, limit ctr< 0.3 looks like gaussian. \n",
    "-> {inst}_gti_hiband.fits, {inst}_hiband_clean_fov.fits, rate_400-1000_{inst}_hiband_clean.fits\n",
    "\n",
    "STEP2: clean at low energy range (0.4-1 keV)\n",
    "-> {inst}_gti_loband.fits, {inst}_hiband_loband_clean_fov.fits\n",
    "\n",
    "STEP3: calculate exptime after filtered\n",
    "'''\n",
    "\n",
    "\n",
    "# firstly filter the gti for high energy band (10-12keV for mos, 10-14keV for pn)\n",
    "\n",
    "energy_names = ['hiband', 'loband']\n",
    "os.chdir(f'/stage/headat/yanling/XMM_datareduction')\n",
    "today = datetime.date.today()\n",
    "for obs in ['101', '201']:\n",
    "    os.system(f'rm log/{datetime.date.today()}/{obs}/*')\n",
    "    print(obs)\n",
    "    energy_bands = energy_bands_1\n",
    "    j = 0\n",
    "    data_dir = f'/stage/headat/yanling/xmm/reduction_230227/{obs}'\n",
    "    f1 = open(f'{data_dir}/data_gti_{energy_names[j]}_{datetime.date.today()}.sh', 'w')\n",
    "    f2 = open(f'{data_dir}/data_clean_{energy_names[j]}_{datetime.date.today()}.sh', 'w')\n",
    "    for i, instrument in enumerate(instruments):\n",
    "        # define output_filenames\n",
    "        gtifile = f'{instrument}_gti_{energy_names[j]}_{today}.fits'\n",
    "        output_evtfile = f'{instrument}_{energy_names[j]}_clean_{today}'\n",
    "        # create logger\n",
    "        os.makedirs(f'log/{datetime.date.today()}/{obs}', exist_ok=True)\n",
    "        logger = create_logfile('fit_lc_dirty', f'log/{datetime.date.today()}/{obs}/fit_lc_dirty.log')\n",
    "        logger.info(f'filtering {fname}')\n",
    "        figpath = f'/stage/headat/yanling/XMM_datareduction/fig/{datetime.date.today()}/{obs}'\n",
    "        os.makedirs(figpath, exist_ok=True)\n",
    "        \n",
    "        # mos and pn have different hiband for filtering\n",
    "        if(instrument == 'EPN') or (instrument =='Oot'):\n",
    "            ins = 'EP'\n",
    "            input_lc = f'rate_10000-14000_{instrument}.fits'\n",
    "        else:\n",
    "            ins = 'EM'\n",
    "            input_lc = f'rate_10000-12000_{instrument}.fits'\n",
    "\n",
    "        input_evtfile = glob.glob(f'{data_dir}/*{instrument}*_ImagingEvts.ds')[0]\n",
    "        input_evtfile = input_evtfile.split('/')[-1]\n",
    "        # fit the lightcurve with gaussian, determine filtering criteria\n",
    "        amp, mean, sigma, hist, bin_mid = fit_lc_dirty(25, input_lc, data_dir, scale[i], 120, logger, figpath = figpath, EMOS_cts_limit=0.3, PLOT=False)\n",
    "        max_cts = 2*sigma + mean\n",
    "        # generate the gti: we use the rate_* lightcurve file to extract gti\n",
    "        f1.write(f'tabgtigen table={input_lc} expression=\"RATE<={max_cts}\" gtiset={gtifile}\\n')  \n",
    "        # generate the events of [corner(_oofov)] and [all fov without corner region(_fov)] by the above gti\n",
    "        f2.write(f'evselect table={input_evtfile} withfilteredset=Y filteredset={output_evtfile}_oofov.fits destruct=Y keepfilteroutput=T expression=\"#XMMEA_16&&gti({gtifile},TIME)&&(PI>150)\"\\n') \n",
    "        f2.write(f'evselect table={input_evtfile} withfilteredset=Y filteredset={output_evtfile}_fov.fits destruct=Y keepfilteroutput=T expression=\"#XMMEA_{ins}&&gti({gtifile},TIME)&&(PI>150)\"\\n')\n",
    "        # generate the corresponding images of previously generated events\n",
    "        f2.write(f'evselect table={output_evtfile}_fov.fits xcolumn=X ycolumn=Y imagebinning=binSize ximagebinsize=80 yimagebinsize=80 withimageset=Y imageset={output_evtfile}_fov.img \\n')\n",
    "        f2.write(f'evselect table={output_evtfile}_oofov.fits xcolumn=X ycolumn=Y imagebinning=binSize ximagebinsize=20 yimagebinsize=20 withimageset=Y imageset={output_evtfile}_oofov.img \\n')\n",
    "    f2.close()\n",
    "    f1.close()\n",
    "\n",
    "    \n"
   ]
  },
  {
   "cell_type": "code",
   "execution_count": null,
   "metadata": {},
   "outputs": [],
   "source": [
    "# NOTICE: RUN data_gti_hiband.sh  & data_clean_hiband.sh in 101 and 201 dir first then run the following\n",
    "# then further filter the gti previously filtered gti for lower broad energy band (4-10 keV for mos and pn)\n",
    "instruments = ['EMOS1', 'EMOS2', 'EPN', 'Oot']\n",
    "date = '2023-05-05'\n",
    "for obs in ['101', '201']:\n",
    "    energy_bands = energy_bands_2\n",
    "    j = 1\n",
    "    data_dir = f'/stage/headat/yanling/xmm/reduction_230227/{obs}'\n",
    "    scale = [2,2,2,2]\n",
    "    f1 = open(f'{data_dir}/data_gti_{energy_names[j]}_{date}.sh', 'w')\n",
    "    f2 = open(f'{data_dir}/data_clean_{energy_names[j]}_{date}.sh', 'w')\n",
    "\n",
    "    for i, instrument in enumerate(instruments):\n",
    "        # define output_filenames\n",
    "        gtifile = f'{instrument}_gti_loband_{date}.fits'\n",
    "        gtifile1 = f'{instrument}_gti_hiband_{date}.fits'\n",
    "        output_evtfile = f'{instrument}_hiband_loband_clean_{date}'\n",
    "        # create logger\n",
    "        logger = create_logfile('fit_lc_dirty', f'log/{date}/{obs}/fit_lc_dirty_loband.log')\n",
    "        logger.info(f'filtering {fname}')\n",
    "        figpath = f'/stage/headat/yanling/XMM_datareduction/fig/{date}/{obs}'\n",
    "        os.makedirs(figpath, exist_ok=True)\n",
    "\n",
    "        if(instrument == 'EPN') or (instrument =='Oot'):\n",
    "            ins = 'EP'\n",
    "        else:\n",
    "            ins = 'EM'\n",
    "\n",
    "        # take the evtfile filtered by hiband just now\n",
    "        input_evtfile = f'{instrument}_hiband_clean_{date}'\n",
    "        # mos and pn have same loband\n",
    "        input_lc = f'rate_400-1000_{instrument}.fits'\n",
    "        # fit the lightcurve with gaussian, determine filtering criteria\n",
    "        amp, mean, sigma, hist, bin_mid = fit_lc_dirty(25, input_lc, data_dir, scale[i], 120, logger, figpath = figpath, EMOS_cts_limit=0.6, PN_cts_limit=3, PLOT=False)\n",
    "        max_cts = 2*sigma + mean\n",
    "        # generate the gti\n",
    "        f1.write(f'tabgtigen table={input_lc} expression=\"RATE<={max_cts}\" gtiset={gtifile}\\n')              \n",
    "        # generate the events of [corner(_oofov)] and [all fov without corner region(_fov)]\n",
    "        f2.write(f'evselect table={input_evtfile}_oofov.fits withfilteredset=Y filteredset={output_evtfile}_oofov.fits destruct=Y keepfilteroutput=T expression=\"gti({gtifile},TIME)&&gti({gtifile1},TIME)&&(PI>150)\"\\n')\n",
    "        f2.write(f'evselect table={input_evtfile}_fov.fits withfilteredset=Y filteredset={output_evtfile}_fov.fits destruct=Y keepfilteroutput=T expression=\"#XMMEA_{ins}&&gti({gtifile},TIME)&&gti({gtifile1},TIME)&&(PI>150)\"\\n')\n",
    "        # generate the corresponding images of previously generated events\n",
    "        f2.write(f'evselect table={output_evtfile}_fov.fits xcolumn=X ycolumn=Y imagebinning=binSize ximagebinsize=80 yimagebinsize=80 withimageset=Y imageset={output_evtfile}_fov.img \\n')\n",
    "        f2.write(f'evselect table={output_evtfile}_oofov.fits xcolumn=X ycolumn=Y imagebinning=binSize ximagebinsize=80 yimagebinsize=80 withimageset=Y imageset={output_evtfile}_oofov.img \\n')\n",
    "        \n",
    "    f2.close()\n",
    "    f1.close()"
   ]
  },
  {
   "cell_type": "code",
   "execution_count": null,
   "metadata": {
    "vscode": {
     "languageId": "shellscript"
    }
   },
   "outputs": [],
   "source": [
    "sh data_gti_hiband.sh\n",
    "sh data_clean_hiband.sh\n",
    "sh data_gti_loband.sh\n",
    "sh data_clean_loband.sh"
   ]
  },
  {
   "cell_type": "markdown",
   "metadata": {},
   "source": [
    "# 2. Extract image"
   ]
  },
  {
   "cell_type": "code",
   "execution_count": null,
   "metadata": {},
   "outputs": [],
   "source": [
    "import glob\n",
    "import datetime\n",
    "for obs in ['101', '201']:\n",
    "    data_dir = f'/stage/headat/yanling/xmm/reduction_230227/{obs}'\n",
    "    os.chdir(data_dir)\n",
    "    # os.system(f'export SAS_CCF=/stage/headat/yanling/xmm/0502020{obs}/ccf.cif')\n",
    "    # os.system(f'export SAS_ODF=/stage/headat/yanling/xmm/0502020{obs}/*SUM.SAS')\n",
    "    f = open(f'data_img_allbands_{today}.sh', 'w')\n",
    "    instruments = ['EMOS1', 'EMOS2', 'EPN', 'Oot']\n",
    "    for instrument in instruments:\n",
    "        for band in ['700-1200', '1200-2000', '2000-5000', '5000-7000']:\n",
    "            blo = band.split('-')[0]\n",
    "            bhi = band.split('-')[1]\n",
    "            if(instrument == 'EPN')or (instrument =='Oot'):\n",
    "                ins = 'EP'\n",
    "                pattern = 4\n",
    "                \n",
    "            else:\n",
    "                ins = 'EM'\n",
    "                pattern = 12\n",
    "                \n",
    "            # Create image\n",
    "            input_evtfile = f'{instrument}_hiband_loband_clean_{today}_fov.fits'\n",
    "            input_attfile = glob.glob('*_AttHk.ds')[0]\n",
    "            output_imgfile = f'{instrument}_counts_nr_{blo}-{bhi}_{today}.img'\n",
    "            output_expmap = f'{instrument}_exp_nr_{blo}-{bhi}_{today}.img'\n",
    "            if instrument=='EMOS1':\n",
    "                f.write(f'evselect table={input_evtfile} xcolumn=X ycolumn=Y imagebinning=binSize ximagebinsize=80 \\\n",
    "yimagebinsize=80 withimageset=true imageset={output_imgfile} \\\n",
    "expression=\"#XMMEA_{ins}&&(PATTERN<={pattern})&&(PI in [{blo}:{bhi}])&&(CCDNR.ne.6)\"\\n')\n",
    "            else:\n",
    "                f.write(f'evselect table={input_evtfile} xcolumn=X ycolumn=Y imagebinning=binSize ximagebinsize=80 \\\n",
    "yimagebinsize=80 withimageset=true imageset={output_imgfile} \\\n",
    "expression=\"#XMMEA_{ins}&&(PATTERN<={pattern})&&(PI in [{blo}:{bhi}])\"\\n')\n",
    "            # Create exposure map \n",
    "            f.write(f'eexpmap imageset={output_imgfile} attitudeset={input_attfile} eventset={input_evtfile} \\\n",
    "expimageset= pimin={blo} pimax={bhi}\\n')\n",
    "            # note: no expmap for oot\n",
    "    f.close()\n",
    "    # os.system(f'sh data_img_allbands.sh') # can't \n",
    "\n"
   ]
  },
  {
   "cell_type": "markdown",
   "metadata": {},
   "source": [
    "check the exptime of the image"
   ]
  },
  {
   "cell_type": "code",
   "execution_count": null,
   "metadata": {
    "vscode": {
     "languageId": "shellscript"
    }
   },
   "outputs": [],
   "source": [
    "fitsheader EPN_counts_nr_700-1200_2023-05-05.img | grep EXPOSURE"
   ]
  },
  {
   "cell_type": "markdown",
   "metadata": {},
   "source": [
    "manage pn image (substract oot data)"
   ]
  },
  {
   "cell_type": "code",
   "execution_count": null,
   "metadata": {},
   "outputs": [],
   "source": [
    "for obs in ['101', '201']:\n",
    "    data_dir = f'/stage/headat/yanling/xmm/reduction_230227/{obs}'\n",
    "    os.chdir(data_dir)\n",
    "    f = open(f'data_pn_corr_bands_{today}.sh', 'w')\n",
    "    for band in ['700-1200', '1200-2000', '2000-5000', '5000-7000']:\n",
    "        frame = 'eff'\n",
    "        # Scale OoT image\n",
    "        if(frame == 'eff'):\n",
    "            f.write(f'farith Oot_counts_nr_{band}_{datetime.date.today()}.img 0.023 Oot_rescaled_counts_{band}_{datetime.date.today()}.img MUL clobber=yes \\n')\n",
    "        elif(frame == 'ff'):\n",
    "            f.write(f'farith Oot_counts_nr_{band}_{datetime.date.today()}.img 0.063 Oot_rescaled_counts_{band}_{datetime.date.today()}.img MUL clobber=yes \\n')\n",
    "        f.write(f'farith EPN_counts_nr_{band}_{datetime.date.today()}.img Oot_rescaled_counts_{band}_{datetime.date.today()}.img EPN_corr_counts_nr_{band}_{datetime.date.today()}.img SUB clobber=yes \\n')\n",
    "    f.close()"
   ]
  },
  {
   "cell_type": "markdown",
   "metadata": {},
   "source": [
    "# Extract bkg"
   ]
  },
  {
   "cell_type": "markdown",
   "metadata": {},
   "source": [
    "filter bkg events by gaussian filtering gti"
   ]
  },
  {
   "cell_type": "code",
   "execution_count": null,
   "metadata": {},
   "outputs": [],
   "source": [
    "from fit_gauss_to_lc import fit_lc_dirty, create_logfile\n",
    "today = datetime.date.today()\n",
    "bkg_dir = '/stage/headat/yanling/xmm/fwc_dat'\n",
    "os.chdir(bkg_dir)\n",
    "figpath = f'/stage/headat/yanling/XMM_datareduction/fig/{datetime.date.today()}/bkg'\n",
    "os.makedirs(figpath, exist_ok=True)\n",
    "\n",
    "files = ['mos1_closed_FF_2022_v2', 'mos2_closed_FF_2022_v2', 'pn_closed_EFF_2022_v2', 'pn_closed_EFF_oot_2022_v2']\n",
    "scale = [2,2,2,2]\n",
    "insts = ['EMOS1', 'EMOS2', 'EPN', 'Oot']\n",
    "f1 = open(f'bkg_gti_{today}.sh', 'w')\n",
    "f2 = open(f'bkg_clean_{today}.sh', 'w')\n",
    "for i, file in enumerate(files):    \n",
    "        # Create GTI and filter\n",
    "        fname = f'rate_{file}_bkg.fits'\n",
    "        os.makedirs(f'/stage/headat/yanling/XMM_datareduction/log/{datetime.date.today()}/bkg', exist_ok=True)\n",
    "        logger = create_logfile('fit_lc_dirty_bkg', f'/stage/headat/yanling/XMM_datareduction/log/{datetime.date.today()}/bkg/fit_lc_dirty.log')\n",
    "        amp, mean, sigma, hist, bin_mid = fit_lc_dirty(25, fname, bkg_dir, scale[i], 1200, logger, PN_cts_limit = 100, EMOS_cts_limit = 100, PLOT=True)\n",
    "        f1.write(f'tabgtigen table={fname} expression=\"RATE<={mean+2*sigma}\" gtiset={insts[i]}_bkg_gti_{datetime.date.today()}.fits\\n')\n",
    "        f2.write(f'evselect table={file}.fits.gz withfilteredset=Y filteredset={insts[i]}_bkg_clean_{datetime.date.today()}.fits destruct=Y keepfilteroutput=T expression=\"gti({insts[i]}_bkg_gti_{datetime.date.today()}.fits,TIME)&&(PI>150)\"\\n')\n",
    "f2.close()\n",
    "f1.close()\n",
    "                "
   ]
  },
  {
   "cell_type": "markdown",
   "metadata": {},
   "source": [
    "reproject bkg events"
   ]
  },
  {
   "cell_type": "code",
   "execution_count": null,
   "metadata": {},
   "outputs": [],
   "source": [
    "\n",
    "bkg_dir = '/stage/headat/yanling/xmm/fwc_dat'\n",
    "os.chdir(bkg_dir)\n",
    "f = open(f'{bkg_dir}/bkg_reproj_evt_{today}.sh', 'w')\n",
    "files = ['mos1_closed_FF_2022_v2', 'mos2_closed_FF_2022_v2', 'pn_closed_EFF_2022_v2', 'pn_closed_EFF_oot_2022_v2']\n",
    "insts = ['EMOS1', 'EMOS2', 'EPN', 'Oot']\n",
    "\n",
    "ralist = [24.409, 24.429]\n",
    "declist = [-12.943, -12.870]\n",
    "palist = [59.440, 60.977]\n",
    "\n",
    "for j in range(2):\n",
    "        obs = f'{j+1}01'\n",
    "        ra = ralist[j]; dec = declist[j]; pa = palist[j]\n",
    "        for i in range(len(insts)):\n",
    "                f.write(f'cp {insts[i]}_bkg_clean_{datetime.date.today()}.fits {insts[i]}_obs{obs}_bkg_clean_{datetime.date.today()}.fits\\n')\n",
    "                f.write(f'evproject eventset={insts[i]}_obs{obs}_bkg_clean_{datetime.date.today()}.fits attsource=fixed attra={ra} attdec={dec} attapos={pa}\\n')\n",
    "\n",
    "f.close()\n",
    "\n",
    "\n"
   ]
  },
  {
   "cell_type": "markdown",
   "metadata": {},
   "source": [
    "determine bkg new scales (which varies with counts and bkg images)"
   ]
  },
  {
   "cell_type": "markdown",
   "metadata": {},
   "source": [
    "extract filtered events and images of oofov area of 9-12 keV in bkg clean instruments"
   ]
  },
  {
   "cell_type": "code",
   "execution_count": null,
   "metadata": {},
   "outputs": [],
   "source": [
    "\n",
    "bkg_dir = '/stage/headat/yanling/xmm/fwc_dat'\n",
    "# after 2005, loss of emos1 ccd6, ccd6 should be excluded\n",
    "instruments = ['EMOS1', 'EMOS2', 'EPN', 'Oot']\n",
    "\n",
    "f = open(f'{bkg_dir}/bkg_oofov_9-12_oofov_img_{today}.sh', 'w')\n",
    "date = datetime.date.today()\n",
    "for obs in ['101', '201']:\n",
    "    for instrument in instruments:\n",
    "\n",
    "        input_evtfile = f'{instrument}_obs{obs}_bkg_clean_{today}.fits'\n",
    "        output_evtfile = f'{instrument}_obs{obs}_bkg_clean_oofov_9-12_{today}.fits'\n",
    "        output_imgfile = f'{instrument}_obs{obs}_bkg_clean_oofov_9-12_{today}.img'\n",
    "\n",
    "        if instrument == 'EPN':\n",
    "            pattern = 4\n",
    "            f.write(f'evselect table={input_evtfile} withfilteredset=Y filteredset={output_evtfile} \\\n",
    "destruct=Y keepfilteroutput=T expression=\"#XMMEA_16&&(PATTERN<={pattern})&&(PI in [9000:12000])\"\\n')\n",
    "\n",
    "        else:\n",
    "            pattern = 12\n",
    "            if instrument == 'EMOS1':\n",
    "                f.write(f'evselect table={input_evtfile} withfilteredset=Y filteredset={output_evtfile} destruct=Y \\\n",
    "keepfilteroutput=T expression=\"#XMMEA_16&&(PATTERN<={pattern})&&(PI in [9000:12000])&&(CCDNR.ne.6)\"\\n')\n",
    "            else:\n",
    "                f.write(f'evselect table={input_evtfile} withfilteredset=Y filteredset={output_evtfile} destruct=Y \\\n",
    "keepfilteroutput=T expression=\"#XMMEA_16&&(PATTERN<={pattern})&&(PI in [9000:12000])\"\\n') #&&region({region_instrument})\n",
    "\n",
    "        f.write(f'evselect table={output_evtfile} xcolumn=X ycolumn=Y imagebinning=binSize \\\n",
    "ximagebinsize=20 yimagebinsize=20 withimageset=true imageset={output_imgfile}\\n')\n",
    "\n",
    "f.close()\n",
    "    \n"
   ]
  },
  {
   "cell_type": "markdown",
   "metadata": {},
   "source": [
    "read bkg counts at oofov area of 9-12 keV"
   ]
  },
  {
   "cell_type": "code",
   "execution_count": null,
   "metadata": {},
   "outputs": [],
   "source": [
    "# NOTICE: obs101 and obs101 bkg files are reprojected from the same file, therefore they have the same counts and counts rate\n",
    "\n",
    "from glob import glob\n",
    "instruments = ['EMOS1', 'EMOS2', 'EPN', 'Oot']\n",
    "# instruments = ['mos1', 'mos2', 'pn']\n",
    "bkg_dir = '/stage/headat/yanling/xmm/fwc_dat'\n",
    "today = datetime.date.today()\n",
    "f = open(f'{bkg_dir}/bkg_counts_{today}.csv', 'w')\n",
    "f.write(f'instrument,bkg_counts,bkg_livetime,bkg_counts/bkg_livetime\\n')\n",
    "bkg_counts_list = np.zeros(len(instruments))\n",
    "bkg_livetime_list = np.zeros(len(instruments))\n",
    "for obs in ['101', '201']:\n",
    "    for i, instrument in enumerate(instruments):\n",
    "        fname = f'{bkg_dir}/{instrument}_obs{obs}_bkg_clean_oofov_9-12_{today}.img'\n",
    "        # fname = glob(f'{bkg_dir}/{instrument}_closed_*FF_2022_v2_bkg_clean_9-12_oofov_img.fits')[0]\n",
    "        hdul = fits.open(fname)\n",
    "        data = hdul[0].data\n",
    "        bkg_counts = np.sum(data)\n",
    "        hdul.close()\n",
    "\n",
    "        # Read livetime for bkg\n",
    "        fname = f'{bkg_dir}/{instrument}_obs{obs}_bkg_clean_oofov_9-12_{today}.fits'\n",
    "        # fname = glob(f'{bkg_dir}/{instrument}_closed_*FF_2022_v2_obs{obs}_bkg_clean.fits')[0]\n",
    "        hdul = fits.open(fname)\n",
    "        data = hdul[1].header\n",
    "        bkg_livetime = data['LIVETI02']\n",
    "        hdul.close()\n",
    "        bkg_counts_list[i] = bkg_counts\n",
    "        bkg_livetime_list[i] = bkg_livetime\n",
    "        print(instrument, bkg_counts, bkg_livetime, bkg_counts/bkg_livetime)\n",
    "        \n",
    "        f.write(f'{instrument},{bkg_counts},{bkg_livetime},{bkg_counts/bkg_livetime}\\n')\n",
    "f.close()\n"
   ]
  },
  {
   "cell_type": "markdown",
   "metadata": {},
   "source": [
    "create events and images of oofov regions of data at 9-12 keV"
   ]
  },
  {
   "cell_type": "code",
   "execution_count": null,
   "metadata": {},
   "outputs": [],
   "source": [
    "for obs in ['101', '201']:\n",
    "    data_dir = f'/stage/headat/yanling/xmm/reduction_230227/{obs}'\n",
    "    os.chdir(data_dir)\n",
    "    instruments = ['EMOS1', 'EMOS2', 'EPN', 'Oot']\n",
    "    f = open(f'{data_dir}/data_oofov_9-12_img_{today}.sh', 'w')\n",
    "    for instrument in instruments:\n",
    "        input_evtfile = f'{instrument}_hiband_loband_clean_{today}_oofov.fits'\n",
    "        output_imgfile = f'{instrument}_oofov_9-12_counts_{today}.img'\n",
    "        if (instrument=='EPN') or (instrument=='Oot'):\n",
    "            pattern=4\n",
    "        else:\n",
    "            pattern = 12\n",
    "        f.write(f'evselect table={input_evtfile} xcolumn=X ycolumn=Y imagebinning=binSize ximagebinsize=20 yimagebinsize=20 \\\n",
    "withfilteredset=Y withimageset=Y imageset={output_imgfile} destruct=Y keepfilteroutput=T expression=\"#XMMEA_16&&(PATTERN<={pattern})&&(PI in [9000:12000])&&(PI>150)\"\\n')\n",
    "\n",
    "    f.close()\n"
   ]
  },
  {
   "cell_type": "markdown",
   "metadata": {},
   "source": [
    "read data counts at oofov area of 9-12 keV"
   ]
  },
  {
   "cell_type": "code",
   "execution_count": null,
   "metadata": {},
   "outputs": [],
   "source": [
    "\n",
    "instruments = ['EMOS1', 'EMOS2', 'EPN', 'Oot']\n",
    "data_counts_list = np.zeros(len(instruments))\n",
    "data_livetime_list = np.zeros(len(instruments))\n",
    "today = '2023-05-05'\n",
    "for obs in ['101', '201']:\n",
    "    data_dir = f'/stage/headat/yanling/xmm/reduction_230227/{obs}'\n",
    "    bkg_dir = '/stage/headat/yanling/xmm/fwc_dat'\n",
    "    f = open(f'{data_dir}/data_oofov_counts_obs{obs}_{today}.csv', 'w')\n",
    "    f.write(f'instrument,data_counts,data_livetime,data_counts/data_livetime\\n')\n",
    "    for i, instrument in enumerate(instruments):\n",
    "        input_evtfile = f'{instrument}_hiband_loband_clean_{today}_oofov.fits'\n",
    "        output_imgfile = f'{instrument}_oofov_9-12_counts_{today}.img'\n",
    "        fname = f'{data_dir}/{output_imgfile}'\n",
    "        hdul = fits.open(fname)\n",
    "        data = hdul[0].data\n",
    "        data_counts = np.sum(data)\n",
    "        hdul.close()\n",
    "\n",
    "        # Read livetime for data\n",
    "        fname = f'{data_dir}/{input_evtfile}'\n",
    "        hdul = fits.open(fname)\n",
    "        data = hdul[1].header\n",
    "        data_livetime = data['LIVETI02']\n",
    "        hdul.close()\n",
    "        data_counts_list[i] = data_counts\n",
    "        data_livetime_list[i] = data_livetime\n",
    "        print(instrument, data_counts, data_livetime, data_counts/data_livetime)\n",
    "        \n",
    "        f.write(f'{instrument},{data_counts},{data_livetime},{data_counts/data_livetime}\\n')\n",
    "f.close()\n"
   ]
  },
  {
   "cell_type": "code",
   "execution_count": null,
   "metadata": {},
   "outputs": [],
   "source": [
    "# Read the counts of oofov area of bkg and data\n",
    "# prerequsite: run the previous two code blocks that generate data_counts_list and bkg_counts_list\n",
    "import pandas as pd\n",
    "today = '2023-05-07'\n",
    "\n",
    "instruments = ['EMOS1', 'EMOS2', 'EPN', 'Oot']\n",
    "\n",
    "for obs in ['101', '201']:\n",
    "    data_dir = f'/stage/headat/yanling/xmm/reduction_230227/{obs}'\n",
    "    \n",
    "    datafile = pd.read_csv(f'{data_dir}/data_oofov_counts_obs{obs}_2023-05-05.csv')\n",
    "    bkgfile = pd.read_csv(f'{bkg_dir}/bkg_counts_{today}.csv')\n",
    "    data_cts = datafile['data_counts']\n",
    "    bkg_cts = bkgfile['bkg_counts'][:4]\n",
    "    file = open(f'{data_dir}/data_bkg_scale_oofov_9-12_ctsratio_counts_obs{obs}_{today}.csv', 'w')\n",
    "    file.write('instrument,ctsratio\\n')\n",
    "    for i, instrument in enumerate(instruments):\n",
    "        file.write(f'{instrument},{(data_cts[i])/(bkg_cts[i])}\\n')\n",
    "    file.close()\n",
    "    print('cts ratio:', (data_cts)/(bkg_cts))"
   ]
  },
  {
   "cell_type": "markdown",
   "metadata": {},
   "source": [
    "extract and scale the bkg images"
   ]
  },
  {
   "cell_type": "code",
   "execution_count": null,
   "metadata": {},
   "outputs": [],
   "source": [
    "import datetime\n",
    "# today = datetime.date.today()\n",
    "today = '2023-05-07'\n",
    "bkg_dir = '/stage/headat/yanling/xmm/fwc_dat'\n",
    "os.chdir(bkg_dir)\n",
    "instruments = ['EMOS1', 'EMOS2', 'EPN', 'Oot']\n",
    "f = open(f'{bkg_dir}/bkg_img_allband_{today}.sh', 'w')\n",
    "for obs in [101, 201]:\n",
    "    data_dir = f'/stage/headat/yanling/xmm/reduction_230227/{obs}'\n",
    "    scales = pd.read_csv(f'{data_dir}/data_bkg_scale_oofov_9-12_ctsratio_counts_obs{obs}_{today}.csv')['ctsratio']\n",
    "    print(scales)\n",
    "    for band in ['700-1200', '1200-2000', '2000-5000', '5000-7000']:\n",
    "        blo = band.split('-')[0]\n",
    "        bhi = band.split('-')[1]\n",
    "\n",
    "        \n",
    "        for i, instrument in enumerate(instruments):\n",
    "            input_evtfile = f'{instrument}_obs{obs}_bkg_clean_2023-05-04.fits'\n",
    "            output_imgfile = f'{input_evtfile.split(\"2023\")[0]}{today}_{blo}-{bhi}.img'\n",
    "\n",
    "            if ('PN' in instrument) or ('Oot' in instrument):\n",
    "                ins = 'EP'\n",
    "                pattern = 4\n",
    "                f.write(f'evselect table={input_evtfile} xcolumn=X ycolumn=Y imagebinning=binSize ximagebinsize=80 \\\n",
    "yimagebinsize=80 withimageset=true imageset={output_imgfile} expression=\"#XMMEA_{ins}&&(PATTERN<={pattern})&&(PI>={blo})&&(PI<={bhi})\"\\n')\n",
    "                \n",
    "            elif 'MOS' in instrument:\n",
    "                ins = 'EM'\n",
    "                pattern = 12\n",
    "                if 'MOS1' in instrument:\n",
    "                    f.write(f'evselect table={input_evtfile} xcolumn=X ycolumn=Y imagebinning=binSize ximagebinsize=80 \\\n",
    "yimagebinsize=80 withimageset=true imageset={output_imgfile} expression=\"#XMMEA_{ins}&&(PATTERN<={pattern})&&(PI>={blo})&&(PI<={bhi})&&(CCDNR.ne.6)\"\\n')\n",
    "\n",
    "                else:\n",
    "                    f.write(f'evselect table={input_evtfile} xcolumn=X ycolumn=Y imagebinning=binSize ximagebinsize=80 \\\n",
    "yimagebinsize=80 withimageset=true imageset={output_imgfile} expression=\"#XMMEA_{ins}&&(PATTERN<={pattern})&&(PI>={blo})&&(PI<={bhi})\"\\n')\n",
    "\n",
    "            f.write(f'farith {output_imgfile} {scales[i]} {output_imgfile.split(\".\")[0]}_scaled.img \"*\" clobber=yes\\n')\n",
    "f.close()"
   ]
  },
  {
   "cell_type": "code",
   "execution_count": null,
   "metadata": {},
   "outputs": [],
   "source": [
    "f = open('bkg_img_allband_2023-05-07.sh')\n",
    "lines = f.readlines()\n",
    "newf = open('bkg_img_allband_2023-05-07_corr_EMOS2.sh', 'w')\n",
    "newlines = []\n",
    "for line in lines:\n",
    "    if 'EMOS2' in line:\n",
    "        newf.write(line)\n",
    "newf.close()\n",
    "f.close()"
   ]
  },
  {
   "cell_type": "markdown",
   "metadata": {},
   "source": [
    "manage PN images"
   ]
  },
  {
   "cell_type": "code",
   "execution_count": null,
   "metadata": {},
   "outputs": [],
   "source": [
    "bkg_dir = '/stage/headat/yanling/xmm/fwc_dat'\n",
    "os.chdir(bkg_dir)\n",
    "f = open(f'bkg_pn_oot_corr_{today}.sh', 'w')\n",
    "for band in ['700-1200', '1200-2000', '2000-5000', '5000-7000']:\n",
    "      blo = band.split('-')[0]\n",
    "      bhi = band.split('-')[1]\n",
    "      frame = 'eff'\n",
    "      # Scale OoT image\n",
    "      for obs in [101,201]:\n",
    "            pn_imgname = f'EPN_obs{obs}_bkg_clean_{today}_{blo}-{bhi}_scaled'\n",
    "            oot_imgname = f'Oot_obs{obs}_bkg_clean_{today}_{blo}-{bhi}_scaled'\n",
    "            if(frame == 'eff'):\n",
    "                  print(f'farith {oot_imgname}.img 0.023 {oot_imgname}_corr.img MUL clobber=yes')\n",
    "                  f.write(f'farith {oot_imgname}.img 0.023 {oot_imgname}_corr.img MUL clobber=yes\\n')\n",
    "                  \n",
    "            elif(frame == 'ff'):\n",
    "                  print(f'farith {oot_imgname}.img 0.063 {oot_imgname}_corr.img MUL clobber=yes')\n",
    "                  f.write(f'farith {oot_imgname}.img 0.063 {oot_imgname}_corr.img MUL clobber=yes\\n')\n",
    "\n",
    "            print(f'farith {pn_imgname}.img {oot_imgname}_corr.img {pn_imgname}_corr.img SUB clobber=yes')\n",
    "            f.write(f'farith {pn_imgname}.img {oot_imgname}_corr.img {pn_imgname}_corr.img SUB clobber=yes\\n')\n",
    "f.close()"
   ]
  },
  {
   "cell_type": "markdown",
   "metadata": {},
   "source": [
    "check the images"
   ]
  },
  {
   "cell_type": "code",
   "execution_count": null,
   "metadata": {},
   "outputs": [],
   "source": [
    "# from astropy.visualization import astropy_mpl_style\n",
    "import matplotlib.colors as colors\n",
    "import matplotlib.pyplot as plt\n",
    "# plt.style.use(astropy_mpl_style)\n",
    "plt.style.use('default')\n",
    "from astropy.utils.data import get_pkg_data_filename\n",
    "from astropy.wcs import WCS\n",
    "from astropy.convolution import convolve\n",
    "from astropy.convolution import Gaussian2DKernel\n",
    "from astropy.io import fits\n",
    "import numpy as np\n",
    "kernel = Gaussian2DKernel(x_stddev=1)\n",
    "# 'EPN_corr_counts'\n",
    "#EMOS1_obs101_bkg_clean_2023-05-04_1200-2000_scaled.img\n",
    "file = f\"{bkg_dir}/EMOS2_obs101_bkg_clean_2023-05-07_1200-2000_scaled\"\n",
    "hdu = fits.open(f'{file}.img')[0]\n",
    "image_data = hdu.data\n",
    "print(image_data.shape)\n",
    "fig = plt.figure(figsize = (6,6))\n",
    "ax = fig.add_axes([0.1, 0.1, 0.8, 0.8], projection=WCS(f'{file}.img'))\n",
    "ra = ax.coords[0]\n",
    "dec = ax.coords[1]\n",
    "# plt.grid(color='grey', ls='dashed')\n",
    "plt.grid('off')\n",
    "ra.set_axislabel('RA')\n",
    "dec.set_axislabel('Dec')\n",
    "image_data = np.where(np.isfinite(np.log10(image_data)), image_data, np.nan)\n",
    "astropy_conv = convolve(image_data, kernel)\n",
    "plt.imshow(astropy_conv[50:650,50:550], cmap='gnuplot2', norm = colors.LogNorm(), origin='lower')\n",
    "plt.colorbar()\n",
    "plt.savefig(f'{file}.png')\n",
    "plt.show()\n",
    "plt.clf()\n"
   ]
  },
  {
   "cell_type": "markdown",
   "metadata": {},
   "source": [
    "# 3. emosaic image and bkg images, and substract image with bkg \n",
    "\n",
    "remember to generate bkg images for new energy bands in xmm_bkg_extraction.ipynb!"
   ]
  },
  {
   "cell_type": "code",
   "execution_count": null,
   "metadata": {},
   "outputs": [],
   "source": [
    "import datetime\n",
    "workdir = f'/stage/headat/yanling/xmm/reduction_230227/merged/{today}'\n",
    "os.makedirs(workdir, exist_ok=True)\n",
    "os.chdir(workdir)\n",
    "for obs in [101, 201]:\n",
    "        for band in ['700-1200', '1200-2000', '2000-5000', '5000-7000']:\n",
    "                os.system(f'cp /stage/headat/yanling/xmm/fwc_dat/EMOS1_obs{obs}_bkg_clean_{today}_{band}_scaled.img .')\n",
    "                os.system(f'cp /stage/headat/yanling/xmm/fwc_dat/EMOS2_obs{obs}_bkg_clean_{today}_{band}_scaled.img .')\n",
    "                os.system(f'cp /stage/headat/yanling/xmm/fwc_dat/EPN_obs{obs}_bkg_clean_{today}_{band}_scaled_corr.img .')\n",
    "\n",
    "                # os.system(f'cp /stage/headat/yanling/xmm/reduction_230227/{obs}/EMOS1_counts_nr_{band}_{today}.img EMOS1_counts_obs{obs}_{band}_{today}.img')\n",
    "                # os.system(f'cp /stage/headat/yanling/xmm/reduction_230227/{obs}/EMOS2_counts_nr_{band}_{today}.img EMOS2_counts_obs{obs}_{band}_{today}.img')\n",
    "                # os.system(f'cp /stage/headat/yanling/xmm/reduction_230227/{obs}/EPN_corr_counts_nr_{band}_{today}.img EPN_counts_obs{obs}_{band}_{today}.img')\n",
    "\n",
    "                # os.system(f'cp /stage/headat/yanling/xmm/reduction_230227/{obs}/EMOS1_exp_nr_{band}_{today}.img EMOS1_exp_obs{obs}_{band}_{today}.img')\n",
    "                # os.system(f'cp /stage/headat/yanling/xmm/reduction_230227/{obs}/EMOS2_exp_nr_{band}_{today}.img EMOS2_exp_obs{obs}_{band}_{today}.img')\n",
    "                # os.system(f'cp /stage/headat/yanling/xmm/reduction_230227/{obs}/EPN_exp_nr_{band}_{today}.img EPN_exp_obs{obs}_{band}.img')\n"
   ]
  },
  {
   "cell_type": "markdown",
   "metadata": {},
   "source": [
    "merge btw instruments"
   ]
  },
  {
   "cell_type": "code",
   "execution_count": null,
   "metadata": {},
   "outputs": [],
   "source": [
    "date = '2023-05-05'\n",
    "today = '2023-05-07'\n",
    "workpath = '/stage/headat/yanling/xmm/reduction_230227/merged/2023-05-07'\n",
    "f = open(f'{workpath}/img_merge_obs_bands_{today}.sh' , 'w')\n",
    "for band in ['700-1200', '1200-2000', '2000-5000', '5000-7000',]:    \n",
    "    datas = f'EMOS1_counts_obs101_{band}_{date}.img EMOS1_counts_obs201_{band}_{date}.img'\n",
    "    exps = f'EMOS1_exp_obs101_{band}_{date}.img EMOS1_exp_obs201_{band}_{date}.img'\n",
    "    bkgs = f'EMOS1_obs101_bkg_clean_{today}_{band}_scaled.img EMOS1_obs201_bkg_clean_{today}_{band}_scaled.img'\n",
    "    print(f'emosaic imagesets=\"{datas}\" mosaicedset=EMOS1_cts_{band}_{today}.img withexposure=no')\n",
    "    print(f'emosaic imagesets=\"{exps}\" mosaicedset=EMOS1_exp_{band}_{today}.img withexposure=no')\n",
    "    print(f'emosaic imagesets=\"{bkgs}\" mosaicedset=EMOS1_bkg_{band}_{today}.img withexposure=no')\n",
    "    f.write(f'emosaic imagesets=\"{datas}\" mosaicedset=EMOS1_cts_{band}_{today}.img withexposure=no\\n')\n",
    "    f.write(f'emosaic imagesets=\"{exps}\" mosaicedset=EMOS1_exp_{band}_{today}.img withexposure=no\\n')\n",
    "    f.write(f'emosaic imagesets=\"{bkgs}\" mosaicedset=EMOS1_bkg_{band}_{today}.img withexposure=no\\n')\n",
    "\n",
    "    datas = f'EMOS2_counts_obs101_{band}_{date}.img EMOS2_counts_obs201_{band}_{date}.img'\n",
    "    exps = f'EMOS2_exp_obs101_{band}_{date}.img EMOS2_exp_obs201_{band}_{date}.img'\n",
    "    bkgs = f'EMOS2_obs101_bkg_clean_{today}_{band}_scaled.img EMOS2_obs201_bkg_clean_{today}_{band}_scaled.img'\n",
    "    print(f'emosaic imagesets=\"{datas}\" mosaicedset=EMOS2_cts_{band}_{today}.img withexposure=no')\n",
    "    print(f'emosaic imagesets=\"{exps}\" mosaicedset=EMOS2_exp_{band}_{today}.img withexposure=no')\n",
    "    print(f'emosaic imagesets=\"{bkgs}\" mosaicedset=EMOS2_bkg_{band}_{today}.img withexposure=no')\n",
    "    f.write(f'emosaic imagesets=\"{datas}\" mosaicedset=EMOS2_cts_{band}_{today}.img withexposure=no\\n')\n",
    "    f.write(f'emosaic imagesets=\"{exps}\" mosaicedset=EMOS2_exp_{band}_{today}.img withexposure=no\\n')\n",
    "    f.write(f'emosaic imagesets=\"{bkgs}\" mosaicedset=EMOS2_bkg_{band}_{today}.img withexposure=no\\n')\n",
    "\n",
    "    datas = f'EPN_counts_obs101_{band}_{date}.img EPN_counts_obs201_{band}_{date}.img'\n",
    "    exps = f'EPN_exp_obs101_{band}.img EPN_exp_obs201_{band}.img'\n",
    "    bkgs = f'EPN_obs101_bkg_clean_{today}_{band}_scaled_corr.img EPN_obs201_bkg_clean_{today}_{band}_scaled_corr.img'\n",
    "    print(f'emosaic imagesets=\"{datas}\" mosaicedset=EPN_cts_{band}_{today}.img withexposure=no')\n",
    "    print(f'emosaic imagesets=\"{exps}\" mosaicedset=EPN_exp_{band}_{today}.img withexposure=no')\n",
    "    print(f'emosaic imagesets=\"{bkgs}\" mosaicedset=EPN_bkg_{band}_{today}.img withexposure=no')\n",
    "    f.write(f'emosaic imagesets=\"{datas}\" mosaicedset=EPN_cts_{band}_{today}.img withexposure=no\\n')\n",
    "    f.write(f'emosaic imagesets=\"{exps}\" mosaicedset=EPN_exp_{band}_{today}.img withexposure=no\\n')\n",
    "    f.write(f'emosaic imagesets=\"{bkgs}\" mosaicedset=EPN_bkg_{band}_{today}.img withexposure=no\\n')\n",
    "f.close()"
   ]
  },
  {
   "cell_type": "markdown",
   "metadata": {},
   "source": [
    "emosaic all images"
   ]
  },
  {
   "cell_type": "code",
   "execution_count": null,
   "metadata": {},
   "outputs": [],
   "source": [
    "workdir = '/stage/headat/yanling/xmm/reduction_230227/merged/2023-05-07'\n",
    "os.chdir(workdir)\n",
    "f = open(f'img_merge_all_bands_{today}.sh' , 'w')\n",
    "for band in ['700-1200', '1200-2000', '2000-5000', '5000-7000',]:\n",
    "    datas = f'EMOS1_cts_{band}_{today}.img EMOS2_cts_{band}_{today}.img EPN_cts_{band}_{today}.img'\n",
    "    exps = f'EMOS1_exp_{band}_{today}.img EMOS2_exp_{band}_{today}.img EPN_exp_{band}_{today}.img'\n",
    "    bkgs = f'EMOS1_bkg_{band}_{today}.img EMOS2_bkg_{band}_{today}.img EPN_bkg_{band}_{today}.img'\n",
    "\n",
    "    print(f'emosaic imagesets=\"{datas}\" mosaicedset=EPIC_cts_{band}_{today}.img withexposure=no')\n",
    "    print(f'emosaic imagesets=\"{exps}\" mosaicedset=EPIC_exp_{band}_{today}.img withexposure=no')\n",
    "    print(f'emosaic imagesets=\"{bkgs}\" mosaicedset=EPIC_bkg_{band}_{today}.img withexposure=no')\n",
    "    f.write(f'emosaic imagesets=\"{datas}\" mosaicedset=EPIC_cts_{band}_{today}.img withexposure=no\\n')\n",
    "    f.write(f'emosaic imagesets=\"{exps}\" mosaicedset=EPIC_exp_{band}_{today}.img withexposure=no\\n')\n",
    "    f.write(f'emosaic imagesets=\"{bkgs}\" mosaicedset=EPIC_bkg_{band}_{today}.img withexposure=no\\n')\n",
    "f.close()"
   ]
  },
  {
   "cell_type": "markdown",
   "metadata": {},
   "source": [
    "subtract bkg"
   ]
  },
  {
   "cell_type": "code",
   "execution_count": null,
   "metadata": {},
   "outputs": [],
   "source": [
    "# data-bkg\n",
    "instruments = ['EMOS1', 'EMOS2', 'EPN']\n",
    "workdir = '/stage/headat/yanling/xmm/reduction_230227/merged'\n",
    "os.chdir(workdir)\n",
    "f = open('data_sub_bkg.sh', 'w')\n",
    "for ins in instruments:\n",
    "    for band in ['700-1200', '1200-2000', '2000-5000', '5000-7000',]:\n",
    "        blo = band.split('-')[0]\n",
    "        bhi = band.split('-')[1]\n",
    "        f.write(f'farith {ins}_cts_{blo}-{bhi}.img {ins}_bkg_{blo}-{bhi}.img {ins}_net_{blo}-{bhi}.img \"-\" clobber=yes\\n')\n",
    "        f.write(f'farith {ins}_net_{blo}-{bhi}.img {ins}_exp_{blo}-{bhi}.img {ins}_net_ctr_{blo}-{bhi}.img \"/\" clobber=yes\\n')\n",
    "f.close()"
   ]
  },
  {
   "cell_type": "markdown",
   "metadata": {},
   "source": [
    "only merge mos1, mos2"
   ]
  },
  {
   "cell_type": "code",
   "execution_count": null,
   "metadata": {},
   "outputs": [],
   "source": [
    "workdir = '/stage/headat/yanling/xmm/reduction_230227/merged/2023-05-07'\n",
    "os.chdir(workdir)\n",
    "f = open(f'img_merge_mos_all_bands_{today}.sh' , 'w')\n",
    "for band in ['700-1200', '1200-2000', '2000-5000', '5000-7000']:\n",
    "    blo = band.split('-')[0]\n",
    "    bhi = band.split('-')[1]\n",
    "    \n",
    "    datas = f'EMOS1_cts_{band}_{today}.img EMOS2_cts_{band}_{today}.img'\n",
    "    exps = f'EMOS1_exp_{band}_{today}.img EMOS2_exp_{band}_{today}.img'\n",
    "    bkgs = f'EMOS1_bkg_{band}_{today}.img EMOS2_bkg_{band}_{today}.img'\n",
    "\n",
    "    # print(f'emosaic imagesets=\"{datas}\" mosaicedset=EMOS_cts_{band}_{today}.img withexposure=no')\n",
    "    # print(f'emosaic imagesets=\"{exps}\" mosaicedset=EMOS_exp_{band}_{today}.img withexposure=no')\n",
    "    # print(f'emosaic imagesets=\"{bkgs}\" mosaicedset=EMOS_bkg_{band}_{today}.img withexposure=no')\n",
    "    f.write(f'emosaic imagesets=\"{datas}\" mosaicedset=EMOS_cts_{band}_{today}.img withexposure=no\\n')\n",
    "    f.write(f'emosaic imagesets=\"{exps}\" mosaicedset=EMOS_exp_{band}_{today}.img withexposure=no\\n')\n",
    "    f.write(f'emosaic imagesets=\"{bkgs}\" mosaicedset=EMOS_bkg_{band}_{today}.img withexposure=no\\n')\n",
    "f.close()"
   ]
  },
  {
   "cell_type": "markdown",
   "metadata": {},
   "source": [
    "merge all energy bands to get 0.7-7 keV, 2-7keV, 1.2-7, 0.7-2 keV band (only for mos)"
   ]
  },
  {
   "cell_type": "code",
   "execution_count": 18,
   "metadata": {},
   "outputs": [],
   "source": [
    "workdir = '/stage/headat/yanling/xmm/reduction_230227/merged/2023-05-07'\n",
    "os.chdir(workdir)\n",
    "f = open(f'img_merge_mos_combine_bands_{today}.sh' , 'w')\n",
    "for type in ['cts', 'exp', 'bkg']:\n",
    "    f.write(f'farith EMOS_{type}_700-1200_{today}.img EMOS_{type}_1200-2000_{today}.img EMOS_{type}_700-2000_{today}.img \"+\"\\n')\n",
    "    f.write(f'farith EMOS_{type}_2000-5000_{today}.img EMOS_{type}_5000-7000_{today}.img EMOS_{type}_2000-7000_{today}.img \"+\"\\n')\n",
    "    f.write(f'farith EMOS_{type}_700-2000_{today}.img EMOS_{type}_2000-7000_{today}.img EMOS_{type}_700-7000_{today}.img \"+\"\\n')\n",
    "    f.write(f'farith EMOS_{type}_1200-2000_{today}.img EMOS_{type}_2000-7000_{today}.img EMOS_{type}_1200-7000_{today}.img \"+\"\\n')\n",
    "\n",
    "f.close()"
   ]
  },
  {
   "cell_type": "markdown",
   "metadata": {},
   "source": [
    "merge all energy bands to get 0.7-7 keV, 2-7keV, 1.2-7, 0.7-2 keV band (only for pn)\n"
   ]
  },
  {
   "cell_type": "code",
   "execution_count": 14,
   "metadata": {},
   "outputs": [],
   "source": [
    "workdir = '/stage/headat/yanling/xmm/reduction_230227/merged/2023-05-07'\n",
    "os.chdir(workdir)\n",
    "f = open(f'img_merge_PN_combine_bands_{today}.sh' , 'w')\n",
    "for type in ['cts', 'exp', 'bkg']:\n",
    "    f.write(f'farith EPN_{type}_700-1200_{today}.img EPN_{type}_1200-2000_{today}.img EPN_{type}_700-2000_{today}.img \"+\"\\n')\n",
    "    f.write(f'farith EPN_{type}_2000-5000_{today}.img EPN_{type}_5000-7000_{today}.img EPN_{type}_2000-7000_{today}.img \"+\"\\n')\n",
    "    f.write(f'farith EPN_{type}_700-2000_{today}.img EPN_{type}_2000-7000_{today}.img EPN_{type}_700-7000_{today}.img \"+\"\\n')\n",
    "    f.write(f'farith EPN_{type}_1200-2000_{today}.img EPN_{type}_2000-7000_{today}.img EPN_{type}_1200-7000_{today}.img \"+\"\\n')\n",
    "\n",
    "f.close()"
   ]
  },
  {
   "cell_type": "markdown",
   "metadata": {},
   "source": [
    "merge all energy bands (for mos and pn)"
   ]
  },
  {
   "cell_type": "code",
   "execution_count": 17,
   "metadata": {},
   "outputs": [],
   "source": [
    "workdir = '/stage/headat/yanling/xmm/reduction_230227/merged/2023-05-07'\n",
    "os.chdir(workdir)\n",
    "f = open(f'img_merge_combine_bands_{today}.sh' , 'w')\n",
    "for type in ['cts', 'exp', 'bkg']:\n",
    "    f.write(f'farith EMOS_{type}_700-2000_{today}.img EPN_{type}_700-2000_{today}.img EPIC_{type}_700-2000_{today}.img \"+\" clobber=yes \\n')\n",
    "    f.write(f'farith EMOS_{type}_2000-7000_{today}.img EPN_{type}_2000-7000_{today}.img EPIC_{type}_2000-7000_{today}.img \"+\" clobber=yes \\n')\n",
    "    f.write(f'farith EMOS_{type}_700-7000_{today}.img EPN_{type}_700-7000_{today}.img EPIC_{type}_700-7000_{today}.img \"+\" clobber=yes \\n')\n",
    "    f.write(f'farith EMOS_{type}_1200-7000_{today}.img EPN_{type}_1200-7000_{today}.img EPIC_{type}_1200-7000_{today}.img \"+\" clobber=yes \\n')\n",
    "\n",
    "f.close()"
   ]
  },
  {
   "cell_type": "markdown",
   "metadata": {},
   "source": [
    "merge masked exposure maps"
   ]
  },
  {
   "cell_type": "code",
   "execution_count": 34,
   "metadata": {},
   "outputs": [],
   "source": [
    "workpath = '/stage/headat/yanling/xmm/reduction_230227/merged/2023-05-07/emosaic_masked_expmap'\n",
    "os.chdir(workpath)\n",
    "today = '2023-05-07'\n",
    "f = open(f'{workpath}/merge_mos_mask_expmaps_{today}.sh' , 'w')\n",
    "bands = ['700-1200', '1200-2000', '2000-5000', '5000-7000']\n",
    "merged_bands = ['700-2000', '2000-7000']\n",
    "types = ['edgemsk_srcmsk_A222_filamsk', 'edgemsk_srcmsk_A223_filamsk', 'edgemsk_srcmsk', 'edgemsk']\n",
    "# only EMOS, separate bands\n",
    "for band in bands:\n",
    "    for type in types:\n",
    "        for obs in ['101', '201']:\n",
    "            exps = f'EMOS1_exp_obs{obs}_{band}_2023-05-05_{today}_{type}.fits EMOS2_exp_obs{obs}_{band}_2023-05-05_{today}_{type}.fits'\n",
    "            f.write(f'emosaic imagesets=\"{exps}\" mosaicedset=EMOS_exp_obs{obs}_{band}_{today}_{type}.fits withexposure=no\\n')\n",
    "        f.write(f'emosaic imagesets=\"EMOS_exp_obs101_{band}_{today}_{type}.fits EMOS_exp_obs201_{band}_{today}_{type}.fits\" mosaicedset=EMOS_exp_{band}_{today}_{type}.fits withexposure=no\\n')\n",
    "f.close()\n",
    "\n",
    "# only EPN, separate bands\n",
    "f = open(f'{workpath}/merge_pn_mask_expmaps_{today}.sh' , 'w')\n",
    "for band in bands:\n",
    "    for type in types:\n",
    "        exps = f'EPN_exp_obs101_{band}_{today}_{type}.fits EPN_exp_obs201_{band}_{today}_{type}.fits'\n",
    "        f.write(f'emosaic imagesets=\"{exps}\" mosaicedset=EPN_exp_{band}_{today}_{type}.fits withexposure=no\\n')\n",
    "f.close()\n",
    "\n",
    "# EPIC = EPN + EMOS, separate bands\n",
    "f = open(f'{workpath}/merge_epic_mask_expmaps_{today}.sh' , 'w')\n",
    "for band in bands:\n",
    "    for type in types:\n",
    "        exps = f'EPN_exp_{band}_{today}_{type}.fits EMOS_exp_{band}_{today}_{type}.fits'\n",
    "        f.write(f'emosaic imagesets=\"{exps}\" mosaicedset=EPIC_exp_{band}_{today}_{type}.fits withexposure=no\\n')\n",
    "f.close()\n",
    "\n",
    "# EPIC, EPN, EMOS, merged bands using farith\n",
    "f = open(f'{workpath}/merge_bands_expmaps_epic_epn_emos_{today}.sh' , 'w')\n",
    "for inst in ['EMOS', 'EPN', 'EPIC']:\n",
    "    for type in types:\n",
    "        f.write(f'farith {inst}_exp_700-1200_{today}_{type}.fits {inst}_exp_1200-2000_{today}_{type}.fits {inst}_exp_700-2000_{today}_{type}.fits \"+\"\\n')\n",
    "        f.write(f'farith {inst}_exp_2000-5000_{today}_{type}.fits {inst}_exp_5000-7000_{today}_{type}.fits {inst}_exp_2000-7000_{today}_{type}.fits \"+\"\\n')\n",
    "        f.write(f'farith {inst}_exp_700-2000_{today}_{type}.fits {inst}_exp_2000-7000_{today}_{type}.fits {inst}_exp_700-7000_{today}_{type}.fits \"+\"\\n')\n",
    "        f.write(f'farith {inst}_exp_1200-2000_{today}_{type}.fits {inst}_exp_2000-7000_{today}_{type}.fits {inst}_exp_1200-7000_{today}_{type}.fits \"+\"\\n')\n",
    "f.close()"
   ]
  },
  {
   "cell_type": "markdown",
   "metadata": {},
   "source": [
    "# 5. wavdetect xmm"
   ]
  },
  {
   "cell_type": "markdown",
   "metadata": {},
   "source": [
    "create fov image"
   ]
  },
  {
   "cell_type": "code",
   "execution_count": null,
   "metadata": {},
   "outputs": [],
   "source": [
    "f = open('gen_fov.sh', 'w')\n",
    "instruments = ['EPIC']\n",
    "for ins in instruments:\n",
    "    print(f'dmimgcalc {ins}_net.img none {ins}_psf.fits op=\"imgout=((img1*0)+9.0)\" clobber=yes')\n",
    "    f.write(f'dmimgcalc {ins}_net.img none {ins}_psf.fits op=\"imgout=((img1*0)+9.0)\" clobber=yes\\n')\n",
    "    print(f'dmhedit {ins}_psf.fits none add BUNIT \"arcsec\"')\n",
    "    f.write(f'dmhedit {ins}_psf.fits none add BUNIT \"arcsec\"\\n')\n",
    "\n",
    "f.close()\n"
   ]
  },
  {
   "cell_type": "markdown",
   "metadata": {},
   "source": [
    "perform wavdetect"
   ]
  },
  {
   "cell_type": "code",
   "execution_count": null,
   "metadata": {},
   "outputs": [],
   "source": [
    "workdir = '/stage/headat/yanling/xmm/reduction_230227/merged'\n",
    "instruments = ['EPIC']\n",
    "sigthresh = 2e-6\n",
    "\n",
    "os.makedirs(f'{workdir}/wavdetect_sig{sigthresh}', exist_ok = True)\n",
    "os.chdir(f'{workdir}/wavdetect_sig{sigthresh}')\n",
    "f = open(f'wavdetect.sh', 'w')\n",
    "for ins in instruments:\n",
    "    print(f'punlearn wavdetect')\n",
    "    f.write(f'punlearn wavdetect')\n",
    "    print(f'wavdetect infile=../{ins}_net.img outfile={ins}_src.fits scellfile={ins}_scell.fits imagefile={ins}_imgfile.fits expfile=../{ins}_exp.img defnbkgfile={ins}_nbgd.fits regfile={ins}_src.reg scales=\"1.0 2.0 4.0\" clobber=yes ellsigma=4 sigthresh={sigthresh} psffile=../{ins}_psf.fits ')\n",
    "    f.write(f'wavdetect infile=../{ins}_net.img outfile={ins}_src.fits scellfile={ins}_scell.fits imagefile={ins}_imgfile.fits expfile=../{ins}_exp.img defnbkgfile={ins}_nbgd.fits regfile={ins}_src.reg scales=\"1.0 2.0 4.0\" clobber=yes ellsigma=4 sigthresh={sigthresh} psffile=../{ins}_psf.fits ')\n",
    "f.close()"
   ]
  },
  {
   "cell_type": "markdown",
   "metadata": {},
   "source": [
    "perform emldetect"
   ]
  },
  {
   "cell_type": "code",
   "execution_count": null,
   "metadata": {},
   "outputs": [],
   "source": [
    "likelihood=6"
   ]
  },
  {
   "cell_type": "markdown",
   "metadata": {},
   "source": [
    "run srcflux"
   ]
  },
  {
   "cell_type": "markdown",
   "metadata": {},
   "source": [
    "1. define bkg regions "
   ]
  },
  {
   "cell_type": "code",
   "execution_count": null,
   "metadata": {},
   "outputs": [],
   "source": [
    "#streak region is a random circle region out of fov\n",
    "os.chdir('/stage/headat/yanling/xmm/reduction_230227/merged/wavdetect')\n",
    "instruments = ['EPN', 'EMOS1', 'EMOS2']\n",
    "for ins in instruments:\n",
    "    os.makedirs(f'./rui_src', exist_ok=True)\n",
    "    print(f'roi infile=srclist_sum_ex_extend_byeye.fits outsrc=\"rui_src/src%d.fits\" radiusmode=mul bkgradius=2 group=individual fovregion=\"region({ins}_fov.reg)\" streakregion=\"circle(572,650,34)\"')"
   ]
  },
  {
   "cell_type": "markdown",
   "metadata": {},
   "source": [
    "combine regions from fits files in reg file and check"
   ]
  },
  {
   "cell_type": "code",
   "execution_count": null,
   "metadata": {},
   "outputs": [],
   "source": [
    "workdir = '/stage/headat/yanling/xmm/reduction_230227/merged/wavdetect'\n",
    "for ins in instruments:\n",
    "    f1 = open(f'{workdir}/{ins}_allsrc_individual.reg', 'w')\n",
    "    f2 = open(f'{workdir}/{ins}_allbkg_individual.reg', 'w')\n",
    "    f1.write('physical\\n')\n",
    "    f2.write('physical\\n')\n",
    "    reglists = glob.glob(f'{workdir}/{ins}_src_regions_individual/src*.fits')\n",
    "    for reg in reglists:\n",
    "        hdul = fits.open(reg)\n",
    "        l = hdul['SRCREG'].data\n",
    "        for i in range(len(l['X'])):\n",
    "            f1.write(f\"ellipse({l['X'][i]},{l['Y'][i]},{l['R'][i][0]},{l['R'][i][1]},{l['ROTANG'][i][0]})\\n\")\n",
    "        l = hdul['BKGREG'].data\n",
    "        i = 0\n",
    "        f2.write(f\"ellipse({l['X'][i]},{l['Y'][i]},{l['R'][i][0]},{l['R'][i][1]},{l['ROTANG'][i][0]})\\n\")\n",
    "        for i in range(1,len(l['X'])):\n",
    "            f2.write(f\"-ellipse({l['X'][i]},{l['Y'][i]},{l['R'][i][0]},{l['R'][i][1]},{l['ROTANG'][i][0]})\\n\")\n",
    "    f1.close()\n",
    "    f2.close()"
   ]
  },
  {
   "cell_type": "code",
   "execution_count": null,
   "metadata": {},
   "outputs": [],
   "source": [
    "# 在 vim 中删掉有nan 的行\n",
    "# 删掉两个 cluster\n",
    "# -> edited.reg"
   ]
  },
  {
   "cell_type": "code",
   "execution_count": null,
   "metadata": {},
   "outputs": [],
   "source": [
    "for ins in instruments:\n",
    "    f1 = open(f'{ins}_src.lis', 'w')\n",
    "    f2 = open(f'{ins}_bkg.lis', 'w')\n",
    "    reglists = glob.glob(f'{workdir}/{ins}_src_regions_individual/src*.fits')\n",
    "    for i in range(len(reglists)):\n",
    "        f1.write(f'{ins}_src_regions_individual/src{i+1}.fits[\"SRCREG\"]\\n')\n",
    "        f2.write(f'{ins}_src_regions_individual/src{i+1}.fits[\"BKGREG\"]\\n')\n",
    "    f1.close()\n",
    "    f2.close()"
   ]
  },
  {
   "cell_type": "markdown",
   "metadata": {},
   "source": [
    "run srcflux !srcflux can't run XMM dataset!"
   ]
  },
  {
   "cell_type": "code",
   "execution_count": null,
   "metadata": {},
   "outputs": [],
   "source": [
    "\n",
    "for ins in instruments:\n",
    "    os.makedirs(f'{workdir}/{ins}_srcflux', exist_ok=True)\n",
    "    print('punlearn srcflux')\n",
    "    print(f'srcflux infile=../../../101/{ins}_clean.fits pos=../../{ins}_src.fits outroot=srcflux bands=2.0:8.0:3.8 srcreg=@../{ins}_src.lis bkgreg=@../{ins}_bkg.lis psfmethod=ideal model=\"xstbabs.abs1*xspowerlaw.pow1\" paramvals=\"pow1.PhoIndex=1.4\" absmodel=\"xstbabs.abs1\" absparams=\"abs1.nH=1.62e-20\" abund=lodd clobber=yes')"
   ]
  },
  {
   "cell_type": "markdown",
   "metadata": {},
   "source": [
    "use wavdetect to briefly estimate detection limit of point sources"
   ]
  },
  {
   "cell_type": "code",
   "execution_count": null,
   "metadata": {},
   "outputs": [],
   "source": [
    "workdir = '/stage/headat/yanling/xmm/reduction_230227/merged'\n",
    "hdul = fits.open(f'{workdir}/wavdetect_sig1e-06/EPIC_src.fits')\n",
    "# path = '/stage/headat/yanling/chandra/chandra/data/wavdetect_232223'\n",
    "# hdul = fits.open(f'{path}/wavdetect_merge_clean_withexp_src.fits')\n",
    "dat = hdul[1].data\n",
    "plt.hist(dat['NET_RATE'], np.logspace(-4,-1,20))\n",
    "plt.xscale('log')\n",
    "plt.yscale('log')\n",
    "plt.axvline(5E-4, color='r')\n",
    "plt.show()\n",
    "print(len(dat['NET_RATE']), dat['NET_RATE'].max())\n",
    "print(np.arange(len(dat['NET_RATE']))[dat['NET_RATE']> 0.8e-6])\n",
    "print(len(np.arange(len(dat['NET_RATE']))[dat['NET_RATE']> 0.8e-6]))"
   ]
  },
  {
   "cell_type": "markdown",
   "metadata": {},
   "source": [
    "exclude the src reg list via histogram above"
   ]
  },
  {
   "cell_type": "code",
   "execution_count": null,
   "metadata": {},
   "outputs": [],
   "source": [
    "path = '/stage/headat/yanling/xmm/reduction_230227/merged/wavdetect_sig1e-06'\n",
    "newf = open(f'{path}/EPIC_src_ctr5e-3.reg', 'w')\n",
    "f = open(f'{path}/EPIC_src.reg')\n",
    "hdul = fits.open(f'{path}/EPIC_src.fits')\n",
    "dat = hdul[1].data\n",
    "lines = f.readlines()\n",
    "f.close()\n",
    "lines = np.array(lines)[dat['NET_RATE']>5e-3]\n",
    "for line in lines:\n",
    "    newf.write(line)\n",
    "newf.close()"
   ]
  },
  {
   "cell_type": "markdown",
   "metadata": {},
   "source": [
    "create suzaku point source regions based on this (run locally)"
   ]
  },
  {
   "cell_type": "code",
   "execution_count": null,
   "metadata": {},
   "outputs": [],
   "source": [
    "path = '.'\n",
    "f = open(f'{path}/EPIC_src_ctr1e-3_fk5.reg')\n",
    "newf = open(f'{path}/EPIC_src_ctr1e-3_fk5_suzaku_9am.reg','w')\n",
    "lines = f.readlines()[3:]\n",
    "f.close()\n",
    "newf.write('fk5\\n')\n",
    "for line in lines:\n",
    "    ra = line.split('(')[-1].split(',')[0]\n",
    "    dec = line.split('(')[-1].split(',')[1]\n",
    "    newf.write(f\"circle({ra},{dec},0.9')\\n\")\n",
    "newf.close()"
   ]
  }
 ],
 "metadata": {
  "kernelspec": {
   "display_name": "Python 3.9.6 64-bit",
   "language": "python",
   "name": "python3"
  },
  "language_info": {
   "codemirror_mode": {
    "name": "ipython",
    "version": 3
   },
   "file_extension": ".py",
   "mimetype": "text/x-python",
   "name": "python",
   "nbconvert_exporter": "python",
   "pygments_lexer": "ipython3",
   "version": "3.9.2"
  },
  "orig_nbformat": 4,
  "vscode": {
   "interpreter": {
    "hash": "31f2aee4e71d21fbe5cf8b01ff0e069b9275f58929596ceb00d14d90e3e16cd6"
   }
  }
 },
 "nbformat": 4,
 "nbformat_minor": 2
}
