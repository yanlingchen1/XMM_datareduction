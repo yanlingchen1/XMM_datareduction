{
 "cells": [
  {
   "cell_type": "code",
   "execution_count": 50,
   "metadata": {},
   "outputs": [],
   "source": [
    "import os, glob\n",
    "import numpy as np\n",
    "import matplotlib.pyplot as plt\n",
    "import warnings\n",
    "import glob\n",
    "import subprocess as s\n",
    "warnings.filterwarnings(\"ignore\")\n",
    "\n",
    "from astropy.io import fits\n",
    "from astropy.time import Time\n",
    "from astropy.table import Table\n",
    "from scipy.optimize import curve_fit\n",
    "from copy import deepcopy\n"
   ]
  },
  {
   "cell_type": "markdown",
   "metadata": {},
   "source": [
    "fit gaussian to lc"
   ]
  },
  {
   "cell_type": "code",
   "execution_count": 70,
   "metadata": {},
   "outputs": [],
   "source": [
    "def plotting(x, y, y_err, model, xlim, ObsID, instrument, figures_path,  xscale='linear', bkg=False):\n",
    "    fig, (ax1, ax2) = plt.subplots(2, 1, figsize=(8,8), sharex=True, gridspec_kw={'height_ratios': [3, 1]})\n",
    "    ax1.tick_params(direction='in', which='both', length=5, labelsize=15)\n",
    "    ax2.tick_params(direction='in', which='both', length=5, labelsize=15)\n",
    "\n",
    "    plt.suptitle(instrument)\n",
    "    \n",
    "    ax1.set_ylabel(r'N', fontsize = 15.0)\n",
    "    ax1.set_xscale(xscale)\n",
    "    \n",
    "    ax1.set_xlim(0, xlim[1])\n",
    "\n",
    "    ax1.errorbar(x, y, yerr=y_err, fmt='o', capsize=2, label='Data')\n",
    "    ax1.plot(x, model, label='Fit')\n",
    "    ax1.legend(loc='best', fontsize=15.0)\n",
    "\n",
    "    ax2.set_ylabel(r'Ratio', fontsize = 15.0)\n",
    "    ax2.set_ylim(0.5,1.5)\n",
    "    ax2.axhline(y=1.)\n",
    "\n",
    "    ax2.errorbar(x, y/model, yerr=y_err/model, fmt='o', capsize=2)\n",
    "\n",
    "    ax2.set_xlabel('Rate [cts/s]', fontsize = 15.0)\n",
    "\n",
    "    plt.subplots_adjust(hspace=0.1)\n",
    "    \n",
    "    plt.show()\n",
    "def input_lc(fname, path, PN_cts_limit, EMOS_cts_limit):\n",
    "    os.chdir(path)\n",
    "    hdul = fits.open(fname)\n",
    "    data = hdul[1].data\n",
    "    time = data['time']\n",
    "    rate = data['rate']\n",
    "    rate_err = data['error']\n",
    "    hdul.close()\n",
    "    # Delete zero rates\n",
    "    where = np.where(rate == 0)[0]\n",
    "    time = np.delete(time, where)\n",
    "    rate = np.delete(rate, where)\n",
    "    rate_err = np.delete(rate_err, where)\n",
    "    # filter maximum counts rate before fitting\n",
    "    if('EPN' in fname or 'Oot' in fname):\n",
    "        where = np.where(rate > PN_cts_limit)[0]\n",
    "        time = np.delete(time, where)\n",
    "        rate = np.delete(rate, where)\n",
    "        rate_err = np.delete(rate_err, where)\n",
    "            \n",
    "    else:\n",
    "        where = np.where(rate > EMOS_cts_limit)[0]\n",
    "        time = np.delete(time, where)\n",
    "        rate = np.delete(rate, where)\n",
    "        rate_err = np.delete(rate_err, where)\n",
    "    return rate, time, rate_err, data['rate'], data['time']\n",
    "def hist_filter(rate):\n",
    "    # Make histogram\n",
    "    hist, bin_edges = np.histogram(np.log10(rate), bins=120)\n",
    "        \n",
    "    bin_mid = 0.5*(bin_edges[1:] + bin_edges[:-1])\n",
    "    bin_mid = 10**(bin_mid)\n",
    "    hist_err = np.sqrt(hist)\n",
    "    where = np.where(hist_err == 0)[0]\n",
    "    bin_mid = np.delete(bin_mid, where)\n",
    "    hist = np.delete(hist, where)\n",
    "    hist_err = np.delete(hist_err, where)\n",
    "    return hist, bin_mid, hist_err\n",
    "def fit_gauss(hist, bin_mid, hist_err):\n",
    "    # Define gaussian function\n",
    "    gaussian = lambda x, amp, cen, sig: amp * np.exp(-(x-cen)**2 / sig**2)\n",
    "    # Fit\n",
    "    init_vals = [max(hist), np.mean(bin_mid), 0.4]\n",
    "    best_vals, covar = curve_fit(gaussian, bin_mid, hist, p0=init_vals, sigma=1/hist_err, bounds=((0, 0, 0),\n",
    "                                                                                        (np.inf, np.inf, np.inf)),\n",
    "                                maxfev=100000)\n",
    "    return best_vals[0], best_vals[1], best_vals[2]\n",
    "def fit_dirty(iter_cts, fname, path, scale, PN_cts_limit=1.5, EMOS_cts_limit=1.5, PLOT=True):\n",
    "    rate, time, rate_err, rate_ori, time_ori = input_lc(fname, path, PN_cts_limit, EMOS_cts_limit)\n",
    "    hist, bin_mid, hist_err = hist_filter(rate)\n",
    "    amp, mu,sigma = fit_gauss(hist, bin_mid, hist_err)\n",
    "    newrate = deepcopy(rate)\n",
    "    newtime = deepcopy(time)\n",
    "    print(newrate.max(), len(newtime))\n",
    "    for i in range(iter_cts):\n",
    "        where = (newrate<mu+scale*sigma)&(newrate>mu-scale*sigma)\n",
    "        newrate = newrate[where]\n",
    "        newtime = newtime[where]\n",
    "        hist, bin_mid, hist_err = hist_filter(newrate)\n",
    "        amp, mu,sigma = fit_gauss(hist, bin_mid, hist_err)\n",
    "        print(newrate.max(), len(newtime), amp, mu, sigma)\n",
    "    if PLOT==True:\n",
    "        gaussian = lambda x, amp, cen, sig: amp * np.exp(-(x-cen)**2 / sig**2)\n",
    "        plotting(bin_mid, hist, hist_err, gaussian(bin_mid, amp, mu, sigma), \n",
    "                    [mu-scale*sigma, mu+scale*sigma], fname, \n",
    "                    fname, figures_path='./', bkg=True)\n",
    "        # check with the original lightcurve data\n",
    "        plt.figure(figsize = (8,8))\n",
    "        plt.scatter(newtime,newrate, alpha=0.5, s=2, color = 'b')#, yerr=dat['ERROR'])\n",
    "        plt.scatter(time_ori,rate_ori, alpha=0.5, s=1, color = 'k')#, yerr=dat['ERROR'])\n",
    "        plt.axhline(mu+scale*sigma, color = 'r')\n",
    "        plt.axhline(mu-scale*sigma, color = 'r')\n",
    "        plt.title(f'{fname}')\n",
    "        plt.savefig(f'{fname}.png')\n",
    "    return mu,sigma"
   ]
  },
  {
   "cell_type": "markdown",
   "metadata": {},
   "source": [
    "imshow the data "
   ]
  },
  {
   "cell_type": "code",
   "execution_count": 1,
   "metadata": {},
   "outputs": [
    {
     "ename": "NameError",
     "evalue": "name 'plt' is not defined",
     "output_type": "error",
     "traceback": [
      "\u001b[0;31m---------------------------------------------------------------------------\u001b[0m",
      "\u001b[0;31mNameError\u001b[0m                                 Traceback (most recent call last)",
      "\u001b[0;32m<ipython-input-1-1bd6441d7748>\u001b[0m in \u001b[0;36m<module>\u001b[0;34m\u001b[0m\n\u001b[1;32m      1\u001b[0m \u001b[0;32mfrom\u001b[0m \u001b[0mastropy\u001b[0m\u001b[0;34m.\u001b[0m\u001b[0mvisualization\u001b[0m \u001b[0;32mimport\u001b[0m \u001b[0mastropy_mpl_style\u001b[0m\u001b[0;34m\u001b[0m\u001b[0;34m\u001b[0m\u001b[0m\n\u001b[1;32m      2\u001b[0m \u001b[0;32mimport\u001b[0m \u001b[0mmatplotlib\u001b[0m\u001b[0;34m.\u001b[0m\u001b[0mcolors\u001b[0m \u001b[0;32mas\u001b[0m \u001b[0mcolors\u001b[0m\u001b[0;34m\u001b[0m\u001b[0;34m\u001b[0m\u001b[0m\n\u001b[0;32m----> 3\u001b[0;31m \u001b[0mplt\u001b[0m\u001b[0;34m.\u001b[0m\u001b[0mstyle\u001b[0m\u001b[0;34m.\u001b[0m\u001b[0muse\u001b[0m\u001b[0;34m(\u001b[0m\u001b[0mastropy_mpl_style\u001b[0m\u001b[0;34m)\u001b[0m\u001b[0;34m\u001b[0m\u001b[0;34m\u001b[0m\u001b[0m\n\u001b[0m\u001b[1;32m      4\u001b[0m \u001b[0;32mfrom\u001b[0m \u001b[0mastropy\u001b[0m\u001b[0;34m.\u001b[0m\u001b[0mutils\u001b[0m\u001b[0;34m.\u001b[0m\u001b[0mdata\u001b[0m \u001b[0;32mimport\u001b[0m \u001b[0mget_pkg_data_filename\u001b[0m\u001b[0;34m\u001b[0m\u001b[0;34m\u001b[0m\u001b[0m\n\u001b[1;32m      5\u001b[0m \u001b[0mbkg_dir\u001b[0m \u001b[0;34m=\u001b[0m \u001b[0;34m'/stage/headat/yanling/xmm/fwc_dat'\u001b[0m\u001b[0;34m\u001b[0m\u001b[0;34m\u001b[0m\u001b[0m\n",
      "\u001b[0;31mNameError\u001b[0m: name 'plt' is not defined"
     ]
    }
   ],
   "source": [
    "from astropy.visualization import astropy_mpl_style\n",
    "import matplotlib.colors as colors\n",
    "plt.style.use(astropy_mpl_style)\n",
    "from astropy.utils.data import get_pkg_data_filename\n",
    "bkg_dir = '/stage/headat/yanling/xmm/fwc_dat'\n",
    "os.chdir(bkg_dir)\n",
    "\n",
    "'''\n",
    "evselect table=mos1_closed_FF_2022_v2_obs201.fits.gz xcolumn=X ycolumn=Y \\\n",
    "imagebinning=binSize ximagebinsize=20 yimagebinsize=20 withimageset=true \\\n",
    "imageset=mos1_closed_FF_2022_v2_obs201.img\n",
    "'''\n",
    "\n",
    "image_file = get_pkg_data_filename('mos1_closed_FF_2022_v2_obs201.img')\n",
    "image_data = fits.getdata(image_file, ext=0)\n",
    "plt.figure(figsize = (8,8))\n",
    "plt.imshow(image_data, cmap='binary', norm = colors.LogNorm(vmin = 0.1, vmax = 100))\n",
    "plt.colorbar()\n",
    "plt.show()\n",
    "plt.clf()"
   ]
  },
  {
   "cell_type": "markdown",
   "metadata": {},
   "source": [
    "# 0. prereduction data"
   ]
  },
  {
   "cell_type": "code",
   "execution_count": 1,
   "metadata": {},
   "outputs": [],
   "source": [
    "'''\n",
    "cd reduction_230227/101\n",
    "export SAS_CCF=/stage/headat/yanling/xmm/0502020101/ccf.cif\n",
    "export SAS_ODF=/stage/headat/yanling/xmm/0502020101/1378_0502020101_SCX00000SUM.SAS\n",
    "emproc\n",
    "mkdir Main\n",
    "cd Main\n",
    "epproc\n",
    "\n",
    "cd ..\n",
    "mkdir Oot\n",
    "cd Oot\n",
    "epproc withoutoftime=yes\n",
    "\n",
    "'''\n",
    "'''\n",
    "cd 201\n",
    "export SAS_CCF=/stage/headat/yanling/xmm/0502020201/ccf.cif\n",
    "export SAS_ODF=/stage/headat/yanling/xmm/0502020201/1380_0502020201_SCX00000SUM.SAS\n",
    "emproc\n",
    "cd Main\n",
    "epproc\n",
    "cd ..\n",
    "cd Oot\n",
    "epproc withoutoftime=yes\n",
    "'''\n",
    "import glob\n",
    "data_dir = '/stage/headat/yanling/xmm/reduction_230227/201'\n",
    "os.chdir(data_dir)\n",
    "pn_path = f'{data_dir}/Main'\n",
    "Oot_path = f'{data_dir}/Oot'\n",
    "\n",
    "# os.system(f'cp {pn_path}/*_ImagingEvts*.ds .')\n",
    "# os.system(f'cp {Oot_path}/*_ImagingEvts*.ds 1378_0502020201_Oot_S003_ImagingEvts.ds')\n"
   ]
  },
  {
   "cell_type": "markdown",
   "metadata": {},
   "source": [
    "# 1. Extract lc at 9-12 keV"
   ]
  },
  {
   "cell_type": "code",
   "execution_count": null,
   "metadata": {},
   "outputs": [],
   "source": [
    "f = open(f'{data_dir}/data_lc.sh', 'w')\n",
    "instruments=['EMOS1', 'EMOS2', 'EPN', 'Oot']\n",
    "\n",
    "for instrument in instruments:\n",
    "    if(instrument == 'EPN') or (instrument =='Oot'):\n",
    "        ins = 'EP'\n",
    "        pattern = 4\n",
    "    else:\n",
    "        ins = 'EM'\n",
    "        pattern = 12\n",
    "\n",
    "    fname = glob.glob(f'*{instrument}*_ImagingEvts.ds')[0]\n",
    "\n",
    "    print(f'evselect table={fname} withrateset=Y rateset=rate_{instrument}.fits \\\n",
    "        maketimecolumn=Y timebinsize=100 makeratecolumn=Y expression=\"#XMMEA_{ins} && (PI in [9000:12000]) && (PATTERN<={pattern})\"')\n",
    "    f.write(f'evselect table={fname} withrateset=Y rateset=rate_{instrument}.fits \\\n",
    "        maketimecolumn=Y timebinsize=100 makeratecolumn=Y expression=\"#XMMEA_{ins} && (PI in [9000:12000]) && (PATTERN<={pattern})\"')\n",
    "f.close()"
   ]
  },
  {
   "cell_type": "markdown",
   "metadata": {},
   "source": [
    "plot lightcone"
   ]
  },
  {
   "cell_type": "code",
   "execution_count": null,
   "metadata": {},
   "outputs": [],
   "source": [
    "files = ['rate_Oot']\n",
    "\n",
    "for file in files:\n",
    "    hdul = fits.open(f'{file}.fits')\n",
    "    dat = hdul[1].data\n",
    "    hdul.close()\n",
    "    plt.figure(figsize = (8,8))\n",
    "    plt.scatter(dat['TIME'],dat['RATE'])#, yerr=dat['ERROR'])\n",
    "    # plt.axhline(1.264, color = 'r')\n",
    "    plt.axhline(0.35, color = 'r')\n",
    "    plt.title(f'{file}')\n",
    "    plt.show()"
   ]
  },
  {
   "cell_type": "code",
   "execution_count": 5,
   "metadata": {},
   "outputs": [
    {
     "name": "stderr",
     "output_type": "stream",
     "text": [
      "<frozen importlib._bootstrap>:228: RuntimeWarning: numpy.ndarray size changed, may indicate binary incompatibility. Expected 80 from C header, got 96 from PyObject\n"
     ]
    },
    {
     "name": "stdout",
     "output_type": "stream",
     "text": [
      "Filename: EMOS2_gti.fits\n",
      "No.    Name      Ver    Type      Cards   Dimensions   Format\n",
      "  0  PRIMARY       1 PrimaryHDU      11   ()      \n",
      "  1  STDGTI        1 BinTableHDU     30   36R x 2C   [D, D]   \n"
     ]
    }
   ],
   "source": [
    "# show gti\n",
    "# os.chdir(tmp_dir)\n",
    "from astropy.io import fits\n",
    "os.chdir(f'{data_dir}')\n",
    "hdul = fits.open('EMOS2_gti.fits')\n",
    "hdul.info()\n",
    "hdul.close()"
   ]
  },
  {
   "cell_type": "code",
   "execution_count": 60,
   "metadata": {},
   "outputs": [
    {
     "data": {
      "text/plain": [
       "Text(298542496.248325, 0.4, 'MOS2 sumtime: 31900.0')"
      ]
     },
     "execution_count": 60,
     "metadata": {},
     "output_type": "execute_result"
    },
    {
     "data": {
      "image/png": "[encoded data removed]",
      "text/plain": [
       "<Figure size 432x288 with 1 Axes>"
      ]
     },
     "metadata": {
      "needs_background": "light"
     },
     "output_type": "display_data"
    }
   ],
   "source": [
    "import numpy as np\n",
    "import matplotlib.pyplot as plt\n",
    "data_dir = '/stage/headat/yanling/xmm/reduction_230227/101'\n",
    "os.chdir(data_dir)\n",
    "hdul = fits.open('EMOS1_gti.fits')\n",
    "dat1 = np.array(hdul[1].data)\n",
    "hdul.close()\n",
    "hdul = fits.open('EMOS2_gti.fits')\n",
    "dat2 = np.array(hdul[1].data)\n",
    "hdul.close()\n",
    "cb = ['#0173b2', '#de8f05', '#029e73', '#d55e00', '#cc78bc', '#ca9161', '#fbafe4', '#949494', '#ece133', '#56b4e9']\n",
    "# plt.scatter(dat[:,0], np.zeros(len(dat[:,0])))\n",
    "plt.hlines(0, dat['START'][0], dat['STOP'][0],color = cb[0], lw=4, label = f'EMOS{1}')\n",
    "plt.hlines(1, dat['START'][1], dat['STOP'][1],color = cb[1], lw=4, label = f'EMOS{2}')\n",
    "for j,dat in enumerate([dat1, dat2]):\n",
    "    for i in range(1,len(dat)):\n",
    "        plt.hlines(j, dat['START'][i], dat['STOP'][i],color = cb[j], lw=4)\n",
    "plt.title('obs101')\n",
    "plt.legend(loc = 'center right')\n",
    "plt.text(np.min(dat['START']), 0.5, f\"MOS1 sumtime: {np.sum(dat1['STOP']-dat1['START'])}\")\n",
    "plt.text(np.min(dat['START']), 0.4, f\"MOS2 sumtime: {np.sum(dat2['STOP']-dat2['START'])}\")\n"
   ]
  },
  {
   "cell_type": "code",
   "execution_count": 45,
   "metadata": {},
   "outputs": [],
   "source": [
    "plt.close()"
   ]
  },
  {
   "cell_type": "markdown",
   "metadata": {},
   "source": [
    "fit lightcone with gaussian to determine the most stable ctr upper limit"
   ]
  },
  {
   "cell_type": "code",
   "execution_count": null,
   "metadata": {},
   "outputs": [],
   "source": [
    "files = ['EMOS1', 'EMOS2', 'EPN', 'Oot']\n",
    "for file in files:\n",
    "    fit(f'rate_{file}.fits', './', PN_cts_limit = 1.3, EMOS_cts_limit = 0.4,)"
   ]
  },
  {
   "cell_type": "markdown",
   "metadata": {},
   "source": [
    "filter data based on gaussian fit and visual inspect"
   ]
  },
  {
   "cell_type": "code",
   "execution_count": 68,
   "metadata": {},
   "outputs": [
    {
     "name": "stdout",
     "output_type": "stream",
     "text": [
      "1.0 598 15.61704952108113 1.4392957280189347e-13 0.7195692752897607\n",
      "1.0 598 15.61704952108113 1.4392957280189347e-13 0.7195692752897607\n",
      "1.0 598 15.61704952108113 1.4392957280189347e-13 0.7195692752897607\n",
      "1.0 598 15.61704952108113 1.4392957280189347e-13 0.7195692752897607\n",
      "1.0 598 15.61704952108113 1.4392957280189347e-13 0.7195692752897607\n",
      "1.0 598 15.61704952108113 1.4392957280189347e-13 0.7195692752897607\n",
      "1.0 598 15.61704952108113 1.4392957280189347e-13 0.7195692752897607\n",
      "1.0 598 15.61704952108113 1.4392957280189347e-13 0.7195692752897607\n",
      "1.0 598 15.61704952108113 1.4392957280189347e-13 0.7195692752897607\n",
      "1.0 598 15.61704952108113 1.4392957280189347e-13 0.7195692752897607\n",
      "1.0 598 15.61704952108113 1.4392957280189347e-13 0.7195692752897607\n",
      "1.0 598 15.61704952108113 1.4392957280189347e-13 0.7195692752897607\n",
      "1.0 598 15.61704952108113 1.4392957280189347e-13 0.7195692752897607\n",
      "1.0 598 15.61704952108113 1.4392957280189347e-13 0.7195692752897607\n",
      "1.0 598 15.61704952108113 1.4392957280189347e-13 0.7195692752897607\n",
      "1.0 598 15.61704952108113 1.4392957280189347e-13 0.7195692752897607\n",
      "1.0 598 15.61704952108113 1.4392957280189347e-13 0.7195692752897607\n",
      "1.0 598 15.61704952108113 1.4392957280189347e-13 0.7195692752897607\n",
      "1.0 598 15.61704952108113 1.4392957280189347e-13 0.7195692752897607\n",
      "1.0 598 15.61704952108113 1.4392957280189347e-13 0.7195692752897607\n",
      "1.0 598 15.61704952108113 1.4392957280189347e-13 0.7195692752897607\n",
      "1.0 598 15.61704952108113 1.4392957280189347e-13 0.7195692752897607\n",
      "1.0 598 15.61704952108113 1.4392957280189347e-13 0.7195692752897607\n",
      "1.0 598 15.61704952108113 1.4392957280189347e-13 0.7195692752897607\n",
      "1.0 598 15.61704952108113 1.4392957280189347e-13 0.7195692752897607\n"
     ]
    },
    {
     "data": {
      "image/png": "[encoded data removed]",
      "text/plain": [
       "<Figure size 576x576 with 2 Axes>"
      ]
     },
     "metadata": {
      "needs_background": "light"
     },
     "output_type": "display_data"
    },
    {
     "name": "stdout",
     "output_type": "stream",
     "text": [
      "tabgtigen table=rate_EMOS1.fits expression=\"RATE<=1.4391385505796652\" gtiset=EMOS1_gti.fits\n",
      "1.0 614 17.05964772012037 1.7713873500150042e-13 0.7234208332335305\n",
      "1.0 614 17.05964772012037 1.7713873500150042e-13 0.7234208332335305\n",
      "1.0 614 17.05964772012037 1.7713873500150042e-13 0.7234208332335305\n",
      "1.0 614 17.05964772012037 1.7713873500150042e-13 0.7234208332335305\n",
      "1.0 614 17.05964772012037 1.7713873500150042e-13 0.7234208332335305\n",
      "1.0 614 17.05964772012037 1.7713873500150042e-13 0.7234208332335305\n",
      "1.0 614 17.05964772012037 1.7713873500150042e-13 0.7234208332335305\n",
      "1.0 614 17.05964772012037 1.7713873500150042e-13 0.7234208332335305\n",
      "1.0 614 17.05964772012037 1.7713873500150042e-13 0.7234208332335305\n",
      "1.0 614 17.05964772012037 1.7713873500150042e-13 0.7234208332335305\n",
      "1.0 614 17.05964772012037 1.7713873500150042e-13 0.7234208332335305\n",
      "1.0 614 17.05964772012037 1.7713873500150042e-13 0.7234208332335305\n",
      "1.0 614 17.05964772012037 1.7713873500150042e-13 0.7234208332335305\n",
      "1.0 614 17.05964772012037 1.7713873500150042e-13 0.7234208332335305\n",
      "1.0 614 17.05964772012037 1.7713873500150042e-13 0.7234208332335305\n",
      "1.0 614 17.05964772012037 1.7713873500150042e-13 0.7234208332335305\n",
      "1.0 614 17.05964772012037 1.7713873500150042e-13 0.7234208332335305\n",
      "1.0 614 17.05964772012037 1.7713873500150042e-13 0.7234208332335305\n",
      "1.0 614 17.05964772012037 1.7713873500150042e-13 0.7234208332335305\n",
      "1.0 614 17.05964772012037 1.7713873500150042e-13 0.7234208332335305\n",
      "1.0 614 17.05964772012037 1.7713873500150042e-13 0.7234208332335305\n",
      "1.0 614 17.05964772012037 1.7713873500150042e-13 0.7234208332335305\n",
      "1.0 614 17.05964772012037 1.7713873500150042e-13 0.7234208332335305\n",
      "1.0 614 17.05964772012037 1.7713873500150042e-13 0.7234208332335305\n",
      "1.0 614 17.05964772012037 1.7713873500150042e-13 0.7234208332335305\n"
     ]
    },
    {
     "data": {
      "image/png": "[encoded data removed]",
      "text/plain": [
       "<Figure size 576x576 with 1 Axes>"
      ]
     },
     "metadata": {
      "needs_background": "light"
     },
     "output_type": "display_data"
    },
    {
     "data": {
      "image/png": "[encoded data removed]",
      "text/plain": [
       "<Figure size 576x576 with 2 Axes>"
      ]
     },
     "metadata": {
      "needs_background": "light"
     },
     "output_type": "display_data"
    },
    {
     "name": "stdout",
     "output_type": "stream",
     "text": [
      "tabgtigen table=rate_EMOS2.fits expression=\"RATE<=1.446841666467238\" gtiset=EMOS2_gti.fits\n",
      "1.12 209 7.636558305313528 0.7107111361298408 0.19645059387929406\n",
      "1.1 208 7.61400492293256 0.7102450942254824 0.19825081268867792\n",
      "1.1 208 7.61400492293256 0.7102450942254824 0.19825081268867792\n",
      "1.1 208 7.61400492293256 0.7102450942254824 0.19825081268867792\n",
      "1.1 208 7.61400492293256 0.7102450942254824 0.19825081268867792\n",
      "1.1 208 7.61400492293256 0.7102450942254824 0.19825081268867792\n",
      "1.1 208 7.61400492293256 0.7102450942254824 0.19825081268867792\n",
      "1.1 208 7.61400492293256 0.7102450942254824 0.19825081268867792\n",
      "1.1 208 7.61400492293256 0.7102450942254824 0.19825081268867792\n",
      "1.1 208 7.61400492293256 0.7102450942254824 0.19825081268867792\n",
      "1.1 208 7.61400492293256 0.7102450942254824 0.19825081268867792\n",
      "1.1 208 7.61400492293256 0.7102450942254824 0.19825081268867792\n",
      "1.1 208 7.61400492293256 0.7102450942254824 0.19825081268867792\n",
      "1.1 208 7.61400492293256 0.7102450942254824 0.19825081268867792\n",
      "1.1 208 7.61400492293256 0.7102450942254824 0.19825081268867792\n",
      "1.1 208 7.61400492293256 0.7102450942254824 0.19825081268867792\n",
      "1.1 208 7.61400492293256 0.7102450942254824 0.19825081268867792\n",
      "1.1 208 7.61400492293256 0.7102450942254824 0.19825081268867792\n",
      "1.1 208 7.61400492293256 0.7102450942254824 0.19825081268867792\n",
      "1.1 208 7.61400492293256 0.7102450942254824 0.19825081268867792\n",
      "1.1 208 7.61400492293256 0.7102450942254824 0.19825081268867792\n",
      "1.1 208 7.61400492293256 0.7102450942254824 0.19825081268867792\n",
      "1.1 208 7.61400492293256 0.7102450942254824 0.19825081268867792\n",
      "1.1 208 7.61400492293256 0.7102450942254824 0.19825081268867792\n",
      "1.1 208 7.61400492293256 0.7102450942254824 0.19825081268867792\n"
     ]
    },
    {
     "data": {
      "image/png": "[encoded data removed]",
      "text/plain": [
       "<Figure size 576x576 with 1 Axes>"
      ]
     },
     "metadata": {
      "needs_background": "light"
     },
     "output_type": "display_data"
    },
    {
     "data": {
      "image/png": "[encoded data removed]",
      "text/plain": [
       "<Figure size 576x576 with 2 Axes>"
      ]
     },
     "metadata": {
      "needs_background": "light"
     },
     "output_type": "display_data"
    },
    {
     "name": "stdout",
     "output_type": "stream",
     "text": [
      "tabgtigen table=rate_EPN.fits expression=\"RATE<=1.1067467196028382\" gtiset=EPN_gti.fits\n",
      "0.97 187 9.915620651572597 0.7146186996994838 0.12792574238361737\n",
      "0.97 187 9.915620651572597 0.7146186996994838 0.12792574238361737\n",
      "0.97 187 9.915620651572597 0.7146186996994838 0.12792574238361737\n",
      "0.97 187 9.915620651572597 0.7146186996994838 0.12792574238361737\n",
      "0.97 187 9.915620651572597 0.7146186996994838 0.12792574238361737\n",
      "0.97 187 9.915620651572597 0.7146186996994838 0.12792574238361737\n",
      "0.97 187 9.915620651572597 0.7146186996994838 0.12792574238361737\n",
      "0.97 187 9.915620651572597 0.7146186996994838 0.12792574238361737\n",
      "0.97 187 9.915620651572597 0.7146186996994838 0.12792574238361737\n",
      "0.97 187 9.915620651572597 0.7146186996994838 0.12792574238361737\n",
      "0.97 187 9.915620651572597 0.7146186996994838 0.12792574238361737\n",
      "0.97 187 9.915620651572597 0.7146186996994838 0.12792574238361737\n",
      "0.97 187 9.915620651572597 0.7146186996994838 0.12792574238361737\n",
      "0.97 187 9.915620651572597 0.7146186996994838 0.12792574238361737\n",
      "0.97 187 9.915620651572597 0.7146186996994838 0.12792574238361737\n",
      "0.97 187 9.915620651572597 0.7146186996994838 0.12792574238361737\n",
      "0.97 187 9.915620651572597 0.7146186996994838 0.12792574238361737\n",
      "0.97 187 9.915620651572597 0.7146186996994838 0.12792574238361737\n",
      "0.97 187 9.915620651572597 0.7146186996994838 0.12792574238361737\n",
      "0.97 187 9.915620651572597 0.7146186996994838 0.12792574238361737\n",
      "0.97 187 9.915620651572597 0.7146186996994838 0.12792574238361737\n",
      "0.97 187 9.915620651572597 0.7146186996994838 0.12792574238361737\n",
      "0.97 187 9.915620651572597 0.7146186996994838 0.12792574238361737\n",
      "0.97 187 9.915620651572597 0.7146186996994838 0.12792574238361737\n",
      "0.97 187 9.915620651572597 0.7146186996994838 0.12792574238361737\n"
     ]
    },
    {
     "data": {
      "image/png": "[encoded data removed]",
      "text/plain": [
       "<Figure size 576x576 with 1 Axes>"
      ]
     },
     "metadata": {
      "needs_background": "light"
     },
     "output_type": "display_data"
    },
    {
     "data": {
      "image/png": "[encoded data removed]",
      "text/plain": [
       "<Figure size 576x576 with 2 Axes>"
      ]
     },
     "metadata": {
      "needs_background": "light"
     },
     "output_type": "display_data"
    },
    {
     "name": "stdout",
     "output_type": "stream",
     "text": [
      "tabgtigen table=rate_Oot.fits expression=\"RATE<=0.9704701844667185\" gtiset=Oot_gti.fits\n",
      "evselect table=1378_0502020101_EMOS1_S001_ImagingEvts.ds withfilteredset=Y filteredset=EMOS1_clean.fits destruct=Y keepfilteroutput=T expression=\"gti(EMOS1_gti.fits,TIME)&&(PI>150)\"\n",
      "evselect table=1378_0502020101_EMOS1_S001_ImagingEvts.ds withfilteredset=Y filteredset=EMOS1_clean_fov.fits destruct=Y keepfilteroutput=T         expression=\"#XMMEA_EM&&gti(EMOS1_gti.fits,TIME)&&(PI>150)\"\n",
      "evselect table=1378_0502020101_EMOS2_S002_ImagingEvts.ds withfilteredset=Y filteredset=EMOS2_clean.fits destruct=Y keepfilteroutput=T expression=\"gti(EMOS2_gti.fits,TIME)&&(PI>150)\"\n",
      "evselect table=1378_0502020101_EMOS2_S002_ImagingEvts.ds withfilteredset=Y filteredset=EMOS2_clean_fov.fits destruct=Y keepfilteroutput=T         expression=\"#XMMEA_EM&&gti(EMOS2_gti.fits,TIME)&&(PI>150)\"\n",
      "evselect table=1378_0502020101_EPN_S003_ImagingEvts.ds withfilteredset=Y filteredset=EPN_clean.fits destruct=Y keepfilteroutput=T expression=\"gti(EPN_gti.fits,TIME)&&(PI>150)\"\n",
      "evselect table=1378_0502020101_EPN_S003_ImagingEvts.ds withfilteredset=Y filteredset=EPN_clean_fov.fits destruct=Y keepfilteroutput=T         expression=\"#XMMEA_EP&&gti(EPN_gti.fits,TIME)&&(PI>150)\"\n",
      "evselect table=1378_0502020201_Oot_S003_ImagingEvts.ds withfilteredset=Y filteredset=Oot_clean.fits destruct=Y keepfilteroutput=T expression=\"gti(Oot_gti.fits,TIME)&&(PI>150)\"\n",
      "evselect table=1378_0502020201_Oot_S003_ImagingEvts.ds withfilteredset=Y filteredset=Oot_clean_fov.fits destruct=Y keepfilteroutput=T         expression=\"#XMMEA_EP&&gti(Oot_gti.fits,TIME)&&(PI>150)\"\n"
     ]
    },
    {
     "data": {
      "image/png": "[encoded data removed]",
      "text/plain": [
       "<Figure size 576x576 with 1 Axes>"
      ]
     },
     "metadata": {
      "needs_background": "light"
     },
     "output_type": "display_data"
    }
   ],
   "source": [
    "# Create GTI and filter\n",
    "instruments = ['EMOS1', 'EMOS2', 'EPN', 'Oot']\n",
    "data_dir = '/stage/headat/yanling/xmm/reduction_230227/101'\n",
    "os.chdir(data_dir)\n",
    "scale = [2,2,2,2]\n",
    "f = open('data_gti.sh', 'w')\n",
    "\n",
    "for i, instrument in enumerate(instruments):\n",
    "    fname = 'rate_' + instrument + '.fits'\n",
    "    mean, sigma = fit_dirty(25, fname, data_dir, scale[i], PN_cts_limit = 1.3, EMOS_cts_limit = 1, PLOT=True)\n",
    "    max_cts = mean+scale[i]*sigma\n",
    "    print(f'tabgtigen table={fname} expression=\"RATE<={max_cts}\" gtiset={instrument}_gti.fits')\n",
    "    f.write(f'tabgtigen table={fname} expression=\"RATE<={max_cts}\" gtiset={instrument}_gti.fits\\n')\n",
    "    \n",
    "f.close()\n",
    "f = open('data_clean.sh', 'w')\n",
    "for i, instrument in enumerate(instruments):\n",
    "    fname = glob.glob(f'*{instrument}*_ImagingEvts.ds')[0]\n",
    "    print(f'evselect table={fname} withfilteredset=Y filteredset={instrument}_clean.fits destruct=Y keepfilteroutput=T expression=\"gti({instrument}_gti.fits,TIME)&&(PI>150)\"')\n",
    "    f.write(f'evselect table={fname} withfilteredset=Y filteredset={instrument}_clean.fits destruct=Y keepfilteroutput=T expression=\"gti({instrument}_gti.fits,TIME)&&(PI>150)\"\\n')\n",
    "    if(instrument == 'EPN') or (instrument =='Oot'):\n",
    "        ins = 'EP'\n",
    "    else:\n",
    "        ins = 'EM'\n",
    "    print(f'evselect table={fname} withfilteredset=Y filteredset={instrument}_clean_fov.fits destruct=Y keepfilteroutput=T \\\n",
    "        expression=\"#XMMEA_{ins}&&gti({instrument}_gti.fits,TIME)&&(PI>150)\"')\n",
    "    f.write(f'evselect table={fname} withfilteredset=Y filteredset={instrument}_clean_fov.fits destruct=Y keepfilteroutput=T \\\n",
    "        expression=\"##XMMEA_{ins}&&gti({instrument}_gti.fits,TIME)&&(PI>150)\"\\n')\n",
    "f.close()\n"
   ]
  },
  {
   "cell_type": "markdown",
   "metadata": {},
   "source": [
    "# 2. Extract image"
   ]
  },
  {
   "cell_type": "code",
   "execution_count": 10,
   "metadata": {},
   "outputs": [
    {
     "name": "stdout",
     "output_type": "stream",
     "text": [
      "evselect table=EMOS1_clean.fits xcolumn=X ycolumn=Y imagebinning=binSize ximagebinsize=80             yimagebinsize=80 withimageset=true imageset=EMOS1_counts_nr_700-1200.img expression=\"#XMMEA_EM&&(PATTERN<=12)&&(PI in [700:1200])&&gti(EMOS1_gti.fits,TIME)\"\n",
      "eexpmap imageset=EMOS1_counts_nr.img attitudeset=1378_0502020101_AttHk.ds eventset=EMOS1_clean.fits             expimageset=EMOS1_exp_nr_700-1200.img pimin=700 pimax=1200\n",
      "evselect table=EMOS1_clean.fits xcolumn=X ycolumn=Y imagebinning=binSize ximagebinsize=80             yimagebinsize=80 withimageset=true imageset=EMOS1_counts_nr_1200-2000.img expression=\"#XMMEA_EM&&(PATTERN<=12)&&(PI in [1200:2000])&&gti(EMOS1_gti.fits,TIME)\"\n",
      "eexpmap imageset=EMOS1_counts_nr.img attitudeset=1378_0502020101_AttHk.ds eventset=EMOS1_clean.fits             expimageset=EMOS1_exp_nr_1200-2000.img pimin=1200 pimax=2000\n",
      "evselect table=EMOS1_clean.fits xcolumn=X ycolumn=Y imagebinning=binSize ximagebinsize=80             yimagebinsize=80 withimageset=true imageset=EMOS1_counts_nr_2000-5000.img expression=\"#XMMEA_EM&&(PATTERN<=12)&&(PI in [2000:5000])&&gti(EMOS1_gti.fits,TIME)\"\n",
      "eexpmap imageset=EMOS1_counts_nr.img attitudeset=1378_0502020101_AttHk.ds eventset=EMOS1_clean.fits             expimageset=EMOS1_exp_nr_2000-5000.img pimin=2000 pimax=5000\n",
      "evselect table=EMOS1_clean.fits xcolumn=X ycolumn=Y imagebinning=binSize ximagebinsize=80             yimagebinsize=80 withimageset=true imageset=EMOS1_counts_nr_5000-7000.img expression=\"#XMMEA_EM&&(PATTERN<=12)&&(PI in [5000:7000])&&gti(EMOS1_gti.fits,TIME)\"\n",
      "eexpmap imageset=EMOS1_counts_nr.img attitudeset=1378_0502020101_AttHk.ds eventset=EMOS1_clean.fits             expimageset=EMOS1_exp_nr_5000-7000.img pimin=5000 pimax=7000\n",
      "evselect table=EMOS2_clean.fits xcolumn=X ycolumn=Y imagebinning=binSize ximagebinsize=80             yimagebinsize=80 withimageset=true imageset=EMOS2_counts_nr_700-1200.img expression=\"#XMMEA_EM&&(PATTERN<=12)&&(PI in [700:1200])&&gti(EMOS2_gti.fits,TIME)\"\n",
      "eexpmap imageset=EMOS2_counts_nr.img attitudeset=1378_0502020101_AttHk.ds eventset=EMOS2_clean.fits             expimageset=EMOS2_exp_nr_700-1200.img pimin=700 pimax=1200\n",
      "evselect table=EMOS2_clean.fits xcolumn=X ycolumn=Y imagebinning=binSize ximagebinsize=80             yimagebinsize=80 withimageset=true imageset=EMOS2_counts_nr_1200-2000.img expression=\"#XMMEA_EM&&(PATTERN<=12)&&(PI in [1200:2000])&&gti(EMOS2_gti.fits,TIME)\"\n",
      "eexpmap imageset=EMOS2_counts_nr.img attitudeset=1378_0502020101_AttHk.ds eventset=EMOS2_clean.fits             expimageset=EMOS2_exp_nr_1200-2000.img pimin=1200 pimax=2000\n",
      "evselect table=EMOS2_clean.fits xcolumn=X ycolumn=Y imagebinning=binSize ximagebinsize=80             yimagebinsize=80 withimageset=true imageset=EMOS2_counts_nr_2000-5000.img expression=\"#XMMEA_EM&&(PATTERN<=12)&&(PI in [2000:5000])&&gti(EMOS2_gti.fits,TIME)\"\n",
      "eexpmap imageset=EMOS2_counts_nr.img attitudeset=1378_0502020101_AttHk.ds eventset=EMOS2_clean.fits             expimageset=EMOS2_exp_nr_2000-5000.img pimin=2000 pimax=5000\n",
      "evselect table=EMOS2_clean.fits xcolumn=X ycolumn=Y imagebinning=binSize ximagebinsize=80             yimagebinsize=80 withimageset=true imageset=EMOS2_counts_nr_5000-7000.img expression=\"#XMMEA_EM&&(PATTERN<=12)&&(PI in [5000:7000])&&gti(EMOS2_gti.fits,TIME)\"\n",
      "eexpmap imageset=EMOS2_counts_nr.img attitudeset=1378_0502020101_AttHk.ds eventset=EMOS2_clean.fits             expimageset=EMOS2_exp_nr_5000-7000.img pimin=5000 pimax=7000\n",
      "evselect table=EPN_clean.fits xcolumn=X ycolumn=Y imagebinning=binSize ximagebinsize=80             yimagebinsize=80 withimageset=true imageset=EPN_counts_nr_700-1200.img expression=\"#XMMEA_EP&&(PATTERN<=4)&&(PI in [700:1200])&&gti(EPN_gti.fits,TIME)\"\n",
      "eexpmap imageset=EPN_counts_nr.img attitudeset=1378_0502020101_AttHk.ds eventset=EPN_clean.fits             expimageset=EPN_exp_nr_700-1200.img pimin=700 pimax=1200\n",
      "evselect table=EPN_clean.fits xcolumn=X ycolumn=Y imagebinning=binSize ximagebinsize=80             yimagebinsize=80 withimageset=true imageset=EPN_counts_nr_1200-2000.img expression=\"#XMMEA_EP&&(PATTERN<=4)&&(PI in [1200:2000])&&gti(EPN_gti.fits,TIME)\"\n",
      "eexpmap imageset=EPN_counts_nr.img attitudeset=1378_0502020101_AttHk.ds eventset=EPN_clean.fits             expimageset=EPN_exp_nr_1200-2000.img pimin=1200 pimax=2000\n",
      "evselect table=EPN_clean.fits xcolumn=X ycolumn=Y imagebinning=binSize ximagebinsize=80             yimagebinsize=80 withimageset=true imageset=EPN_counts_nr_2000-5000.img expression=\"#XMMEA_EP&&(PATTERN<=4)&&(PI in [2000:5000])&&gti(EPN_gti.fits,TIME)\"\n",
      "eexpmap imageset=EPN_counts_nr.img attitudeset=1378_0502020101_AttHk.ds eventset=EPN_clean.fits             expimageset=EPN_exp_nr_2000-5000.img pimin=2000 pimax=5000\n",
      "evselect table=EPN_clean.fits xcolumn=X ycolumn=Y imagebinning=binSize ximagebinsize=80             yimagebinsize=80 withimageset=true imageset=EPN_counts_nr_5000-7000.img expression=\"#XMMEA_EP&&(PATTERN<=4)&&(PI in [5000:7000])&&gti(EPN_gti.fits,TIME)\"\n",
      "eexpmap imageset=EPN_counts_nr.img attitudeset=1378_0502020101_AttHk.ds eventset=EPN_clean.fits             expimageset=EPN_exp_nr_5000-7000.img pimin=5000 pimax=7000\n",
      "evselect table=Oot_clean.fits xcolumn=X ycolumn=Y imagebinning=binSize ximagebinsize=80             yimagebinsize=80 withimageset=true imageset=Oot_counts_nr_700-1200.img expression=\"#XMMEA_EP&&(PATTERN<=4)&&(PI in [700:1200])&&gti(Oot_gti.fits,TIME)\"\n",
      "eexpmap imageset=Oot_counts_nr.img attitudeset=1378_0502020101_AttHk.ds eventset=Oot_clean.fits             expimageset=Oot_exp_nr_700-1200.img pimin=700 pimax=1200\n",
      "evselect table=Oot_clean.fits xcolumn=X ycolumn=Y imagebinning=binSize ximagebinsize=80             yimagebinsize=80 withimageset=true imageset=Oot_counts_nr_1200-2000.img expression=\"#XMMEA_EP&&(PATTERN<=4)&&(PI in [1200:2000])&&gti(Oot_gti.fits,TIME)\"\n",
      "eexpmap imageset=Oot_counts_nr.img attitudeset=1378_0502020101_AttHk.ds eventset=Oot_clean.fits             expimageset=Oot_exp_nr_1200-2000.img pimin=1200 pimax=2000\n",
      "evselect table=Oot_clean.fits xcolumn=X ycolumn=Y imagebinning=binSize ximagebinsize=80             yimagebinsize=80 withimageset=true imageset=Oot_counts_nr_2000-5000.img expression=\"#XMMEA_EP&&(PATTERN<=4)&&(PI in [2000:5000])&&gti(Oot_gti.fits,TIME)\"\n",
      "eexpmap imageset=Oot_counts_nr.img attitudeset=1378_0502020101_AttHk.ds eventset=Oot_clean.fits             expimageset=Oot_exp_nr_2000-5000.img pimin=2000 pimax=5000\n",
      "evselect table=Oot_clean.fits xcolumn=X ycolumn=Y imagebinning=binSize ximagebinsize=80             yimagebinsize=80 withimageset=true imageset=Oot_counts_nr_5000-7000.img expression=\"#XMMEA_EP&&(PATTERN<=4)&&(PI in [5000:7000])&&gti(Oot_gti.fits,TIME)\"\n",
      "eexpmap imageset=Oot_counts_nr.img attitudeset=1378_0502020101_AttHk.ds eventset=Oot_clean.fits             expimageset=Oot_exp_nr_5000-7000.img pimin=5000 pimax=7000\n"
     ]
    }
   ],
   "source": [
    "import glob\n",
    "data_dir = '/stage/headat/yanling/xmm/reduction_230227/101'\n",
    "os.chdir(data_dir)\n",
    "f = open('data_img_allbands.sh', 'w')\n",
    "\n",
    "instruments = ['EMOS1', 'EMOS2', 'EPN', 'Oot']\n",
    "for instrument in instruments:\n",
    "    for band in ['700-1200', '1200-2000', '2000-5000', '5000-7000']:\n",
    "        blo = band.split('-')[0]\n",
    "        bhi = band.split('-')[1]\n",
    "        if(instrument == 'EPN')or (instrument =='Oot'):\n",
    "            ins = 'EP'\n",
    "            pattern = 4\n",
    "            \n",
    "        else:\n",
    "            ins = 'EM'\n",
    "            pattern = 12\n",
    "            \n",
    "        # Create image\n",
    "        fname = instrument + '_clean.fits'\n",
    "        # print(f'evselect table={fname} xcolumn=X ycolumn=Y imagebinning=binSize ximagebinsize=20 \\\n",
    "        #     yimagebinsize=20 withimageset=true imageset={instrument}_oofov_clean.img expression=\"#XMMEA_16&&(PATTERN<={pattern})&&(PI in [9000:12000])\"')\n",
    "        # f.write(f'evselect table={fname} xcolumn=X ycolumn=Y imagebinning=binSize ximagebinsize=20 \\\n",
    "        #     yimagebinsize=20 withimageset=true imageset={instrument}_oofov_clean.img expression=\"#XMMEA_16&&(PATTERN<={pattern})&&(PI in [9000:12000])\"\\n')\n",
    "        print(f'evselect table={fname} xcolumn=X ycolumn=Y imagebinning=binSize ximagebinsize=80 \\\n",
    "            yimagebinsize=80 withimageset=true imageset={instrument}_counts_nr_{blo}-{bhi}.img expression=\"#XMMEA_{ins}&&(PATTERN<={pattern})&&(PI in [{blo}:{bhi}])&&gti({instrument}_gti.fits,TIME)\"')\n",
    "        f.write(f'evselect table={fname} xcolumn=X ycolumn=Y imagebinning=binSize ximagebinsize=80 \\\n",
    "            yimagebinsize=80 withimageset=true imageset={instrument}_counts_nr_{blo}-{bhi}.img expression=\"#XMMEA_{ins}&&(PATTERN<={pattern})&&(PI in [{blo}:{bhi}])&&gti({instrument}_gti.fits,TIME)\"\\n')\n",
    "        \n",
    "        # Create exposure map\n",
    "        fname = glob.glob('*_AttHk.ds')[0]\n",
    "\n",
    "        print(f'eexpmap imageset={instrument}_counts_nr.img attitudeset={fname} eventset={instrument}_clean.fits \\\n",
    "            expimageset={instrument}_exp_nr_{band}.img pimin={blo} pimax={bhi}')\n",
    "        f.write(f'eexpmap imageset={instrument}_counts_nr.img attitudeset={fname} eventset={instrument}_clean.fits \\\n",
    "            expimageset={instrument}_exp_nr_{band}.img pimin={blo} pimax={bhi}\\n')\n",
    "        # note: no expmap for oot\n",
    "f.close()\n",
    "\n",
    "\n"
   ]
  },
  {
   "cell_type": "code",
   "execution_count": 14,
   "metadata": {},
   "outputs": [
    {
     "data": {
      "text/plain": [
       "'5000'"
      ]
     },
     "execution_count": 14,
     "metadata": {},
     "output_type": "execute_result"
    }
   ],
   "source": [
    "band.split('-')[0]"
   ]
  },
  {
   "cell_type": "markdown",
   "metadata": {},
   "source": [
    "manage pn image (substract oot data)"
   ]
  },
  {
   "cell_type": "code",
   "execution_count": 11,
   "metadata": {},
   "outputs": [
    {
     "name": "stdout",
     "output_type": "stream",
     "text": [
      "farith Oot_counts_nr_700-1200.img 0.023 Oot_rescaled_counts_700-1200.img MUL clobber=yes\n",
      "farith EPN_counts_nr_700-1200.img Oot_rescaled_counts_700-1200.img EPN_corr_counts_700-1200.img SUB clobber=yes\n",
      "farith Oot_counts_nr_1200-2000.img 0.023 Oot_rescaled_counts_1200-2000.img MUL clobber=yes\n",
      "farith EPN_counts_nr_1200-2000.img Oot_rescaled_counts_1200-2000.img EPN_corr_counts_1200-2000.img SUB clobber=yes\n",
      "farith Oot_counts_nr_2000-5000.img 0.023 Oot_rescaled_counts_2000-5000.img MUL clobber=yes\n",
      "farith EPN_counts_nr_2000-5000.img Oot_rescaled_counts_2000-5000.img EPN_corr_counts_2000-5000.img SUB clobber=yes\n",
      "farith Oot_counts_nr_5000-7000.img 0.023 Oot_rescaled_counts_5000-7000.img MUL clobber=yes\n",
      "farith EPN_counts_nr_5000-7000.img Oot_rescaled_counts_5000-7000.img EPN_corr_counts_5000-7000.img SUB clobber=yes\n"
     ]
    }
   ],
   "source": [
    "f = open(f'data_pn_corr_bands.sh', 'w')\n",
    "for band in ['700-1200', '1200-2000', '2000-5000', '5000-7000']:\n",
    "      \n",
    "      frame = 'eff'\n",
    "      # Scale OoT image\n",
    "      if(frame == 'eff'):\n",
    "            print(f'farith Oot_counts_nr_{band}.img 0.023 Oot_rescaled_counts_{band}.img MUL clobber=yes')\n",
    "            f.write(f'farith Oot_counts_nr_{band}.img 0.023 Oot_rescaled_counts_{band}.img MUL clobber=yes \\n')\n",
    "            \n",
    "      elif(frame == 'ff'):\n",
    "            print(f'farith Oot_counts_nr_{band}.img 0.063 Oot_rescaled_counts_{band}.img MUL clobber=yes')\n",
    "            f.write(f'farith Oot_counts_nr_{band}.img 0.063 Oot_rescaled_counts_{band}.img MUL clobber=yes \\n')\n",
    "\n",
    "      print(f'farith EPN_counts_nr_{band}.img Oot_rescaled_counts_{band}.img EPN_corr_counts_{band}.img SUB clobber=yes')\n",
    "      f.write(f'farith EPN_counts_nr_{band}.img Oot_rescaled_counts_{band}.img EPN_corr_counts_{band}.img SUB clobber=yes \\n')\n",
    "f.close()"
   ]
  },
  {
   "cell_type": "markdown",
   "metadata": {},
   "source": [
    "check the images"
   ]
  },
  {
   "cell_type": "code",
   "execution_count": null,
   "metadata": {},
   "outputs": [],
   "source": [
    "# from astropy.visualization import astropy_mpl_style\n",
    "import matplotlib.colors as colors\n",
    "# plt.style.use(astropy_mpl_style)\n",
    "plt.style.use('default')\n",
    "from astropy.utils.data import get_pkg_data_filename\n",
    "from astropy.wcs import WCS\n",
    "from astropy.convolution import convolve\n",
    "from astropy.convolution import Gaussian2DKernel\n",
    "kernel = Gaussian2DKernel(x_stddev=1)\n",
    "# 'EPN_corr_counts'\n",
    "file = f\"{workdir}/EMOS2_bkg_700-1200\"\n",
    "hdu = fits.open(f'{file}.img')[0]\n",
    "image_data = hdu.data\n",
    "print(image_data.shape)\n",
    "fig = plt.figure(figsize = (6,6))\n",
    "ax = fig.add_axes([0.1, 0.1, 0.8, 0.8], projection=WCS(f'{file}.img'))\n",
    "ra = ax.coords[0]\n",
    "dec = ax.coords[1]\n",
    "# plt.grid(color='grey', ls='dashed')\n",
    "plt.grid('off')\n",
    "ra.set_axislabel('RA')\n",
    "dec.set_axislabel('Dec')\n",
    "image_data = np.where(np.isfinite(np.log10(image_data)), image_data, np.nan)\n",
    "astropy_conv = convolve(image_data, kernel)\n",
    "plt.imshow(astropy_conv[50:650,50:550], cmap='gnuplot2', norm = colors.LogNorm(), origin='lower')\n",
    "plt.colorbar()\n",
    "plt.savefig(f'{file}.png')\n",
    "plt.show()\n",
    "plt.clf()\n"
   ]
  },
  {
   "cell_type": "markdown",
   "metadata": {},
   "source": [
    "# 3. emosaic image and bkg images, and substract image with bkg \n",
    "\n",
    "remember to generate bkg images for new energy bands in xmm_bkg_extraction.ipynb!"
   ]
  },
  {
   "cell_type": "code",
   "execution_count": 13,
   "metadata": {},
   "outputs": [],
   "source": [
    "workdir = '/stage/headat/yanling/xmm/reduction_230227/merged'\n",
    "os.makedirs(workdir, exist_ok=True)\n",
    "os.chdir(workdir)\n",
    "for obs in [101, 201]:\n",
    "        for band in ['700-1200', '1200-2000', '2000-5000', '5000-7000']:\n",
    "                os.system(f'cp /stage/headat/yanling/xmm/fwc_dat/mos1_closed_FF_2022_v2_obs{obs}_bkg_clean_{band}_scaled.img .')\n",
    "                os.system(f'cp /stage/headat/yanling/xmm/fwc_dat/mos2_closed_FF_2022_v2_obs{obs}_bkg_clean_{band}_scaled.img .')\n",
    "                os.system(f'cp /stage/headat/yanling/xmm/fwc_dat/pn_closed_EFF_2022_v2_obs{obs}_bkg_clean_{band}_scaled_corr.img .')\n",
    "\n",
    "                os.system(f'cp /stage/headat/yanling/xmm/reduction_230227/{obs}/EMOS1_counts_nr_{band}.img EMOS1_counts_obs{obs}_{band}.img')\n",
    "                os.system(f'cp /stage/headat/yanling/xmm/reduction_230227/{obs}/EMOS2_counts_nr_{band}.img EMOS2_counts_obs{obs}_{band}.img')\n",
    "                os.system(f'cp /stage/headat/yanling/xmm/reduction_230227/{obs}/EPN_corr_counts_{band}.img EPN_counts_obs{obs}_{band}.img')\n",
    "\n",
    "                os.system(f'cp /stage/headat/yanling/xmm/reduction_230227/{obs}/EMOS1_exp_nr_{band}.img EMOS1_exp_obs{obs}_{band}.img')\n",
    "                os.system(f'cp /stage/headat/yanling/xmm/reduction_230227/{obs}/EMOS2_exp_nr_{band}.img EMOS2_exp_obs{obs}_{band}.img')\n",
    "                os.system(f'cp /stage/headat/yanling/xmm/reduction_230227/{obs}/EPN_exp_nr_{band}.img EPN_exp_obs{obs}_{band}.img')\n"
   ]
  },
  {
   "cell_type": "markdown",
   "metadata": {},
   "source": [
    "merge btw instruments"
   ]
  },
  {
   "cell_type": "code",
   "execution_count": 2,
   "metadata": {},
   "outputs": [
    {
     "name": "stdout",
     "output_type": "stream",
     "text": [
      "emosaic imagesets=\"EMOS1_counts_obs101_700-1200.img EMOS1_counts_obs201_700-1200.img\" mosaicedset=EMOS1_cts_700-1200.img withexposure=no\n",
      "emosaic imagesets=\"EMOS1_exp_obs101_700-1200.img EMOS1_exp_obs201_700-1200.img\" mosaicedset=EMOS1_exp_700-1200.img withexposure=no\n",
      "emosaic imagesets=\"mos1_closed_FF_2022_v2_obs101_bkg_clean_700-1200_scaled.img mos1_closed_FF_2022_v2_obs201_bkg_clean_700-1200_scaled.img\" mosaicedset=EMOS1_bkg_700-1200.img withexposure=no\n",
      "emosaic imagesets=\"EMOS2_counts_obs101_700-1200.img EMOS2_counts_obs201_700-1200.img\" mosaicedset=EMOS2_cts_700-1200.img withexposure=no\n",
      "emosaic imagesets=\"EMOS2_exp_obs101_700-1200.img EMOS2_exp_obs201_700-1200.img\" mosaicedset=EMOS2_exp_700-1200.img withexposure=no\n",
      "emosaic imagesets=\"mos2_closed_FF_2022_v2_obs101_bkg_clean_700-1200_scaled.img mos2_closed_FF_2022_v2_obs201_bkg_clean_700-1200_scaled.img\" mosaicedset=EMOS2_bkg_700-1200.img withexposure=no\n",
      "emosaic imagesets=\"EPN_counts_obs101_700-1200.img EPN_counts_obs201_700-1200.img\" mosaicedset=EPN_cts_700-1200.img withexposure=no\n",
      "emosaic imagesets=\"EPN_exp_obs101_700-1200.img EPN_exp_obs201_700-1200.img\" mosaicedset=EPN_exp_700-1200.img withexposure=no\n",
      "emosaic imagesets=\"pn_closed_EFF_2022_v2_obs101_bkg_clean_700-1200_scaled_corr.img pn_closed_EFF_2022_v2_obs201_bkg_clean_700-1200_scaled_corr.img\" mosaicedset=EPN_bkg_700-1200.img withexposure=no\n",
      "emosaic imagesets=\"EMOS1_counts_obs101_1200-2000.img EMOS1_counts_obs201_1200-2000.img\" mosaicedset=EMOS1_cts_1200-2000.img withexposure=no\n",
      "emosaic imagesets=\"EMOS1_exp_obs101_1200-2000.img EMOS1_exp_obs201_1200-2000.img\" mosaicedset=EMOS1_exp_1200-2000.img withexposure=no\n",
      "emosaic imagesets=\"mos1_closed_FF_2022_v2_obs101_bkg_clean_1200-2000_scaled.img mos1_closed_FF_2022_v2_obs201_bkg_clean_1200-2000_scaled.img\" mosaicedset=EMOS1_bkg_1200-2000.img withexposure=no\n",
      "emosaic imagesets=\"EMOS2_counts_obs101_1200-2000.img EMOS2_counts_obs201_1200-2000.img\" mosaicedset=EMOS2_cts_1200-2000.img withexposure=no\n",
      "emosaic imagesets=\"EMOS2_exp_obs101_1200-2000.img EMOS2_exp_obs201_1200-2000.img\" mosaicedset=EMOS2_exp_1200-2000.img withexposure=no\n",
      "emosaic imagesets=\"mos2_closed_FF_2022_v2_obs101_bkg_clean_1200-2000_scaled.img mos2_closed_FF_2022_v2_obs201_bkg_clean_1200-2000_scaled.img\" mosaicedset=EMOS2_bkg_1200-2000.img withexposure=no\n",
      "emosaic imagesets=\"EPN_counts_obs101_1200-2000.img EPN_counts_obs201_1200-2000.img\" mosaicedset=EPN_cts_1200-2000.img withexposure=no\n",
      "emosaic imagesets=\"EPN_exp_obs101_1200-2000.img EPN_exp_obs201_1200-2000.img\" mosaicedset=EPN_exp_1200-2000.img withexposure=no\n",
      "emosaic imagesets=\"pn_closed_EFF_2022_v2_obs101_bkg_clean_1200-2000_scaled_corr.img pn_closed_EFF_2022_v2_obs201_bkg_clean_1200-2000_scaled_corr.img\" mosaicedset=EPN_bkg_1200-2000.img withexposure=no\n",
      "emosaic imagesets=\"EMOS1_counts_obs101_2000-5000.img EMOS1_counts_obs201_2000-5000.img\" mosaicedset=EMOS1_cts_2000-5000.img withexposure=no\n",
      "emosaic imagesets=\"EMOS1_exp_obs101_2000-5000.img EMOS1_exp_obs201_2000-5000.img\" mosaicedset=EMOS1_exp_2000-5000.img withexposure=no\n",
      "emosaic imagesets=\"mos1_closed_FF_2022_v2_obs101_bkg_clean_2000-5000_scaled.img mos1_closed_FF_2022_v2_obs201_bkg_clean_2000-5000_scaled.img\" mosaicedset=EMOS1_bkg_2000-5000.img withexposure=no\n",
      "emosaic imagesets=\"EMOS2_counts_obs101_2000-5000.img EMOS2_counts_obs201_2000-5000.img\" mosaicedset=EMOS2_cts_2000-5000.img withexposure=no\n",
      "emosaic imagesets=\"EMOS2_exp_obs101_2000-5000.img EMOS2_exp_obs201_2000-5000.img\" mosaicedset=EMOS2_exp_2000-5000.img withexposure=no\n",
      "emosaic imagesets=\"mos2_closed_FF_2022_v2_obs101_bkg_clean_2000-5000_scaled.img mos2_closed_FF_2022_v2_obs201_bkg_clean_2000-5000_scaled.img\" mosaicedset=EMOS2_bkg_2000-5000.img withexposure=no\n",
      "emosaic imagesets=\"EPN_counts_obs101_2000-5000.img EPN_counts_obs201_2000-5000.img\" mosaicedset=EPN_cts_2000-5000.img withexposure=no\n",
      "emosaic imagesets=\"EPN_exp_obs101_2000-5000.img EPN_exp_obs201_2000-5000.img\" mosaicedset=EPN_exp_2000-5000.img withexposure=no\n",
      "emosaic imagesets=\"pn_closed_EFF_2022_v2_obs101_bkg_clean_2000-5000_scaled_corr.img pn_closed_EFF_2022_v2_obs201_bkg_clean_2000-5000_scaled_corr.img\" mosaicedset=EPN_bkg_2000-5000.img withexposure=no\n",
      "emosaic imagesets=\"EMOS1_counts_obs101_5000-7000.img EMOS1_counts_obs201_5000-7000.img\" mosaicedset=EMOS1_cts_5000-7000.img withexposure=no\n",
      "emosaic imagesets=\"EMOS1_exp_obs101_5000-7000.img EMOS1_exp_obs201_5000-7000.img\" mosaicedset=EMOS1_exp_5000-7000.img withexposure=no\n",
      "emosaic imagesets=\"mos1_closed_FF_2022_v2_obs101_bkg_clean_5000-7000_scaled.img mos1_closed_FF_2022_v2_obs201_bkg_clean_5000-7000_scaled.img\" mosaicedset=EMOS1_bkg_5000-7000.img withexposure=no\n",
      "emosaic imagesets=\"EMOS2_counts_obs101_5000-7000.img EMOS2_counts_obs201_5000-7000.img\" mosaicedset=EMOS2_cts_5000-7000.img withexposure=no\n",
      "emosaic imagesets=\"EMOS2_exp_obs101_5000-7000.img EMOS2_exp_obs201_5000-7000.img\" mosaicedset=EMOS2_exp_5000-7000.img withexposure=no\n",
      "emosaic imagesets=\"mos2_closed_FF_2022_v2_obs101_bkg_clean_5000-7000_scaled.img mos2_closed_FF_2022_v2_obs201_bkg_clean_5000-7000_scaled.img\" mosaicedset=EMOS2_bkg_5000-7000.img withexposure=no\n",
      "emosaic imagesets=\"EPN_counts_obs101_5000-7000.img EPN_counts_obs201_5000-7000.img\" mosaicedset=EPN_cts_5000-7000.img withexposure=no\n",
      "emosaic imagesets=\"EPN_exp_obs101_5000-7000.img EPN_exp_obs201_5000-7000.img\" mosaicedset=EPN_exp_5000-7000.img withexposure=no\n",
      "emosaic imagesets=\"pn_closed_EFF_2022_v2_obs101_bkg_clean_5000-7000_scaled_corr.img pn_closed_EFF_2022_v2_obs201_bkg_clean_5000-7000_scaled_corr.img\" mosaicedset=EPN_bkg_5000-7000.img withexposure=no\n"
     ]
    }
   ],
   "source": [
    "f = open(f'img_merge_obs_bands.sh' , 'w')\n",
    "for band in ['700-1200', '1200-2000', '2000-5000', '5000-7000',]:    \n",
    "    datas = f'EMOS1_counts_obs101_{band}.img EMOS1_counts_obs201_{band}.img'\n",
    "    exps = f'EMOS1_exp_obs101_{band}.img EMOS1_exp_obs201_{band}.img'\n",
    "    bkgs = f'mos1_closed_FF_2022_v2_obs101_bkg_clean_{band}_scaled.img mos1_closed_FF_2022_v2_obs201_bkg_clean_{band}_scaled.img'\n",
    "    print(f'emosaic imagesets=\"{datas}\" mosaicedset=EMOS1_cts_{band}.img withexposure=no')\n",
    "    print(f'emosaic imagesets=\"{exps}\" mosaicedset=EMOS1_exp_{band}.img withexposure=no')\n",
    "    print(f'emosaic imagesets=\"{bkgs}\" mosaicedset=EMOS1_bkg_{band}.img withexposure=no')\n",
    "    f.write(f'emosaic imagesets=\"{datas}\" mosaicedset=EMOS1_cts_{band}.img withexposure=no\\n')\n",
    "    f.write(f'emosaic imagesets=\"{exps}\" mosaicedset=EMOS1_exp_{band}.img withexposure=no\\n')\n",
    "    f.write(f'emosaic imagesets=\"{bkgs}\" mosaicedset=EMOS1_bkg_{band}.img withexposure=no\\n')\n",
    "\n",
    "    datas = f'EMOS2_counts_obs101_{band}.img EMOS2_counts_obs201_{band}.img'\n",
    "    exps = f'EMOS2_exp_obs101_{band}.img EMOS2_exp_obs201_{band}.img'\n",
    "    bkgs = f'mos2_closed_FF_2022_v2_obs101_bkg_clean_{band}_scaled.img mos2_closed_FF_2022_v2_obs201_bkg_clean_{band}_scaled.img'\n",
    "    print(f'emosaic imagesets=\"{datas}\" mosaicedset=EMOS2_cts_{band}.img withexposure=no')\n",
    "    print(f'emosaic imagesets=\"{exps}\" mosaicedset=EMOS2_exp_{band}.img withexposure=no')\n",
    "    print(f'emosaic imagesets=\"{bkgs}\" mosaicedset=EMOS2_bkg_{band}.img withexposure=no')\n",
    "    f.write(f'emosaic imagesets=\"{datas}\" mosaicedset=EMOS2_cts_{band}.img withexposure=no\\n')\n",
    "    f.write(f'emosaic imagesets=\"{exps}\" mosaicedset=EMOS2_exp_{band}.img withexposure=no\\n')\n",
    "    f.write(f'emosaic imagesets=\"{bkgs}\" mosaicedset=EMOS2_bkg_{band}.img withexposure=no\\n')\n",
    "\n",
    "    datas = f'EPN_counts_obs101_{band}.img EPN_counts_obs201_{band}.img'\n",
    "    exps = f'EPN_exp_obs101_{band}.img EPN_exp_obs201_{band}.img'\n",
    "    bkgs = f'pn_closed_EFF_2022_v2_obs101_bkg_clean_{band}_scaled_corr.img pn_closed_EFF_2022_v2_obs201_bkg_clean_{band}_scaled_corr.img'\n",
    "    print(f'emosaic imagesets=\"{datas}\" mosaicedset=EPN_cts_{band}.img withexposure=no')\n",
    "    print(f'emosaic imagesets=\"{exps}\" mosaicedset=EPN_exp_{band}.img withexposure=no')\n",
    "    print(f'emosaic imagesets=\"{bkgs}\" mosaicedset=EPN_bkg_{band}.img withexposure=no')\n",
    "    f.write(f'emosaic imagesets=\"{datas}\" mosaicedset=EPN_cts_{band}.img withexposure=no\\n')\n",
    "    f.write(f'emosaic imagesets=\"{exps}\" mosaicedset=EPN_exp_{band}.img withexposure=no\\n')\n",
    "    f.write(f'emosaic imagesets=\"{bkgs}\" mosaicedset=EPN_bkg_{band}.img withexposure=no\\n')\n",
    "f.close()"
   ]
  },
  {
   "cell_type": "markdown",
   "metadata": {},
   "source": [
    "emosaic all images"
   ]
  },
  {
   "cell_type": "code",
   "execution_count": 1,
   "metadata": {},
   "outputs": [
    {
     "name": "stdout",
     "output_type": "stream",
     "text": [
      "emosaic imagesets=\"EMOS1_cts_700-1200.img EMOS2_cts_700-1200.img EPN_cts_700-1200.img\" mosaicedset=EPIC_cts_700-1200.img withexposure=no\n",
      "emosaic imagesets=\"EMOS1_exp_700-1200.img EMOS2_exp_700-1200.img EPN_exp_700-1200.img\" mosaicedset=EPIC_exp_700-1200.img withexposure=no\n",
      "emosaic imagesets=\"EMOS1_bkg_700-1200.img EMOS2_bkg_700-1200.img EPN_bkg_700-1200.img\" mosaicedset=EPIC_bkg_700-1200.img withexposure=no\n",
      "emosaic imagesets=\"EMOS1_cts_1200-2000.img EMOS2_cts_1200-2000.img EPN_cts_1200-2000.img\" mosaicedset=EPIC_cts_1200-2000.img withexposure=no\n",
      "emosaic imagesets=\"EMOS1_exp_1200-2000.img EMOS2_exp_1200-2000.img EPN_exp_1200-2000.img\" mosaicedset=EPIC_exp_1200-2000.img withexposure=no\n",
      "emosaic imagesets=\"EMOS1_bkg_1200-2000.img EMOS2_bkg_1200-2000.img EPN_bkg_1200-2000.img\" mosaicedset=EPIC_bkg_1200-2000.img withexposure=no\n",
      "emosaic imagesets=\"EMOS1_cts_2000-5000.img EMOS2_cts_2000-5000.img EPN_cts_2000-5000.img\" mosaicedset=EPIC_cts_2000-5000.img withexposure=no\n",
      "emosaic imagesets=\"EMOS1_exp_2000-5000.img EMOS2_exp_2000-5000.img EPN_exp_2000-5000.img\" mosaicedset=EPIC_exp_2000-5000.img withexposure=no\n",
      "emosaic imagesets=\"EMOS1_bkg_2000-5000.img EMOS2_bkg_2000-5000.img EPN_bkg_2000-5000.img\" mosaicedset=EPIC_bkg_2000-5000.img withexposure=no\n",
      "emosaic imagesets=\"EMOS1_cts_5000-7000.img EMOS2_cts_5000-7000.img EPN_cts_5000-7000.img\" mosaicedset=EPIC_cts_5000-7000.img withexposure=no\n",
      "emosaic imagesets=\"EMOS1_exp_5000-7000.img EMOS2_exp_5000-7000.img EPN_exp_5000-7000.img\" mosaicedset=EPIC_exp_5000-7000.img withexposure=no\n",
      "emosaic imagesets=\"EMOS1_bkg_5000-7000.img EMOS2_bkg_5000-7000.img EPN_bkg_5000-7000.img\" mosaicedset=EPIC_bkg_5000-7000.img withexposure=no\n"
     ]
    }
   ],
   "source": [
    "workdir = '/stage/headat/yanling/xmm/reduction_230227/merged'\n",
    "os.chdir(workdir)\n",
    "f = open('img_merge_all_bands.sh' , 'w')\n",
    "for band in ['700-1200', '1200-2000', '2000-5000', '5000-7000',]:\n",
    "    datas = f'EMOS1_cts_{band}.img EMOS2_cts_{band}.img EPN_cts_{band}.img'\n",
    "    exps = f'EMOS1_exp_{band}.img EMOS2_exp_{band}.img EPN_exp_{band}.img'\n",
    "    bkgs = f'EMOS1_bkg_{band}.img EMOS2_bkg_{band}.img EPN_bkg_{band}.img'\n",
    "\n",
    "    print(f'emosaic imagesets=\"{datas}\" mosaicedset=EPIC_cts_{band}.img withexposure=no')\n",
    "    print(f'emosaic imagesets=\"{exps}\" mosaicedset=EPIC_exp_{band}.img withexposure=no')\n",
    "    print(f'emosaic imagesets=\"{bkgs}\" mosaicedset=EPIC_bkg_{band}.img withexposure=no')\n",
    "    f.write(f'emosaic imagesets=\"{datas}\" mosaicedset=EPIC_cts_{band}.img withexposure=no\\n')\n",
    "    f.write(f'emosaic imagesets=\"{exps}\" mosaicedset=EPIC_exp_{band}.img withexposure=no\\n')\n",
    "    f.write(f'emosaic imagesets=\"{bkgs}\" mosaicedset=EPIC_bkg_{band}.img withexposure=no\\n')\n",
    "f.close()"
   ]
  },
  {
   "cell_type": "markdown",
   "metadata": {},
   "source": [
    "subtract bkg"
   ]
  },
  {
   "cell_type": "code",
   "execution_count": null,
   "metadata": {},
   "outputs": [],
   "source": [
    "# data-bkg\n",
    "instruments = ['EMOS1', 'EMOS2', 'EPN']\n",
    "workdir = '/stage/headat/yanling/xmm/reduction_230227/merged'\n",
    "os.chdir(workdir)\n",
    "f = open('data_sub_bkg.sh', 'w')\n",
    "for ins in instruments:\n",
    "    for band in ['700-1200', '1200-2000', '2000-5000', '5000-7000',]:\n",
    "        blo = band.split('-')[0]\n",
    "        bhi = band.split('-')[1]\n",
    "        f.write(f'farith {ins}_cts_{blo}-{bhi}.img {ins}_bkg_{blo}-{bhi}.img {ins}_net_{blo}-{bhi}.img \"-\" clobber=yes\\n')\n",
    "        f.write(f'farith {ins}_net_{blo}-{bhi}.img {ins}_exp_{blo}-{bhi}.img {ins}_net_ctr_{blo}-{bhi}.img \"/\" clobber=yes\\n')\n",
    "f.close()"
   ]
  },
  {
   "cell_type": "markdown",
   "metadata": {},
   "source": [
    "only merge mos1, mos2"
   ]
  },
  {
   "cell_type": "code",
   "execution_count": 1,
   "metadata": {},
   "outputs": [
    {
     "name": "stdout",
     "output_type": "stream",
     "text": [
      "emosaic imagesets=\"EMOS1_cts_5000-7000.img EMOS2_cts_5000-7000.img\" mosaicedset=EMOS_cts_5000-7000.img withexposure=no\n",
      "emosaic imagesets=\"EMOS1_exp_5000-7000.img EMOS2_exp_5000-7000.img\" mosaicedset=EMOS_exp_5000-7000.img withexposure=no\n",
      "emosaic imagesets=\"EMOS1_bkg_5000-7000.img EMOS2_bkg_5000-7000.img\" mosaicedset=EMOS_bkg_5000-7000.img withexposure=no\n"
     ]
    }
   ],
   "source": [
    "workdir = '/stage/headat/yanling/xmm/reduction_230227/merged'\n",
    "os.chdir(workdir)\n",
    "for band in ['5000-7000']:\n",
    "    blo = band.split('-')[0]\n",
    "    bhi = band.split('-')[1]\n",
    "    f = open(f'img_merge_mos_{blo}-{bhi}.sh' , 'w')\n",
    "    datas = f'EMOS1_cts_{blo}-{bhi}.img EMOS2_cts_{blo}-{bhi}.img'\n",
    "    exps = f'EMOS1_exp_{blo}-{bhi}.img EMOS2_exp_{blo}-{bhi}.img'\n",
    "    bkgs = f'EMOS1_bkg_{blo}-{bhi}.img EMOS2_bkg_{blo}-{bhi}.img'\n",
    "\n",
    "    print(f'emosaic imagesets=\"{datas}\" mosaicedset=EMOS_cts_{blo}-{bhi}.img withexposure=no')\n",
    "    print(f'emosaic imagesets=\"{exps}\" mosaicedset=EMOS_exp_{blo}-{bhi}.img withexposure=no')\n",
    "    print(f'emosaic imagesets=\"{bkgs}\" mosaicedset=EMOS_bkg_{blo}-{bhi}.img withexposure=no')\n",
    "    f.write(f'emosaic imagesets=\"{datas}\" mosaicedset=EMOS_cts_{blo}-{bhi}.img withexposure=no\\n')\n",
    "    f.write(f'emosaic imagesets=\"{exps}\" mosaicedset=EMOS_exp_{blo}-{bhi}.img withexposure=no\\n')\n",
    "    f.write(f'emosaic imagesets=\"{bkgs}\" mosaicedset=EMOS_bkg_{blo}-{bhi}.img withexposure=no\\n')\n",
    "    f.close()"
   ]
  },
  {
   "cell_type": "markdown",
   "metadata": {},
   "source": [
    "# 5. wavdetect xmm"
   ]
  },
  {
   "cell_type": "markdown",
   "metadata": {},
   "source": [
    "create fov image"
   ]
  },
  {
   "cell_type": "code",
   "execution_count": null,
   "metadata": {},
   "outputs": [],
   "source": [
    "f = open('gen_fov.sh', 'w')\n",
    "instruments = ['EPIC']\n",
    "for ins in instruments:\n",
    "    print(f'dmimgcalc {ins}_net.img none {ins}_psf.fits op=\"imgout=((img1*0)+9.0)\" clobber=yes')\n",
    "    f.write(f'dmimgcalc {ins}_net.img none {ins}_psf.fits op=\"imgout=((img1*0)+9.0)\" clobber=yes\\n')\n",
    "    print(f'dmhedit {ins}_psf.fits none add BUNIT \"arcsec\"')\n",
    "    f.write(f'dmhedit {ins}_psf.fits none add BUNIT \"arcsec\"\\n')\n",
    "\n",
    "f.close()\n"
   ]
  },
  {
   "cell_type": "markdown",
   "metadata": {},
   "source": [
    "perform wavdetect"
   ]
  },
  {
   "cell_type": "code",
   "execution_count": null,
   "metadata": {},
   "outputs": [],
   "source": [
    "workdir = '/stage/headat/yanling/xmm/reduction_230227/merged'\n",
    "instruments = ['EPIC']\n",
    "sigthresh = 2e-6\n",
    "\n",
    "os.makedirs(f'{workdir}/wavdetect_sig{sigthresh}', exist_ok = True)\n",
    "os.chdir(f'{workdir}/wavdetect_sig{sigthresh}')\n",
    "f = open(f'wavdetect.sh', 'w')\n",
    "for ins in instruments:\n",
    "    print(f'punlearn wavdetect')\n",
    "    f.write(f'punlearn wavdetect')\n",
    "    print(f'wavdetect infile=../{ins}_net.img outfile={ins}_src.fits scellfile={ins}_scell.fits imagefile={ins}_imgfile.fits expfile=../{ins}_exp.img defnbkgfile={ins}_nbgd.fits regfile={ins}_src.reg scales=\"1.0 2.0 4.0\" clobber=yes ellsigma=4 sigthresh={sigthresh} psffile=../{ins}_psf.fits ')\n",
    "    f.write(f'wavdetect infile=../{ins}_net.img outfile={ins}_src.fits scellfile={ins}_scell.fits imagefile={ins}_imgfile.fits expfile=../{ins}_exp.img defnbkgfile={ins}_nbgd.fits regfile={ins}_src.reg scales=\"1.0 2.0 4.0\" clobber=yes ellsigma=4 sigthresh={sigthresh} psffile=../{ins}_psf.fits ')\n",
    "f.close()"
   ]
  },
  {
   "cell_type": "markdown",
   "metadata": {},
   "source": [
    "perform emldetect"
   ]
  },
  {
   "cell_type": "code",
   "execution_count": null,
   "metadata": {},
   "outputs": [],
   "source": [
    "likelihood=6"
   ]
  },
  {
   "cell_type": "markdown",
   "metadata": {},
   "source": [
    "run srcflux"
   ]
  },
  {
   "cell_type": "markdown",
   "metadata": {},
   "source": [
    "1. define bkg regions "
   ]
  },
  {
   "cell_type": "code",
   "execution_count": 1,
   "metadata": {},
   "outputs": [
    {
     "name": "stdout",
     "output_type": "stream",
     "text": [
      "roi infile=srclist_sum_ex_extend_byeye.fits outsrc=\"rui_src/src%d.fits\" radiusmode=mul bkgradius=2 group=individual fovregion=\"region(EPN_fov.reg)\" streakregion=\"circle(572,650,34)\"\n",
      "roi infile=srclist_sum_ex_extend_byeye.fits outsrc=\"rui_src/src%d.fits\" radiusmode=mul bkgradius=2 group=individual fovregion=\"region(EMOS1_fov.reg)\" streakregion=\"circle(572,650,34)\"\n",
      "roi infile=srclist_sum_ex_extend_byeye.fits outsrc=\"rui_src/src%d.fits\" radiusmode=mul bkgradius=2 group=individual fovregion=\"region(EMOS2_fov.reg)\" streakregion=\"circle(572,650,34)\"\n"
     ]
    }
   ],
   "source": [
    "#streak region is a random circle region out of fov\n",
    "os.chdir('/stage/headat/yanling/xmm/reduction_230227/merged/wavdetect')\n",
    "instruments = ['EPN', 'EMOS1', 'EMOS2']\n",
    "for ins in instruments:\n",
    "    os.makedirs(f'./rui_src', exist_ok=True)\n",
    "    print(f'roi infile=srclist_sum_ex_extend_byeye.fits outsrc=\"rui_src/src%d.fits\" radiusmode=mul bkgradius=2 group=individual fovregion=\"region({ins}_fov.reg)\" streakregion=\"circle(572,650,34)\"')"
   ]
  },
  {
   "cell_type": "markdown",
   "metadata": {},
   "source": [
    "combine regions from fits files in reg file and check"
   ]
  },
  {
   "cell_type": "code",
   "execution_count": null,
   "metadata": {},
   "outputs": [],
   "source": [
    "workdir = '/stage/headat/yanling/xmm/reduction_230227/merged/wavdetect'\n",
    "for ins in instruments:\n",
    "    f1 = open(f'{workdir}/{ins}_allsrc_individual.reg', 'w')\n",
    "    f2 = open(f'{workdir}/{ins}_allbkg_individual.reg', 'w')\n",
    "    f1.write('physical\\n')\n",
    "    f2.write('physical\\n')\n",
    "    reglists = glob.glob(f'{workdir}/{ins}_src_regions_individual/src*.fits')\n",
    "    for reg in reglists:\n",
    "        hdul = fits.open(reg)\n",
    "        l = hdul['SRCREG'].data\n",
    "        for i in range(len(l['X'])):\n",
    "            f1.write(f\"ellipse({l['X'][i]},{l['Y'][i]},{l['R'][i][0]},{l['R'][i][1]},{l['ROTANG'][i][0]})\\n\")\n",
    "        l = hdul['BKGREG'].data\n",
    "        i = 0\n",
    "        f2.write(f\"ellipse({l['X'][i]},{l['Y'][i]},{l['R'][i][0]},{l['R'][i][1]},{l['ROTANG'][i][0]})\\n\")\n",
    "        for i in range(1,len(l['X'])):\n",
    "            f2.write(f\"-ellipse({l['X'][i]},{l['Y'][i]},{l['R'][i][0]},{l['R'][i][1]},{l['ROTANG'][i][0]})\\n\")\n",
    "    f1.close()\n",
    "    f2.close()"
   ]
  },
  {
   "cell_type": "code",
   "execution_count": null,
   "metadata": {},
   "outputs": [],
   "source": [
    "# 在 vim 中删掉有nan 的行\n",
    "# 删掉两个 cluster\n",
    "# -> edited.reg"
   ]
  },
  {
   "cell_type": "code",
   "execution_count": null,
   "metadata": {},
   "outputs": [],
   "source": [
    "for ins in instruments:\n",
    "    f1 = open(f'{ins}_src.lis', 'w')\n",
    "    f2 = open(f'{ins}_bkg.lis', 'w')\n",
    "    reglists = glob.glob(f'{workdir}/{ins}_src_regions_individual/src*.fits')\n",
    "    for i in range(len(reglists)):\n",
    "        f1.write(f'{ins}_src_regions_individual/src{i+1}.fits[\"SRCREG\"]\\n')\n",
    "        f2.write(f'{ins}_src_regions_individual/src{i+1}.fits[\"BKGREG\"]\\n')\n",
    "    f1.close()\n",
    "    f2.close()"
   ]
  },
  {
   "cell_type": "markdown",
   "metadata": {},
   "source": [
    "run srcflux !srcflux can't run XMM dataset!"
   ]
  },
  {
   "cell_type": "code",
   "execution_count": null,
   "metadata": {},
   "outputs": [],
   "source": [
    "\n",
    "for ins in instruments:\n",
    "    os.makedirs(f'{workdir}/{ins}_srcflux', exist_ok=True)\n",
    "    print('punlearn srcflux')\n",
    "    print(f'srcflux infile=../../../101/{ins}_clean.fits pos=../../{ins}_src.fits outroot=srcflux bands=2.0:8.0:3.8 srcreg=@../{ins}_src.lis bkgreg=@../{ins}_bkg.lis psfmethod=ideal model=\"xstbabs.abs1*xspowerlaw.pow1\" paramvals=\"pow1.PhoIndex=1.4\" absmodel=\"xstbabs.abs1\" absparams=\"abs1.nH=1.62e-20\" abund=lodd clobber=yes')"
   ]
  },
  {
   "cell_type": "markdown",
   "metadata": {},
   "source": []
  },
  {
   "cell_type": "code",
   "execution_count": null,
   "metadata": {},
   "outputs": [],
   "source": []
  },
  {
   "cell_type": "markdown",
   "metadata": {},
   "source": [
    "use wavdetect to briefly estimate detection limit of point sources"
   ]
  },
  {
   "cell_type": "code",
   "execution_count": null,
   "metadata": {},
   "outputs": [],
   "source": [
    "workdir = '/stage/headat/yanling/xmm/reduction_230227/merged'\n",
    "hdul = fits.open(f'{workdir}/wavdetect_sig1e-06/EPIC_src.fits')\n",
    "# path = '/stage/headat/yanling/chandra/chandra/data/wavdetect_232223'\n",
    "# hdul = fits.open(f'{path}/wavdetect_merge_clean_withexp_src.fits')\n",
    "dat = hdul[1].data\n",
    "plt.hist(dat['NET_RATE'], np.logspace(-4,-1,20))\n",
    "plt.xscale('log')\n",
    "plt.yscale('log')\n",
    "plt.axvline(5E-4, color='r')\n",
    "plt.show()\n",
    "print(len(dat['NET_RATE']), dat['NET_RATE'].max())\n",
    "print(np.arange(len(dat['NET_RATE']))[dat['NET_RATE']> 0.8e-6])\n",
    "print(len(np.arange(len(dat['NET_RATE']))[dat['NET_RATE']> 0.8e-6]))"
   ]
  },
  {
   "cell_type": "markdown",
   "metadata": {},
   "source": [
    "exclude the src reg list via histogram above"
   ]
  },
  {
   "cell_type": "code",
   "execution_count": null,
   "metadata": {},
   "outputs": [],
   "source": [
    "path = '/stage/headat/yanling/xmm/reduction_230227/merged/wavdetect_sig1e-06'\n",
    "newf = open(f'{path}/EPIC_src_ctr5e-3.reg', 'w')\n",
    "f = open(f'{path}/EPIC_src.reg')\n",
    "hdul = fits.open(f'{path}/EPIC_src.fits')\n",
    "dat = hdul[1].data\n",
    "lines = f.readlines()\n",
    "f.close()\n",
    "lines = np.array(lines)[dat['NET_RATE']>5e-3]\n",
    "for line in lines:\n",
    "    newf.write(line)\n",
    "newf.close()"
   ]
  },
  {
   "cell_type": "markdown",
   "metadata": {},
   "source": [
    "create suzaku point source regions based on this (run locally)"
   ]
  },
  {
   "cell_type": "code",
   "execution_count": null,
   "metadata": {},
   "outputs": [],
   "source": [
    "path = '.'\n",
    "f = open(f'{path}/EPIC_src_ctr1e-3_fk5.reg')\n",
    "newf = open(f'{path}/EPIC_src_ctr1e-3_fk5_suzaku_9am.reg','w')\n",
    "lines = f.readlines()[3:]\n",
    "f.close()\n",
    "newf.write('fk5\\n')\n",
    "for line in lines:\n",
    "    ra = line.split('(')[-1].split(',')[0]\n",
    "    dec = line.split('(')[-1].split(',')[1]\n",
    "    newf.write(f\"circle({ra},{dec},0.9')\\n\")\n",
    "newf.close()"
   ]
  }
 ],
 "metadata": {
  "kernelspec": {
   "display_name": "Python 3.9.6 64-bit",
   "language": "python",
   "name": "python3"
  },
  "language_info": {
   "codemirror_mode": {
    "name": "ipython",
    "version": 3
   },
   "file_extension": ".py",
   "mimetype": "text/x-python",
   "name": "python",
   "nbconvert_exporter": "python",
   "pygments_lexer": "ipython3",
   "version": "3.9.2"
  },
  "orig_nbformat": 4,
  "vscode": {
   "interpreter": {
    "hash": "31f2aee4e71d21fbe5cf8b01ff0e069b9275f58929596ceb00d14d90e3e16cd6"
   }
  }
 },
 "nbformat": 4,
 "nbformat_minor": 2
}
