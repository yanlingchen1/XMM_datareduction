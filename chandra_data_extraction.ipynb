{
 "cells": [
  {
   "cell_type": "markdown",
   "metadata": {},
   "source": [
    "# extract images, expmaps, and nxb for sb profile (0.7-1.2 and 0.5-7 keV)"
   ]
  },
  {
   "cell_type": "code",
   "execution_count": 3,
   "metadata": {},
   "outputs": [],
   "source": [
    "import os\n",
    "workdir='/stage/headat/yanling/chandra/chandra/data'\n",
    "os.chdir(workdir)"
   ]
  },
  {
   "cell_type": "code",
   "execution_count": 15,
   "metadata": {},
   "outputs": [
    {
     "name": "stdout",
     "output_type": "stream",
     "text": [
      "make_instmap_weights 0.5-7_6kev.weight \"xsztbabs.abs1*xsapec.apec1\" paramvals=\"abs1.nh=0.0162;abs1.redshift=0;apec1.kt=6;apec1.redshift=0.21;apec1.abundanc=0.3\" xsect=\"vern\" abund=\"lodd\" emin=0.5 emax=7.0 ewidth=0.05 clobber=yes\n"
     ]
    }
   ],
   "source": [
    "print(f'make_instmap_weights 0.5-7_6kev.weight \"xsztbabs.abs1*xsapec.apec1\" paramvals=\"abs1.nh=0.0162;abs1.redshift=0;apec1.kt=6;apec1.redshift=0.21;apec1.abundanc=0.3\" xsect=\"vern\" abund=\"lodd\" emin=0.5 emax=7.0 ewidth=0.05 clobber=yes')"
   ]
  },
  {
   "cell_type": "code",
   "execution_count": 34,
   "metadata": {},
   "outputs": [
    {
     "name": "stdout",
     "output_type": "stream",
     "text": [
      "merge_obs \"@evt2.lst[ccd_id=0:3]\" image_bin_230305/0.5-7 bands=0.5-7_6kev.weight binsize=2 psfmerge=expmap psfecf=0.9 clobber=yes\n",
      "merge_obs \"@evt2.lst[ccd_id=0:3]\" image_bin_230305/0.7-1.2 bands=0.7-1.2_6kev.weight binsize=2 psfmerge=expmap psfecf=0.9 clobber=yes\n"
     ]
    }
   ],
   "source": [
    "for band in [ '0.5-7', '0.7-1.2']: \n",
    "    print(f'merge_obs \"@evt2.lst[ccd_id=0:3]\" image_bin_230305/{band} bands={band}_6kev.weight binsize=2 psfmerge=expmap psfecf=0.9 clobber=yes')"
   ]
  },
  {
   "cell_type": "code",
   "execution_count": 15,
   "metadata": {},
   "outputs": [
    {
     "name": "stdout",
     "output_type": "stream",
     "text": [
      "Python 3.9.2 (default, Feb 28 2021, 17:03:44) \n",
      "Type 'copyright', 'credits' or 'license' for more information\n",
      "IPython 7.20.0 -- An enhanced Interactive Python. Type '?' for help.\n",
      "\n",
      "\n"
     ]
    }
   ],
   "source": [
    "'''\n",
    "# the evt file here is for reproject matching, therefore no need to iterate the band. \n",
    "# the output is time scaled nxb file regarding to observations, and the nxbrate.txt file which log the scaling.\n",
    "python nxb.py ./A222.obsid image_bin_230303/0.5-7_merged_evt.fits --dir /stage/headat/yanling/chandra/chandra/data --nxbdir /stage/headat/zhang/share/bgstow_merged/ --reprocess\n",
    "'''\n",
    "from IPython import embed\n",
    "embed()"
   ]
  },
  {
   "cell_type": "code",
   "execution_count": 35,
   "metadata": {},
   "outputs": [
    {
     "name": "stdout",
     "output_type": "stream",
     "text": [
      "python gennxbmap.py /stage/headat/yanling/chandra/chandra/data/image_bin_230305 A222.obsid nxbrate.txt --eventdir /stage/headat/yanling/chandra/chandra/data --emin 500 --emax 7000 --prefix1 0.5-7 --prefix2 band1\n"
     ]
    }
   ],
   "source": [
    "print(f'python gennxbmap.py /stage/headat/yanling/chandra/chandra/data/image_bin_230305 A222.obsid nxbrate.txt --eventdir /stage/headat/yanling/chandra/chandra/data --emin 500 --emax 7000 --prefix1 0.5-7 --prefix2 band1')\n"
   ]
  },
  {
   "cell_type": "code",
   "execution_count": 28,
   "metadata": {},
   "outputs": [
    {
     "name": "stdout",
     "output_type": "stream",
     "text": [
      "(1468, 1359)\n"
     ]
    },
    {
     "name": "stderr",
     "output_type": "stream",
     "text": [
      "WARNING: FITSFixedWarning: 'datfix' made the change 'Set DATEREF to '1998-01-01' from MJDREF.\n",
      "Set MJD-END to 54308.862060 from DATE-END'. [astropy.wcs.wcs]\n",
      "<ipython-input-28-a81df9eda670>:28: RuntimeWarning: divide by zero encountered in log10\n",
      "  image_data = np.where(np.isfinite(np.log10(image_data)), image_data, np.nan)\n"
     ]
    },
    {
     "ename": "KeyboardInterrupt",
     "evalue": "",
     "output_type": "error",
     "traceback": [
      "\u001b[0;31m---------------------------------------------------------------------------\u001b[0m",
      "\u001b[0;31mKeyboardInterrupt\u001b[0m                         Traceback (most recent call last)",
      "\u001b[0;32m<ipython-input-28-a81df9eda670>\u001b[0m in \u001b[0;36m<module>\u001b[0;34m\u001b[0m\n\u001b[1;32m     27\u001b[0m \u001b[0mdec\u001b[0m\u001b[0;34m.\u001b[0m\u001b[0mset_axislabel\u001b[0m\u001b[0;34m(\u001b[0m\u001b[0;34m'Dec'\u001b[0m\u001b[0;34m)\u001b[0m\u001b[0;34m\u001b[0m\u001b[0;34m\u001b[0m\u001b[0m\n\u001b[1;32m     28\u001b[0m \u001b[0mimage_data\u001b[0m \u001b[0;34m=\u001b[0m \u001b[0mnp\u001b[0m\u001b[0;34m.\u001b[0m\u001b[0mwhere\u001b[0m\u001b[0;34m(\u001b[0m\u001b[0mnp\u001b[0m\u001b[0;34m.\u001b[0m\u001b[0misfinite\u001b[0m\u001b[0;34m(\u001b[0m\u001b[0mnp\u001b[0m\u001b[0;34m.\u001b[0m\u001b[0mlog10\u001b[0m\u001b[0;34m(\u001b[0m\u001b[0mimage_data\u001b[0m\u001b[0;34m)\u001b[0m\u001b[0;34m)\u001b[0m\u001b[0;34m,\u001b[0m \u001b[0mimage_data\u001b[0m\u001b[0;34m,\u001b[0m \u001b[0mnp\u001b[0m\u001b[0;34m.\u001b[0m\u001b[0mnan\u001b[0m\u001b[0;34m)\u001b[0m\u001b[0;34m\u001b[0m\u001b[0;34m\u001b[0m\u001b[0m\n\u001b[0;32m---> 29\u001b[0;31m \u001b[0mastropy_conv\u001b[0m \u001b[0;34m=\u001b[0m \u001b[0mconvolve\u001b[0m\u001b[0;34m(\u001b[0m\u001b[0mimage_data\u001b[0m\u001b[0;34m,\u001b[0m \u001b[0mkernel\u001b[0m\u001b[0;34m)\u001b[0m\u001b[0;34m\u001b[0m\u001b[0;34m\u001b[0m\u001b[0m\n\u001b[0m\u001b[1;32m     30\u001b[0m \u001b[0mplt\u001b[0m\u001b[0;34m.\u001b[0m\u001b[0mimshow\u001b[0m\u001b[0;34m(\u001b[0m\u001b[0mastropy_conv\u001b[0m\u001b[0;34m,\u001b[0m \u001b[0mcmap\u001b[0m\u001b[0;34m=\u001b[0m\u001b[0;34m'gnuplot2'\u001b[0m\u001b[0;34m,\u001b[0m \u001b[0mnorm\u001b[0m \u001b[0;34m=\u001b[0m \u001b[0mcolors\u001b[0m\u001b[0;34m.\u001b[0m\u001b[0mLogNorm\u001b[0m\u001b[0;34m(\u001b[0m\u001b[0;36m1\u001b[0m\u001b[0;34m,\u001b[0m\u001b[0;36m2\u001b[0m\u001b[0;34m)\u001b[0m\u001b[0;34m,\u001b[0m \u001b[0morigin\u001b[0m\u001b[0;34m=\u001b[0m\u001b[0;34m'lower'\u001b[0m\u001b[0;34m)\u001b[0m\u001b[0;34m\u001b[0m\u001b[0;34m\u001b[0m\u001b[0m\n\u001b[1;32m     31\u001b[0m \u001b[0mplt\u001b[0m\u001b[0;34m.\u001b[0m\u001b[0mcolorbar\u001b[0m\u001b[0;34m(\u001b[0m\u001b[0;34m)\u001b[0m\u001b[0;34m\u001b[0m\u001b[0;34m\u001b[0m\u001b[0m\n",
      "\u001b[0;32m~/.local/lib/python3.9/site-packages/astropy/nddata/decorators.py\u001b[0m in \u001b[0;36mwrapper\u001b[0;34m(data, *args, **kwargs)\u001b[0m\n\u001b[1;32m    260\u001b[0m                     )\n\u001b[1;32m    261\u001b[0m \u001b[0;34m\u001b[0m\u001b[0m\n\u001b[0;32m--> 262\u001b[0;31m             \u001b[0mresult\u001b[0m \u001b[0;34m=\u001b[0m \u001b[0mfunc\u001b[0m\u001b[0;34m(\u001b[0m\u001b[0mdata\u001b[0m\u001b[0;34m,\u001b[0m \u001b[0;34m*\u001b[0m\u001b[0margs\u001b[0m\u001b[0;34m,\u001b[0m \u001b[0;34m**\u001b[0m\u001b[0mkwargs\u001b[0m\u001b[0;34m)\u001b[0m\u001b[0;34m\u001b[0m\u001b[0;34m\u001b[0m\u001b[0m\n\u001b[0m\u001b[1;32m    263\u001b[0m \u001b[0;34m\u001b[0m\u001b[0m\n\u001b[1;32m    264\u001b[0m             \u001b[0;32mif\u001b[0m \u001b[0munpack\u001b[0m \u001b[0;32mand\u001b[0m \u001b[0mrepack\u001b[0m\u001b[0;34m:\u001b[0m\u001b[0;34m\u001b[0m\u001b[0;34m\u001b[0m\u001b[0m\n",
      "\u001b[0;32m~/.local/lib/python3.9/site-packages/astropy/convolution/convolve.py\u001b[0m in \u001b[0;36mconvolve\u001b[0;34m(array, kernel, boundary, fill_value, nan_treatment, normalize_kernel, mask, preserve_nan, normalization_zero_tol)\u001b[0m\n\u001b[1;32m    409\u001b[0m             )\n\u001b[1;32m    410\u001b[0m \u001b[0;34m\u001b[0m\u001b[0m\n\u001b[0;32m--> 411\u001b[0;31m     _convolveNd_c(\n\u001b[0m\u001b[1;32m    412\u001b[0m         \u001b[0mresult\u001b[0m\u001b[0;34m,\u001b[0m\u001b[0;34m\u001b[0m\u001b[0;34m\u001b[0m\u001b[0m\n\u001b[1;32m    413\u001b[0m         \u001b[0marray_to_convolve\u001b[0m\u001b[0;34m,\u001b[0m\u001b[0;34m\u001b[0m\u001b[0;34m\u001b[0m\u001b[0m\n",
      "\u001b[0;31mKeyboardInterrupt\u001b[0m: "
     ]
    },
    {
     "data": {
      "image/png": "[encoded data removed]",
      "text/plain": [
       "<Figure size 600x600 with 1 Axes>"
      ]
     },
     "metadata": {},
     "output_type": "display_data"
    }
   ],
   "source": [
    "# from astropy.visualization import astropy_mpl_style\n",
    "import matplotlib.colors as colors\n",
    "import matplotlib.pyplot as plt\n",
    "from astropy.io import fits\n",
    "import numpy as np\n",
    "# plt.style.use(astropy_mpl_style)\n",
    "plt.style.use('default')\n",
    "from astropy.utils.data import get_pkg_data_filename\n",
    "from astropy.wcs import WCS\n",
    "from astropy.convolution import convolve\n",
    "from astropy.convolution import Gaussian2DKernel\n",
    "kernel = Gaussian2DKernel(x_stddev=20)\n",
    "# 'EPN_corr_counts'\n",
    "workdir='/stage/headat/yanling/chandra/chandra/data'\n",
    "\n",
    "file = f\"{workdir}/image_bin_230305/0.7-1.2_band1_thresh.img\"\n",
    "hdu = fits.open(f'{file}')[0]\n",
    "image_data = hdu.data\n",
    "print(image_data.shape)\n",
    "fig = plt.figure(figsize = (6,6))\n",
    "ax = fig.add_axes([0.1, 0.1, 0.8, 0.8], projection=WCS(f'{file}'))\n",
    "ra = ax.coords[0]\n",
    "dec = ax.coords[1]\n",
    "# plt.grid(color='grey', ls='dashed')\n",
    "plt.grid('off')\n",
    "ra.set_axislabel('RA')\n",
    "dec.set_axislabel('Dec')\n",
    "image_data = np.where(np.isfinite(np.log10(image_data)), image_data, np.nan)\n",
    "astropy_conv = convolve(image_data, kernel)\n",
    "plt.imshow(astropy_conv, cmap='gnuplot2', norm = colors.LogNorm(1,2), origin='lower')\n",
    "plt.colorbar()\n",
    "# plt.savefig(f'{file}.png')\n",
    "plt.show()\n",
    "plt.clf()\n"
   ]
  },
  {
   "cell_type": "code",
   "execution_count": null,
   "metadata": {},
   "outputs": [],
   "source": []
  }
 ],
 "metadata": {
  "kernelspec": {
   "display_name": "Python 3.9.2 64-bit",
   "language": "python",
   "name": "python3"
  },
  "language_info": {
   "codemirror_mode": {
    "name": "ipython",
    "version": 3
   },
   "file_extension": ".py",
   "mimetype": "text/x-python",
   "name": "python",
   "nbconvert_exporter": "python",
   "pygments_lexer": "ipython3",
   "version": "3.9.2"
  },
  "orig_nbformat": 4,
  "vscode": {
   "interpreter": {
    "hash": "31f2aee4e71d21fbe5cf8b01ff0e069b9275f58929596ceb00d14d90e3e16cd6"
   }
  }
 },
 "nbformat": 4,
 "nbformat_minor": 2
}
