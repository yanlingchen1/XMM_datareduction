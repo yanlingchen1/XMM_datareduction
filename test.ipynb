{
 "cells": [
  {
   "cell_type": "code",
   "execution_count": null,
   "metadata": {},
   "outputs": [],
   "source": []
  },
  {
   "cell_type": "markdown",
   "metadata": {},
   "source": [
    "check the year of observation since 2000"
   ]
  },
  {
   "cell_type": "code",
   "execution_count": 5,
   "metadata": {},
   "outputs": [
    {
     "name": "stdout",
     "output_type": "stream",
     "text": [
      "Datetime to Seconds since epoch: 7.461838076370303\n"
     ]
    }
   ],
   "source": [
    "from datetime import datetime\n",
    "\n",
    "# input datetime\n",
    "dt = datetime(2007, 6, 22, 8, 48, 52)\n",
    "dt1 = datetime(2007, 6, 23, 4, 27, 50)\n",
    "dt2 = datetime(2007, 6, 18, 9, 4, 32)\n",
    "# epoch time\n",
    "epoch_time = datetime(2000, 1, 1, 0, 0, 0)\n",
    "\n",
    "# subtract Datetime from epoch datetime\n",
    "delta = (dt2 - epoch_time)\n",
    "print('Datetime to Seconds since epoch:', delta.total_seconds()/31556926)\n",
    "\n",
    "# 101 7.47393-> 99.5771 cts in ACIS-S3\n",
    "# 201 7.462-> BTW 99.41-99.5771 cts in ACIS-S3\n",
    "\n"
   ]
  },
  {
   "cell_type": "markdown",
   "metadata": {},
   "source": [
    "check if the events has been really filtered"
   ]
  },
  {
   "cell_type": "code",
   "execution_count": 2,
   "metadata": {},
   "outputs": [
    {
     "name": "stdout",
     "output_type": "stream",
     "text": [
      "evselect table=1378_0502020101_EMOS1_S001_ImagingEvts.ds withspectrumset=Y spectrumset=ori_spec.fits energycolumn=PI spectralbinsize=15 withspecranges=yes specchannelmin=0 specchannelmax=11999 expression=\"(FLAG==0) && (PATTERN<=12) && CCDNR.ne.6\"\n",
      "\n",
      "evselect table=1378_0502020101_EMOS1_S001_ImagingEvts.ds xcolumn=X ycolumn=Y imagebinning=binSize ximagebinsize=80 yimagebinsize=80 withimageset=Y imageset=ori_img.fits expression=\"(FLAG==0) && (PATTERN<=12) && CCDNR.ne.6\"\n",
      "\n",
      "evselect table=EMOS1_hiband_loband_clean_fov.fits withspectrumset=Y spectrumset=fil_spec.fits energycolumn=PI spectralbinsize=15 withspecranges=yes specchannelmin=0 specchannelmax=11999 expression=\"(FLAG==0) && (PATTERN<=12) && CCDNR.ne.6\"\n",
      "\n",
      "evselect table=EMOS1_hiband_loband_clean_fov.fits xcolumn=X ycolumn=Y imagebinning=binSize ximagebinsize=80 yimagebinsize=80 withimageset=Y imageset=fil_img.fits expression=\"(FLAG==0) && (PATTERN<=12) && CCDNR.ne.6\"\n",
      "\n"
     ]
    }
   ],
   "source": [
    "datadir = '/stage/headat/yanling/xmm/reduction_230227/101'\n",
    "ori_evt = '1378_0502020101_EMOS1_S001_ImagingEvts.ds'\n",
    "fil_evt = 'EMOS1_hiband_loband_clean_fov.fits'\n",
    "\n",
    "\n",
    "express = '(FLAG==0) && (PATTERN<=12) && CCDNR.ne.6'\n",
    "print(f'evselect table={ori_evt} withspectrumset=Y spectrumset=ori_spec.fits energycolumn=PI spectralbinsize=15 withspecranges=yes specchannelmin=0 specchannelmax=11999 expression=\"{express}\"\\n')\n",
    "print(f'evselect table={ori_evt} xcolumn=X ycolumn=Y imagebinning=binSize ximagebinsize=80 yimagebinsize=80 withimageset=Y imageset=ori_img.fits expression=\"{express}\"\\n')\n",
    "\n",
    "print(f'evselect table={fil_evt} withspectrumset=Y spectrumset=fil_spec.fits energycolumn=PI spectralbinsize=15 withspecranges=yes specchannelmin=0 specchannelmax=11999 expression=\"{express}\"\\n')\n",
    "print(f'evselect table={fil_evt} xcolumn=X ycolumn=Y imagebinning=binSize ximagebinsize=80 yimagebinsize=80 withimageset=Y imageset=fil_img.fits expression=\"{express}\"\\n')"
   ]
  },
  {
   "cell_type": "code",
   "execution_count": 3,
   "metadata": {},
   "outputs": [
    {
     "name": "stdout",
     "output_type": "stream",
     "text": [
      "evselect table=EMOS1_hiband_loband_clean_fov.fits xcolumn=X ycolumn=Y imagebinning=binSize ximagebinsize=80 yimagebinsize=80 withimageset=Y imageset=fil2_img.fits expression=\"(FLAG==0) && (PATTERN<=12) && CCDNR.ne.6&&gti(EMOS1_gti_loband_2023-05-05.fits,TIME)&&gti(EMOS1_gti_loband_2023-05-05.fits,TIME)\"\n",
      "\n"
     ]
    }
   ],
   "source": [
    "gtifile1 = 'EMOS1_gti_loband_2023-05-05.fits'\n",
    "gtifile2 = 'EMOS1_gti_hiband_2023-05-05.fits'\n",
    "print(f'evselect table={fil_evt} xcolumn=X ycolumn=Y imagebinning=binSize ximagebinsize=80 yimagebinsize=80 withimageset=Y imageset=fil2_img.fits expression=\"{express}&&gti({gtifile1},TIME)&&gti({gtifile1},TIME)\"\\n')\n"
   ]
  },
  {
   "cell_type": "code",
   "execution_count": null,
   "metadata": {},
   "outputs": [],
   "source": []
  }
 ],
 "metadata": {
  "kernelspec": {
   "display_name": "Python 3.9.2 64-bit",
   "language": "python",
   "name": "python3"
  },
  "language_info": {
   "codemirror_mode": {
    "name": "ipython",
    "version": 3
   },
   "file_extension": ".py",
   "mimetype": "text/x-python",
   "name": "python",
   "nbconvert_exporter": "python",
   "pygments_lexer": "ipython3",
   "version": "3.9.2"
  },
  "orig_nbformat": 4,
  "vscode": {
   "interpreter": {
    "hash": "31f2aee4e71d21fbe5cf8b01ff0e069b9275f58929596ceb00d14d90e3e16cd6"
   }
  }
 },
 "nbformat": 4,
 "nbformat_minor": 2
}
