{
 "cells": [
  {
   "cell_type": "code",
   "execution_count": null,
   "metadata": {},
   "outputs": [],
   "source": [
    "import os, glob\n",
    "import numpy as np\n",
    "import matplotlib.pyplot as plt\n",
    "import warnings\n",
    "import glob\n",
    "import subprocess as s\n",
    "warnings.filterwarnings(\"ignore\")\n",
    "\n",
    "from astropy.io import fits\n",
    "from scipy.optimize import curve_fit\n",
    "# from astropy.visualization import astropy_mpl_style\n",
    "import matplotlib.colors as colors\n",
    "import matplotlib.pyplot as plt\n",
    "# plt.style.use(astropy_mpl_style)\n",
    "plt.style.use('default')\n",
    "from astropy.utils.data import get_pkg_data_filename\n",
    "from astropy.wcs import WCS\n",
    "from astropy.convolution import convolve\n",
    "from astropy.convolution import Gaussian2DKernel\n",
    "from astropy.io import fits\n",
    "import numpy as np\n",
    "kernel = Gaussian2DKernel(x_stddev=1)\n",
    "\n"
   ]
  },
  {
   "cell_type": "markdown",
   "metadata": {},
   "source": [
    "# 1. basic setting"
   ]
  },
  {
   "cell_type": "code",
   "execution_count": null,
   "metadata": {},
   "outputs": [],
   "source": [
    "'''\n",
    "export SAS_CCF=/stage/headat/yanling/xmm/0502020201/ccf.cif\n",
    "export SAS_ODF=/stage/headat/yanling/xmm/0502020201/1378_0502020101_SCX00000SUM.SAS\n",
    "\n",
    "export SAS_CCF=/stage/headat/yanling/xmm/0502020101/ccf.cif\n",
    "export SAS_ODF=/stage/headat/yanling/xmm/0502020101/1378_0502020101_SCX00000SUM.SAS\n",
    "\n",
    "'''\n",
    "bkg_dir = '/stage/headat/yanling/xmm/fwc_dat_2023-05-10'\n"
   ]
  },
  {
   "cell_type": "markdown",
   "metadata": {},
   "source": [
    "# filter time of full-time background to the observing time"
   ]
  },
  {
   "cell_type": "markdown",
   "metadata": {},
   "source": [
    "calcualte seconds from ref time"
   ]
  },
  {
   "cell_type": "code",
   "execution_count": null,
   "metadata": {},
   "outputs": [],
   "source": [
    "# The TIME is expressed in terms of number of seconds since the reference time (1998-01-01T00:00:00) \n",
    "# the observe date of A222/223 of xmm is OBS1: 2007.6.18-19, OBS2:2007.6.22-23\n",
    "# for mos: take the time +/- 150 days, same as xisnxbgen\n",
    "# for pn: take +/- 1.5yr, \n",
    "from datetime import datetime\n",
    "\n",
    "date_format = '%Y-%m-%d %H:%M:%S'\n",
    "\n",
    "# Example dates\n",
    "date1 = '1998-01-01 00:00:00'\n",
    "date2 = '2007-06-11 00:00:00'\n",
    "\n",
    "# Convert dates to datetime objects\n",
    "datetime1 = datetime.strptime(date1, date_format)\n",
    "datetime2 = datetime.strptime(date2, date_format)\n",
    "\n",
    "# Calculate the difference in seconds\n",
    "difference_in_seconds = (datetime2 - datetime1).total_seconds()\n",
    "\n",
    "print(difference_in_seconds)\n",
    "print(f'for mos: {int(difference_in_seconds - 150*24*3600)}, {int(difference_in_seconds + 150*24*3600)}')\n",
    "print(f'for pn: {int(difference_in_seconds - 365*1.5*24*3600)}, {int(difference_in_seconds + 365*1.5*24*3600)}')\n",
    "\n"
   ]
  },
  {
   "cell_type": "markdown",
   "metadata": {},
   "source": [
    "filter the bkg event\n"
   ]
  },
  {
   "cell_type": "code",
   "execution_count": null,
   "metadata": {},
   "outputs": [],
   "source": [
    "bands = ['700-1200', '1200-2000', '2000-5000', '5000-7000']\n",
    "\n",
    "os.chdir(bkg_dir)\n",
    "os.makedirs('events/', exist_ok=True)\n",
    "os.makedirs('imgs/', exist_ok=True)\n",
    "f = open(f'events/filter_bkg_time.sh', 'w')\n",
    "files = glob.glob('mos*.fits.gz')\n",
    "for file in files:\n",
    "    # f.write(f'evselect table={file} expression=\"TIME>=250603200 && TIME<=345211200\" withfilteredset=yes filteredset=events/{file.split(\".\")[0]}_obstime.fits\\n')\n",
    "    if 'mos' in file:\n",
    "        pattern = 12\n",
    "        ins = 'EM'\n",
    "        if 'mos1' in file:\n",
    "            express = f'#XMMEA_{ins}&&(PATTERN<={pattern})&&FLAG==0&&(PI in [{blo}:{bhi}])&&(CCDNR.ne.6)'\n",
    "        else:\n",
    "            express = f'#XMMEA_{ins}&&(PATTERN<={pattern})&&FLAG==0&&(PI in [{blo}:{bhi}])'\n",
    "    else:\n",
    "        pattern = 4\n",
    "        ins = 'EP'\n",
    "        express = f'#XMMEA_{ins}&&(PATTERN<={pattern})&&FLAG==0&&(PI in [{blo}:{bhi}])'\n",
    "    for band in bands:\n",
    "        blo = band.split('-')[0]\n",
    "        bhi = band.split('-')[1]\n",
    "        f.write(f'evselect table=events/{file.split(\".\")[0]}_obstime.fits xcolumn=X ycolumn=Y imagebinning=binSize ximagebinsize=80 \\\n",
    "yimagebinsize=80 withimageset=true imageset=imgs/{file.split(\".\")[0]}_obstime_{band}_img.fits \\\n",
    "expression=\"{express}\"\\n')\n",
    "\n",
    "f.close()\n",
    "\n",
    "# sh events/filter_bkg_time.sh"
   ]
  },
  {
   "cell_type": "markdown",
   "metadata": {},
   "source": [
    "check if bkg event exp time < 230400 s, and how much is it"
   ]
  },
  {
   "cell_type": "code",
   "execution_count": null,
   "metadata": {},
   "outputs": [],
   "source": [
    "fitsheader mos1_closed_FF_2022_v2_obstime_img.fits | grep EXPOSURE\n",
    "\n",
    "fitsheader mos1_closed_FF_2022_v2_obstime.fits | grep TELAPSE\n",
    "TELAPSE = 2.01623987500000E+06 / [s] Full time interval for the exposure"
   ]
  },
  {
   "cell_type": "markdown",
   "metadata": {},
   "source": [
    "check the image"
   ]
  },
  {
   "cell_type": "code",
   "execution_count": null,
   "metadata": {},
   "outputs": [],
   "source": [
    "os.chdir(bkg_dir)\n",
    "os.makedirs('png', exist_ok=True)\n",
    "\n",
    "for file in glob.glob(f'imgs/*_img.fits'):\n",
    "    title = file\n",
    "    hdu = fits.open(f'{file}')[0]\n",
    "    image_data = hdu.data\n",
    "    print(image_data.shape)\n",
    "    fig = plt.figure(figsize = (6,6))\n",
    "    ax = fig.add_axes([0.1, 0.1, 0.8, 0.8], projection=WCS(f'{file}'))\n",
    "    ra = ax.coords[0]\n",
    "    dec = ax.coords[1]\n",
    "\n",
    "    ra.set_axislabel('RA')\n",
    "    dec.set_axislabel('Dec')\n",
    "    image_data = np.where(np.isfinite(np.log10(image_data)), image_data, np.nan)\n",
    "    astropy_conv = convolve(image_data, kernel)\n",
    "    ax.set_title(title)\n",
    "    print(np.nanmax(np.log10(image_data)), np.nanmin(np.log10(image_data)[image_data>0]))\n",
    "    ax.matshow(np.log10(astropy_conv[50:650,50:550]), vmax = 0.3,cmap='gnuplot2',origin='lower')\n",
    "    # plt.colorbar()\n",
    "    plt.savefig(f'png/{os.path.basename(file).split(\".\")[0]}.png')\n",
    "    plt.show()\n",
    "    plt.close()\n"
   ]
  },
  {
   "cell_type": "markdown",
   "metadata": {},
   "source": [
    "# 2. extract lightcurve of the background\n"
   ]
  },
  {
   "cell_type": "code",
   "execution_count": null,
   "metadata": {},
   "outputs": [],
   "source": [
    "today = '2023-5-10'\n",
    "os.makedirs('lc', exist_ok=True)\n",
    "f = open(f'lc/bkg_lc_{today}.sh', 'w')\n",
    "files = glob.glob(f'events/*.fits')\n",
    "for file in files:\n",
    "    file = file.split('.')[0].split('/')[-1]\n",
    "    if 'mos' in file:\n",
    "        pattern = 12\n",
    "        ins = 'EM'\n",
    "        if 'mos1' in file:\n",
    "            express1 = f'#XMMEA_{ins}&&(PATTERN<={pattern})&&FLAG==0&&(CCDNR.ne.6) && (PI in [9000:12000])'\n",
    "        else:\n",
    "            express1 = f'#XMMEA_{ins}&&(PATTERN<={pattern})&&FLAG==0 && (PI in [9000:12000])'\n",
    "    else:\n",
    "        pattern = 4\n",
    "        ins = 'EP'\n",
    "        express1 = f'#XMMEA_{ins}&&(PATTERN<={pattern})&&FLAG==0&& (PI in [9000:12000])'\n",
    "\n",
    "    express2 = f'#XMMEA_16&&(PATTERN<={pattern})&&FLAG==0&& (PI in [9000:12000])'\n",
    "    f.write(f'evselect table=events/{file}.fits withrateset=Y rateset=lc/rate_{file}_bkg_fov.fits \\\n",
    "maketimecolumn=Y timebinsize=100 makeratecolumn=Y expression=\"{express1}\"\\n')\n",
    "    f.write(f'evselect table=events/{file}.fits withrateset=Y rateset=lc/rate_{file}_bkg_oofov.fits \\\n",
    "maketimecolumn=Y timebinsize=100 makeratecolumn=Y expression=\"{express2}\"\\n')\n",
    "\n",
    "f.close()\n"
   ]
  },
  {
   "cell_type": "markdown",
   "metadata": {},
   "source": [
    "plot lightcone"
   ]
  },
  {
   "cell_type": "code",
   "execution_count": null,
   "metadata": {},
   "outputs": [],
   "source": [
    "\n",
    "files = glob.glob(f'lc/*_fov.fits')\n",
    "print(files)\n",
    "for file in files:\n",
    "    file = file.split('.')[0].split('/')[-1]\n",
    "    hdul = fits.open(f'lc/{file}.fits')\n",
    "    dat = hdul[1].data\n",
    "    hdul.close()\n",
    "    plt.figure(figsize = (8,8))\n",
    "    plt.scatter(dat['TIME'],dat['RATE'])#, yerr=dat['ERROR'])\n",
    "    plt.axhline(0.35, color = 'r')\n",
    "    plt.show()"
   ]
  },
  {
   "cell_type": "markdown",
   "metadata": {},
   "source": [
    "# 3. fit gaussian of bkg data"
   ]
  },
  {
   "cell_type": "code",
   "execution_count": null,
   "metadata": {},
   "outputs": [],
   "source": [
    "\n",
    "for file in files:\n",
    "    fit(f'rate_{file}_bkg.fits', './', PN_cts_limit = 3, EMOS_cts_limit = 0.6,)"
   ]
  },
  {
   "cell_type": "markdown",
   "metadata": {},
   "source": [
    "# 4. filter bkg data based on gaussian fitting results"
   ]
  },
  {
   "cell_type": "code",
   "execution_count": null,
   "metadata": {},
   "outputs": [],
   "source": [
    "# Keep log file \n",
    "bkg_dir = '/stage/headat/yanling/xmm/fwc_dat'\n",
    "os.chdir(bkg_dir)\n",
    "\n",
    "files = ['mos1_closed_FF_2022_v2', 'mos2_closed_FF_2022_v2', 'pn_closed_EFF_2022_v2', 'pn_closed_EFF_oot_2022_v2']\n",
    "f = open('bkg_gti.sh', 'w')\n",
    "for file in files:    \n",
    "        # Create GTI and filter\n",
    "        fname = f'rate_{file}_bkg.fits'\n",
    "        mean, sigma = fit(fname, bkg_dir, PN_cts_limit = 3, EMOS_cts_limit = 0.6, PLOT=False)\n",
    "        print(f'tabgtigen table={fname} expression=\"RATE<={mean+2*sigma}\" gtiset={file}_bkg_gti.fits')\n",
    "        f.write(f'tabgtigen table={fname} expression=\"RATE<={mean+2*sigma}\" gtiset={file}_bkg_gti.fits')\n",
    "f.close()\n",
    "\n",
    "f = open('bkg_clean.sh', 'w')\n",
    "for file in files:\n",
    "        if 'mos' in file:\n",
    "                ins = 'EM'\n",
    "        \n",
    "        else:\n",
    "                ins = 'EP'\n",
    "        print(f'evselect table={file}.fits.gz withfilteredset=Y filteredset={file}_bkg_clean.fits destruct=Y \\\n",
    "                keepfilteroutput=T expression=\"gti({file}_bkg_gti.fits,TIME)&&(PI>150)\"')\n",
    "        f.write(f'evselect table={file}.fits.gz withfilteredset=Y filteredset={file}_bkg_clean.fits destruct=Y \\\n",
    "                keepfilteroutput=T expression=\"gti({file}_bkg_gti.fits,TIME)&&(PI>150)\"')\n",
    "f.close()\n",
    "                "
   ]
  },
  {
   "cell_type": "markdown",
   "metadata": {},
   "source": [
    "# 5. scale counts rate of bkg at 9-12 keV from clean file"
   ]
  },
  {
   "cell_type": "markdown",
   "metadata": {},
   "source": [
    "extract high energies from bkg clean event files"
   ]
  },
  {
   "cell_type": "code",
   "execution_count": null,
   "metadata": {},
   "outputs": [],
   "source": [
    "bkg_dir = '/stage/headat/yanling/xmm/fwc_dat'\n",
    "os.chdir(bkg_dir)\n",
    "# after 2005, loss of emos1 ccd should be included\n",
    "files = ['mos1_closed_FF_2022_v2', 'mos2_closed_FF_2022_v2', 'pn_closed_EFF_2022_v2', 'pn_closed_EFF_oot_2022_v2']\n",
    "\n",
    "f = open('bkg_oofov_9-12_oofov_img.sh', 'w')\n",
    "for file in files:\n",
    "    if ('pn' in file):\n",
    "        pattern = 4\n",
    "        command = f'evselect table={file}_bkg_clean.fits withfilteredset=Y filteredset={file}_bkg_clean_9-12_oofov.fits \\\n",
    "            destruct=Y keepfilteroutput=T expression=\"#XMMEA_16&&(PATTERN<={pattern})&&(PI in [9000:12000])\"'\n",
    "        print(command)\n",
    "        f.write(command)\n",
    "    else:\n",
    "        pattern = 12\n",
    "        if ('mos1' in file):\n",
    "            command = f'evselect table={file}_bkg_clean.fits withfilteredset=Y filteredset={file}_bkg_clean_9-12_oofov.fits destruct=Y \\\n",
    "                    keepfilteroutput=T expression=\"#XMMEA_16&&(PATTERN<={pattern})&&(PI in [9000:12000])\\\n",
    "                    &&(CCDNR.ne.6)\"'\n",
    "            print(command)\n",
    "            f.write(command)\n",
    "        else:\n",
    "            command = f'evselect table={file}_bkg_clean.fits withfilteredset=Y filteredset={file}_bkg_clean_9-12_oofov.fits destruct=Y \\\n",
    "                    keepfilteroutput=T expression=\"#XMMEA_16&&(PATTERN<={pattern})&&(PI in [9000:12000])\"' #&&region({region_file})\n",
    "            print(command)\n",
    "            f.write(command)\n",
    "\n",
    "    command = f'evselect table={file}_bkg_clean_9-12_oofov.fits xcolumn=X ycolumn=Y imagebinning=binSize \\\n",
    "        ximagebinsize=20 yimagebinsize=20 withimageset=true imageset={file}_bkg_clean_9-12_oofov_img.fits'\n",
    "    print(command)\n",
    "    f.write(command)\n",
    "\n",
    "f.close()\n",
    "    \n"
   ]
  },
  {
   "cell_type": "markdown",
   "metadata": {},
   "source": [
    "Calculate background counts\n"
   ]
  },
  {
   "cell_type": "code",
   "execution_count": null,
   "metadata": {},
   "outputs": [],
   "source": [
    "files = ['mos1_closed_FF_2022_v2', 'mos2_closed_FF_2022_v2', 'pn_closed_EFF_2022_v2', 'pn_closed_EFF_oot_2022_v2']\n",
    "os.chdir(bkg_dir)\n",
    "\n",
    "f = open(f'{bkg_dir}/bkg_counts.log', 'w')\n",
    "bkg_counts_list = np.zeros(len(files))\n",
    "bkg_livetime_list = np.zeros(len(files))\n",
    "for i, file in enumerate(files):\n",
    "    fname = f'{file}_bkg_clean_9-12_oofov_img.fits'\n",
    "    hdul = fits.open(fname)\n",
    "    data = hdul[0].data\n",
    "    bkg_counts = np.sum(data)\n",
    "    hdul.close()\n",
    "\n",
    "    # Read livetime for bkg\n",
    "    fname = f'{file}_bkg_clean.fits'\n",
    "    hdul = fits.open(fname)\n",
    "    data = hdul[1].header\n",
    "    bkg_livetime = data['LIVETI02']\n",
    "    hdul.close()\n",
    "    bkg_counts_list[i] = bkg_counts\n",
    "    bkg_livetime_list[i] = bkg_livetime\n",
    "    print(file, bkg_counts, bkg_livetime, bkg_counts/bkg_livetime)\n",
    "    f.write(f'file, bkg_counts, bkg_livetime, bkg_counts/bkg_livetime')\n",
    "    f.write(f'{file}, {bkg_counts}, {bkg_livetime}, {bkg_counts/bkg_livetime}')\n",
    "f.close()\n"
   ]
  },
  {
   "cell_type": "markdown",
   "metadata": {},
   "source": [
    "extract clean events and images from observation files"
   ]
  },
  {
   "cell_type": "code",
   "execution_count": null,
   "metadata": {},
   "outputs": [],
   "source": [
    "data_dir = '/stage/headat/yanling/xmm/reduction_230227/101'\n",
    "os.chdir(data_dir)\n",
    "files = ['EMOS1', 'EMOS2', 'EPN', 'Oot']\n",
    "f = open(f'{data_dir}/data_oofov_9-12_oofov_img.sh', 'w')\n",
    "\n",
    "for file in files:\n",
    "    if (file=='EPN') or (file=='Oot'):\n",
    "        pattern=4\n",
    "        print(f'evselect table={file}_clean.fits withfilteredset=Y filteredset={file}_oofov_clean.fits \\\n",
    "        destruct=Y keepfilteroutput=T expression=\"#XMMEA_16&&(PATTERN<={pattern})&&(PI in [9000:12000])\"') #\"#XMMEA_16&&(PATTERN<={pattern})&&(PI in [9000:12000])\"\n",
    "        print(f'evselect table={file}_oofov_clean.fits xcolumn=X ycolumn=Y imagebinning=binSize \\\n",
    "            ximagebinsize=20 yimagebinsize=20 withimageset=true imageset={file}_oofov_counts.img')\n",
    "        f.write(f'evselect table={file}_clean.fits withfilteredset=Y filteredset={file}_oofov_clean.fits \\\n",
    "        destruct=Y keepfilteroutput=T expression=\"#XMMEA_16&&(PATTERN<={pattern})&&(PI in [9000:12000])\"')\n",
    "        f.write(f'evselect table={file}_oofov_clean.fits xcolumn=X ycolumn=Y imagebinning=binSize \\\n",
    "            ximagebinsize=20 yimagebinsize=20 withimageset=true imageset={file}_oofov_counts.img')\n",
    "    else:\n",
    "        pattern = 12\n",
    "        if 'MOS1' in file:\n",
    "            print(f'evselect table={file}_clean.fits withfilteredset=Y filteredset={file}_oofov_clean.fits destruct=Y \\\n",
    "                    keepfilteroutput=T expression=\"#XMMEA_16&&(PATTERN<={pattern})&&(PI in [9000:12000])\\\n",
    "                    &&(CCDNR.ne.6)\"') # &&region({region_file})\n",
    "            f.write(f'evselect table={file}_clean.fits withfilteredset=Y filteredset={file}_oofov_clean.fits destruct=Y \\\n",
    "                keepfilteroutput=T expression=\"#XMMEA_16&&(PATTERN<={pattern})&&(PI in [9000:12000])\\\n",
    "                &&(CCDNR.ne.6)\"')\n",
    "        else:\n",
    "            print(f'evselect table={file}_clean.fits withfilteredset=Y filteredset={file}_oofov_clean.fits destruct=Y \\\n",
    "                    keepfilteroutput=T expression=\"#XMMEA_16&&(PATTERN<={pattern})&&(PI in [9000:12000])') # &&region({region_file})\n",
    "            f.write(f'evselect table={file}_clean.fits withfilteredset=Y filteredset={file}_oofov_clean.fits destruct=Y \\\n",
    "                keepfilteroutput=T expression=\"#XMMEA_16&&(PATTERN<={pattern})&&(PI in [9000:12000])\"')\n",
    "        \n",
    "        print(f'evselect table={file}_oofov_clean.fits xcolumn=X ycolumn=Y imagebinning=binSize \\\n",
    "            ximagebinsize=20 yimagebinsize=20 withimageset=true imageset={file}_oofov_counts.img')\n",
    "        f.write(f'evselect table={file}_oofov_clean.fits xcolumn=X ycolumn=Y imagebinning=binSize \\\n",
    "            ximagebinsize=20 yimagebinsize=20 withimageset=true imageset={file}_oofov_counts.img')\n",
    "f.close()\n"
   ]
  },
  {
   "cell_type": "markdown",
   "metadata": {},
   "source": [
    "read data counts"
   ]
  },
  {
   "cell_type": "code",
   "execution_count": null,
   "metadata": {},
   "outputs": [],
   "source": [
    "# Read the counts\n",
    "data_dir = '/stage/headat/yanling/xmm/reduction_230227/201'\n",
    "os.chdir(data_dir)\n",
    "f = open(f'{data_dir}/data_oofov_counts.log', 'w')\n",
    "\n",
    "files = ['EMOS1', 'EMOS2', 'EPN', 'Oot']\n",
    "obs_counts_list = np.zeros(len(files))\n",
    "obs_livetime_list = np.zeros(len(files))\n",
    "for i, instrument in enumerate(files):\n",
    "    fname = glob.glob(instrument + '_oofov_*.img')[0]\n",
    "    hdul = fits.open(fname)\n",
    "    data = hdul[0].data\n",
    "\n",
    "    obs_counts = np.sum(data)\n",
    "\n",
    "    hdul.close()\n",
    "\n",
    "    # Read livetime for source\n",
    "    fname = instrument + '_clean.fits'\n",
    "    hdul = fits.open(fname)\n",
    "    data = hdul[1].header\n",
    "\n",
    "    obs_livetime = data['LIVETI02']\n",
    "\n",
    "    hdul.close()\n",
    "    print(instrument, obs_counts, obs_livetime, obs_counts/obs_livetime)\n",
    "    f.write('instrument, obs_counts, obs_livetime, obs_counts/obs_livetime')\n",
    "    f.write(f'{instrument}, {obs_counts}, {obs_livetime}, {obs_counts/obs_livetime}')\n",
    "    obs_counts_list[i] = obs_counts\n",
    "    obs_livetime_list[i] = obs_livetime\n",
    "f.close()\n",
    "\n",
    "'''oofov area \n",
    "bkg\n",
    "mos1_closed_FF_2022_v2 125161 1886442.17854285 0.06634764713365265\n",
    "mos2_closed_FF_2022_v2 136006 1859701.47908783 0.07313324290450635\n",
    "pn_closed_EFF_2022_v2 39345 739987.328768998 0.053169829361067796\n",
    "pn_closed_EFF_oot_2022_v2 35303 740268.032837234 0.04768948331416362\n",
    "101 obs \n",
    "EMOS1 3360 39004.5795996189 0.08614373067189345\n",
    "EMOS2 4230 46478.1277415752 0.09101055067276771\n",
    "EPN 1339 15959.1501955055 0.08390171052949275\n",
    "Oot 1116 14977.9862565659 0.07450934864563513\n",
    "'''\n",
    "obs_counts_list = np.array(obs_counts_list)\n",
    "obs_livetime_list = np.array(obs_livetime_list)\n",
    "bkg_counts_list = np.array(bkg_counts_list)\n",
    "bkg_livetime_list = np.array(bkg_livetime_list)\n",
    "f = open(f'{bkg_dir}/bkg_oofov_9-12_ratio_counts.log', 'w')\n",
    "f.write('instrument, ctr ratio, cts ratio')\n",
    "f.write(f'{instrument},{(obs_counts_list/obs_livetime_list)/(bkg_counts_list/bkg_livetime_list)}, {(obs_counts_list)/(bkg_counts_list)}')\n",
    "f.close()\n",
    "print('ctr ratio:', (obs_counts_list/obs_livetime_list)/(bkg_counts_list/bkg_livetime_list), 'cts ratio:', (obs_counts_list)/(bkg_counts_list))"
   ]
  },
  {
   "cell_type": "markdown",
   "metadata": {},
   "source": [
    "# 6. Generate scaled bkg cts image"
   ]
  },
  {
   "cell_type": "markdown",
   "metadata": {},
   "source": [
    "Reproject background events "
   ]
  },
  {
   "cell_type": "code",
   "execution_count": null,
   "metadata": {},
   "outputs": [],
   "source": [
    "'''\n",
    "attra=24.429 attdec=-12.870 attapos=-60.977\n",
    "attra=24.409 attdec=-12.943 attapos=-59.440\n",
    "'''\n",
    "f = open(f'{bkg_dir}/bkg_reproj_evt.sh', 'w')\n",
    "bkg_dir = '/stage/headat/yanling/xmm/fwc_dat'\n",
    "os.chdir(bkg_dir)\n",
    "# files = ['mos1_closed_FF_2022_v2', 'mos2_closed_FF_2022_v2', 'pn_closed_EFF_2022_v2', 'pn_closed_EFF_oot_2022_v2']\n",
    "files = ['mos2_closed_FF_2022_v2']\n",
    "ralist = [24.409, 24.429]\n",
    "declist = [-12.943, -12.870]\n",
    "palist = [59.440, 60.977]\n",
    "\n",
    "for j in range(2):\n",
    "        obs = f'{j+1}01'\n",
    "        ra = ralist[j]; dec = declist[j]; pa = palist[j]\n",
    "        for i in range(len(files)):\n",
    "                os.system(f'cp {files[i]}_bkg_clean.fits {files[i]}_obs{obs}_bkg_clean.fits')\n",
    "                print(f'evproject eventset={files[i]}_obs{obs}_bkg_clean.fits attsource=fixed attra={ra} attdec={dec} attapos={pa}')\n",
    "                f.write(f'cp {files[i]}_bkg_clean.fits {files[i]}_obs{obs}_bkg_clean.fits\\n')\n",
    "                f.write(f'evproject eventset={files[i]}_obs{obs}_bkg_clean.fits attsource=fixed attra={ra} attdec={dec} attapos={pa}\\n')\n",
    "\n",
    "f.close()\n"
   ]
  },
  {
   "cell_type": "markdown",
   "metadata": {},
   "source": [
    "extract and scale the bkg images"
   ]
  },
  {
   "cell_type": "code",
   "execution_count": null,
   "metadata": {},
   "outputs": [],
   "source": [
    "bkg_dir = '/stage/headat/yanling/xmm/fwc_dat'\n",
    "os.chdir(bkg_dir)\n",
    "files = ['mos1_closed_FF_2022_v2', 'mos2_closed_FF_2022_v2', 'pn_closed_EFF_2022_v2', 'pn_closed_EFF_oot_2022_v2']\n",
    "scales_dir = {'101':[0.02684542, 0.02770809, 0.02605008, 0.02399071], \n",
    "    '201':[0.02864311, 0.02867754, 0.04227544, 0.04520831]}\n",
    "os.chdir(bkg_dir)\n",
    "\n",
    "for obs in [101, 201]:\n",
    "    for band in ['700-1200', '1200-2000', '2000-5000', '5000-7000']:\n",
    "        blo = band.split('-')[0]\n",
    "        bhi = band.split('-')[1]\n",
    "\n",
    "        scales = scales_dir[str(obs)]\n",
    "        f = open(f'{bkg_dir}/bkg_img_obs{obs}_{blo}-{bhi}.sh', 'w')\n",
    "        for i, file in enumerate(files):\n",
    "            evtfile = f'{file}_obs{obs}_bkg_clean'\n",
    "            imgfile = f'{evtfile}_{blo}-{bhi}'\n",
    "            if ('pn' in file):\n",
    "                ins = 'EP'\n",
    "                pattern = 4\n",
    "                print(f'evselect table={evtfile}.fits xcolumn=X ycolumn=Y imagebinning=binSize ximagebinsize=80 \\\n",
    "yimagebinsize=80 withimageset=true imageset={imgfile}.img expression=\"#XMMEA_{ins}&&(PATTERN<={pattern})&&(PI>={blo})&&(PI<={bhi})\"')\n",
    "                f.write(f'evselect table={evtfile}.fits xcolumn=X ycolumn=Y imagebinning=binSize ximagebinsize=80 \\\n",
    "yimagebinsize=80 withimageset=true imageset={imgfile}.img expression=\"#XMMEA_{ins}&&(PATTERN<={pattern})&&(PI>={blo})&&(PI<={bhi})\"\\n')\n",
    "            else:\n",
    "                ins = 'EM'\n",
    "                pattern = 12\n",
    "                if 'mos1' in file:\n",
    "                    print(f'evselect table={evtfile}.fits xcolumn=X ycolumn=Y imagebinning=binSize ximagebinsize=80 \\\n",
    "yimagebinsize=80 withimageset=true imageset={imgfile}.img expression=\"#XMMEA_{ins}&&(PATTERN<={pattern})&&(PI>={blo})&&(PI<={bhi})&&(CCDNR.ne.6)\"')\n",
    "                    f.write(f'evselect table={evtfile}.fits xcolumn=X ycolumn=Y imagebinning=binSize ximagebinsize=80 \\\n",
    "yimagebinsize=80 withimageset=true imageset={imgfile}.img expression=\"#XMMEA_{ins}&&(PATTERN<={pattern})&&(PI>={blo})&&(PI<={bhi})&&(CCDNR.ne.6)\"\\n')\n",
    "                else:\n",
    "                    print(f'evselect table={evtfile}.fits xcolumn=X ycolumn=Y imagebinning=binSize ximagebinsize=80 \\\n",
    "yimagebinsize=80 withimageset=true imageset={imgfile}.img expression=\"#XMMEA_{ins}&&(PATTERN<={pattern})&&(PI>={blo})&&(PI<={bhi})\\n\"')\n",
    "                    f.write(f'evselect table={evtfile}.fits xcolumn=X ycolumn=Y imagebinning=binSize ximagebinsize=80 \\\n",
    "yimagebinsize=80 withimageset=true imageset={imgfile}.img expression=\"#XMMEA_{ins}&&(PATTERN<={pattern})&&(PI>={blo})&&(PI<={bhi})\"\\n')\n",
    "            \n",
    "            print(f'farith {imgfile}.img {scales[i]} {imgfile}_scaled.img \"*\" clobber=yes')\n",
    "            f.write(f'farith {imgfile}.img {scales[i]} {imgfile}_scaled.img \"*\" clobber=yes\\n')\n",
    "        f.close()"
   ]
  },
  {
   "cell_type": "markdown",
   "metadata": {},
   "source": []
  },
  {
   "cell_type": "markdown",
   "metadata": {},
   "source": [
    "manage pn image (substract oot data)"
   ]
  },
  {
   "cell_type": "code",
   "execution_count": null,
   "metadata": {},
   "outputs": [],
   "source": [
    "bkg_dir = '/stage/headat/yanling/xmm/fwc_dat'\n",
    "os.chdir(bkg_dir)\n",
    "f = open('bkg_pn_oot_corr.sh', 'w')\n",
    "for band in ['700-1200', '1200-2000', '2000-5000', '5000-7000']:\n",
    "      blo = band.split('-')[0]\n",
    "      bhi = band.split('-')[1]\n",
    "      frame = 'eff'\n",
    "      # Scale OoT image\n",
    "      for obs in [101,201]:\n",
    "            pn_imgname = f'pn_closed_EFF_2022_v2_obs{obs}_bkg_clean_{blo}-{bhi}_scaled'\n",
    "            oot_imgname = f'pn_closed_EFF_oot_2022_v2_obs{obs}_bkg_clean_{blo}-{bhi}_scaled'\n",
    "            if(frame == 'eff'):\n",
    "                  print(f'farith {oot_imgname}.img 0.023 {oot_imgname}_corr.img MUL clobber=yes')\n",
    "                  f.write(f'farith {oot_imgname}.img 0.023 {oot_imgname}_corr.img MUL clobber=yes\\n')\n",
    "                  \n",
    "            elif(frame == 'ff'):\n",
    "                  print(f'farith {oot_imgname}.img 0.063 {oot_imgname}_corr.img MUL clobber=yes')\n",
    "                  f.write(f'farith {oot_imgname}.img 0.063 {oot_imgname}_corr.img MUL clobber=yes\\n')\n",
    "\n",
    "            print(f'farith {pn_imgname}.img {oot_imgname}_corr.img {pn_imgname}_corr.img SUB clobber=yes')\n",
    "            f.write(f'farith {pn_imgname}.img {oot_imgname}_corr.img {pn_imgname}_corr.img SUB clobber=yes\\n')\n",
    "f.close()"
   ]
  },
  {
   "cell_type": "markdown",
   "metadata": {},
   "source": [
    "check bkg images"
   ]
  },
  {
   "cell_type": "code",
   "execution_count": null,
   "metadata": {},
   "outputs": [],
   "source": [
    "# from astropy.visualization import astropy_mpl_style\n",
    "import matplotlib.colors as colors\n",
    "# plt.style.use(astropy_mpl_style)\n",
    "plt.style.use('default')\n",
    "from astropy.utils.data import get_pkg_data_filename\n",
    "from astropy.wcs import WCS\n",
    "from astropy.convolution import convolve\n",
    "from astropy.convolution import Gaussian2DKernel\n",
    "kernel = Gaussian2DKernel(x_stddev=1)\n",
    "\n",
    "file = f'{bkg_dir}/mos2_closed_FF_2022_v2_obs201_bkg_clean_700-1200_scaled'\n",
    "# file = 'EPN_corr_counts'\n",
    "hdu = fits.open(f'{file}.img')[0]\n",
    "image_data = hdu.data\n",
    "print(image_data.shape)\n",
    "fig = plt.figure(figsize = (6,6))\n",
    "ax = fig.add_axes([0.1, 0.1, 0.8, 0.8], projection=WCS(f'{file}.img'))\n",
    "ra = ax.coords[0]\n",
    "dec = ax.coords[1]\n",
    "# plt.grid(color='grey', ls='dashed')\n",
    "plt.grid('off')\n",
    "ra.set_axislabel('RA')\n",
    "dec.set_axislabel('Dec')\n",
    "'''\n",
    "ra.set_ticks_visible(True)\n",
    "dec.set_ticks_visible(True)\n",
    "ra.display_minor_ticks(True)\n",
    "dec.display_minor_ticks(True)\n",
    "ra.set_ticks_position('all')\n",
    "ra.set_ticks(number=4)\n",
    "dec.set_ticks(number=4)\n",
    "'''\n",
    "image_data = np.where(np.isfinite(np.log10(image_data)), image_data, np.nan)\n",
    "astropy_conv = convolve(image_data, kernel)\n",
    "plt.imshow(astropy_conv, cmap='gnuplot2', norm = colors.LogNorm(vmin = 1e-1, vmax = 1), origin='lower')\n",
    "plt.colorbar()\n",
    "plt.savefig(f'{file}.png')\n",
    "plt.show()\n",
    "plt.clf()\n",
    "print(np.min(np.log10(image_data[50:550,50:550])))"
   ]
  },
  {
   "cell_type": "code",
   "execution_count": null,
   "metadata": {},
   "outputs": [],
   "source": []
  }
 ],
 "metadata": {
  "kernelspec": {
   "display_name": "Python 3.9.6 64-bit",
   "language": "python",
   "name": "python3"
  },
  "language_info": {
   "codemirror_mode": {
    "name": "ipython",
    "version": 3
   },
   "file_extension": ".py",
   "mimetype": "text/x-python",
   "name": "python",
   "nbconvert_exporter": "python",
   "pygments_lexer": "ipython3",
   "version": "3.9.2"
  },
  "orig_nbformat": 4,
  "vscode": {
   "interpreter": {
    "hash": "31f2aee4e71d21fbe5cf8b01ff0e069b9275f58929596ceb00d14d90e3e16cd6"
   }
  }
 },
 "nbformat": 4,
 "nbformat_minor": 2
}
