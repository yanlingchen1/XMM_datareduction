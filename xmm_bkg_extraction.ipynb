{
 "cells": [
  {
   "cell_type": "code",
   "execution_count": 19,
   "metadata": {},
   "outputs": [],
   "source": [
    "import os, glob\n",
    "import numpy as np\n",
    "import matplotlib.pyplot as plt\n",
    "import warnings\n",
    "import glob\n",
    "import subprocess as s\n",
    "warnings.filterwarnings(\"ignore\")\n",
    "\n",
    "from astropy.io import fits\n",
    "from astropy.time import Time\n",
    "from astropy.table import Table\n",
    "from scipy.optimize import curve_fit\n",
    "\n"
   ]
  },
  {
   "cell_type": "code",
   "execution_count": null,
   "metadata": {},
   "outputs": [],
   "source": [
    "def plotting(x, y, y_err, model, xlim, ObsID, instrument, figures_path,  xscale='linear', bkg=False):\n",
    "    fig, (ax1, ax2) = plt.subplots(2, 1, figsize=(8,8), sharex=True, gridspec_kw={'height_ratios': [3, 1]})\n",
    "    ax1.tick_params(direction='in', which='both', length=5, labelsize=15)\n",
    "    ax2.tick_params(direction='in', which='both', length=5, labelsize=15)\n",
    "\n",
    "    plt.suptitle('RATE')\n",
    "    \n",
    "    ax1.set_ylabel(r'N', fontsize = 15.0)\n",
    "    ax1.set_xscale(xscale)\n",
    "    \n",
    "    ax1.set_xlim(0, xlim[1])\n",
    "\n",
    "    ax1.errorbar(x, y, yerr=y_err, fmt='o', capsize=2, label='Data')\n",
    "    ax1.plot(x, model, label='Fit')\n",
    "    ax1.legend(loc='best', fontsize=15.0)\n",
    "\n",
    "    ax2.set_ylabel(r'Ratio', fontsize = 15.0)\n",
    "    ax2.set_ylim(0.5,1.5)\n",
    "    ax2.axhline(y=1.)\n",
    "\n",
    "    ax2.errorbar(x, y/model, yerr=y_err/model, fmt='o', capsize=2)\n",
    "\n",
    "    ax2.set_xlabel('Rate [cts/s]', fontsize = 15.0)\n",
    "\n",
    "    plt.subplots_adjust(hspace=0.1)\n",
    "    \n",
    "    # if not bkg:\n",
    "    #     plt.savefig(figures_path+f'{ObsID}_{instrument}_rate_fit.png', bbox_inches='tight')\n",
    "    # else:\n",
    "    #     plt.savefig(figures_path+f'{instrument}_bkg_rate_fit.png', bbox_inches='tight')\n",
    "    \n",
    "    plt.show()\n",
    "    \n",
    "def fit(fname, path, PN_cts_limit = 15, EMOS_cts_limit = 15, PLOT=True):\n",
    "    os.chdir(path)\n",
    "\n",
    "    hdul = fits.open(fname)\n",
    "    data = hdul[1].data\n",
    "\n",
    "    time = data['time']\n",
    "    rate = data['rate']\n",
    "    rate_err = data['error']\n",
    "\n",
    "    hdul.close()\n",
    "    \n",
    "    # Delete zero rates\n",
    "    where = np.where(rate == 0)[0]\n",
    "\n",
    "    time = np.delete(time, where)\n",
    "    rate = np.delete(rate, where)\n",
    "    rate_err = np.delete(rate_err, where)\n",
    "    # filter maximum counts rate before fitting\n",
    "    if('pn' in fname or 'oot' in fname):\n",
    "        where = np.where(rate > PN_cts_limit)[0]\n",
    "        time = np.delete(time, where)\n",
    "        rate = np.delete(rate, where)\n",
    "        rate_err = np.delete(rate_err, where)\n",
    "            \n",
    "    else:\n",
    "        where = np.where(rate > EMOS_cts_limit)[0]\n",
    "        time = np.delete(time, where)\n",
    "        rate = np.delete(rate, where)\n",
    "        rate_err = np.delete(rate_err, where)\n",
    "\n",
    "\n",
    "    # Make histogram\n",
    "    hist, bin_edges = np.histogram(np.log10(rate), bins=20)\n",
    "        \n",
    "    bin_mid = 0.5*(bin_edges[1:] + bin_edges[:-1])\n",
    "    bin_mid = 10**(bin_mid)\n",
    "    hist_err = np.sqrt(hist)\n",
    "    \n",
    "    # Define gaussian function\n",
    "    gaussian = lambda x, amp, cen, sig: amp * np.exp(-(x-cen)**2 / sig**2)\n",
    "    \n",
    "    where = np.where(hist_err == 0)[0]\n",
    "\n",
    "    bin_mid = np.delete(bin_mid, where)\n",
    "    hist = np.delete(hist, where)\n",
    "    hist_err = np.delete(hist_err, where)\n",
    "    \n",
    "    # Fit\n",
    "    init_vals = [max(hist), np.mean(bin_mid), np.std(hist_err)]\n",
    "    \n",
    "    best_vals, covar = curve_fit(gaussian, bin_mid, hist, p0=init_vals, sigma=1/hist_err, bounds=((0, 0, 0),\n",
    "                                                                                        (np.inf, np.inf, np.inf)),\n",
    "                                maxfev=100000)\n",
    "    \n",
    "    if PLOT == True:\n",
    "        print(best_vals[1],best_vals[2])\n",
    "        plotting(bin_mid, hist, hist_err, gaussian(bin_mid, *best_vals), \n",
    "                    [best_vals[1]-2*best_vals[2], best_vals[1]+2*best_vals[2]], 201, \n",
    "                    fname, figures_path='./', bkg=True)\n",
    "        \n",
    "\n",
    "        # check with the original lightcurve data\n",
    "        plt.figure(figsize = (8,8))\n",
    "        plt.scatter(data['time'],data['rate'])#, yerr=dat['ERROR'])\n",
    "        \n",
    "        plt.axhline(best_vals[1]+best_vals[2], color = 'r')\n",
    "        plt.axhline(best_vals[1]+1.5*best_vals[2], color = 'r')\n",
    "        plt.axhline(best_vals[1]+2*best_vals[2], color = 'r')\n",
    "        plt.title(f'{fname}')\n",
    "        plt.show()\n",
    "    return best_vals[1], best_vals[2]\n",
    "\n"
   ]
  },
  {
   "cell_type": "markdown",
   "metadata": {},
   "source": [
    "# 1. basic setting"
   ]
  },
  {
   "cell_type": "code",
   "execution_count": 2,
   "metadata": {},
   "outputs": [],
   "source": [
    "'''\n",
    "export SAS_CCF=/stage/headat/yanling/xmm/0502020201/ccf.cif\n",
    "export SAS_ODF=/stage/headat/yanling/xmm/0502020201/1378_0502020101_SCX00000SUM.SAS\n",
    "\n",
    "export SAS_CCF=/stage/headat/yanling/xmm/0502020101/ccf.cif\n",
    "export SAS_ODF=/stage/headat/yanling/xmm/0502020101/1378_0502020101_SCX00000SUM.SAS\n",
    "\n",
    "'''\n",
    "bkg_dir = '/stage/headat/yanling/xmm/fwc_dat'\n"
   ]
  },
  {
   "cell_type": "markdown",
   "metadata": {},
   "source": [
    "# 2. extract lightcurve of the background\n"
   ]
  },
  {
   "cell_type": "code",
   "execution_count": null,
   "metadata": {},
   "outputs": [],
   "source": [
    "def bkg_lc(fname, analysis_path):\n",
    "    os.chdir(analysis_path)\n",
    "    # Check which instrument is requested and process accordingly\n",
    "    if('pn' in fname):\n",
    "        inst = 'EP'\n",
    "        pattern = 4\n",
    "    else:\n",
    "        inst = 'EM'\n",
    "        pattern = 12\n",
    "    \n",
    "    print(f'evselect table={fname}.fits.gz withrateset=Y rateset=rate_{fname}_bkg.fits \\\n",
    "        maketimecolumn=Y timebinsize=100 makeratecolumn=Y expression=\"#XMMEA_{inst} && (PI in [9000:12000]) && (PATTERN<={pattern})\"')\n",
    "    f.write(f'evselect table={fname}.fits.gz withrateset=Y rateset=rate_{fname}_bkg.fits \\\n",
    "        maketimecolumn=Y timebinsize=100 makeratecolumn=Y expression=\"#XMMEA_{inst} && (PI in [9000:12000]) && (PATTERN<={pattern})\"')\n",
    "    \n",
    "\n",
    "files = ['mos1_closed_FF_2022_v2', 'mos2_closed_FF_2022_v2', 'pn_closed_EFF_2022_v2', 'pn_closed_EFF_oot_2022_v2']\n",
    "f = open(f'{bkg_dir}/bkg_lc.sh', 'w')\n",
    "for fname in files:\n",
    "    bkg_lc(fname, bkg_dir) \n",
    "f.close()\n"
   ]
  },
  {
   "cell_type": "markdown",
   "metadata": {},
   "source": [
    "plot lightcone"
   ]
  },
  {
   "cell_type": "code",
   "execution_count": null,
   "metadata": {},
   "outputs": [],
   "source": [
    "bkg_dir = '/stage/headat/yanling/xmm/fwc_dat'\n",
    "os.chdir(bkg_dir)\n",
    "files = ['mos1_closed_FF_2022_v2', 'mos2_closed_FF_2022_v2', 'pn_closed_EFF_2022_v2', 'pn_closed_EFF_oot_2022_v2']\n",
    "\n",
    "hdul = fits.open(f'rate_{files[0]}_bkg.fits')\n",
    "dat = hdul[1].data\n",
    "hdul.close()\n",
    "plt.figure(figsize = (8,8))\n",
    "plt.scatter(dat['TIME'],dat['RATE'])#, yerr=dat['ERROR'])\n",
    "plt.axhline(0.35, color = 'r')\n",
    "plt.show()"
   ]
  },
  {
   "cell_type": "markdown",
   "metadata": {},
   "source": [
    "# 3. fit gaussian of bkg data"
   ]
  },
  {
   "cell_type": "code",
   "execution_count": null,
   "metadata": {},
   "outputs": [],
   "source": [
    "files = ['mos1_closed_FF_2022_v2', 'mos2_closed_FF_2022_v2', 'pn_closed_EFF_2022_v2', 'pn_closed_EFF_oot_2022_v2']\n",
    "\n",
    "for file in files:\n",
    "    fit(f'rate_{file}_bkg.fits', './', PN_cts_limit = 3, EMOS_cts_limit = 0.6,)"
   ]
  },
  {
   "cell_type": "markdown",
   "metadata": {},
   "source": [
    "# 4. filter bkg data based on gaussian fitting results"
   ]
  },
  {
   "cell_type": "code",
   "execution_count": 47,
   "metadata": {},
   "outputs": [
    {
     "name": "stdout",
     "output_type": "stream",
     "text": [
      "tabgtigen table=rate_mos1_closed_FF_2022_v2_bkg.fits expression=\"RATE<=0.33894348390483187\" gtiset=mos1_closed_FF_2022_v2_bkg_gti.fits\n",
      "tabgtigen table=rate_mos2_closed_FF_2022_v2_bkg.fits expression=\"RATE<=0.4398252665694047\" gtiset=mos2_closed_FF_2022_v2_bkg_gti.fits\n",
      "tabgtigen table=rate_pn_closed_EFF_2022_v2_bkg.fits expression=\"RATE<=1.0568921852852617\" gtiset=pn_closed_EFF_2022_v2_bkg_gti.fits\n",
      "tabgtigen table=rate_pn_closed_EFF_oot_2022_v2_bkg.fits expression=\"RATE<=1.1206854926795056\" gtiset=pn_closed_EFF_oot_2022_v2_bkg_gti.fits\n",
      "evselect table=mos1_closed_FF_2022_v2.fits.gz withfilteredset=Y filteredset=mos1_closed_FF_2022_v2_bkg_clean.fits destruct=Y                 keepfilteroutput=T expression=\"gti(mos1_closed_FF_2022_v2_bkg_gti.fits,TIME)&&(PI>150)\"\n",
      "evselect table=mos2_closed_FF_2022_v2.fits.gz withfilteredset=Y filteredset=mos2_closed_FF_2022_v2_bkg_clean.fits destruct=Y                 keepfilteroutput=T expression=\"gti(mos2_closed_FF_2022_v2_bkg_gti.fits,TIME)&&(PI>150)\"\n",
      "evselect table=pn_closed_EFF_2022_v2.fits.gz withfilteredset=Y filteredset=pn_closed_EFF_2022_v2_bkg_clean.fits destruct=Y                 keepfilteroutput=T expression=\"gti(pn_closed_EFF_2022_v2_bkg_gti.fits,TIME)&&(PI>150)\"\n",
      "evselect table=pn_closed_EFF_oot_2022_v2.fits.gz withfilteredset=Y filteredset=pn_closed_EFF_oot_2022_v2_bkg_clean.fits destruct=Y                 keepfilteroutput=T expression=\"gti(pn_closed_EFF_oot_2022_v2_bkg_gti.fits,TIME)&&(PI>150)\"\n"
     ]
    }
   ],
   "source": [
    "# Keep log file \n",
    "bkg_dir = '/stage/headat/yanling/xmm/fwc_dat'\n",
    "os.chdir(bkg_dir)\n",
    "\n",
    "files = ['mos1_closed_FF_2022_v2', 'mos2_closed_FF_2022_v2', 'pn_closed_EFF_2022_v2', 'pn_closed_EFF_oot_2022_v2']\n",
    "f = open('bkg_gti.sh', 'w')\n",
    "for file in files:    \n",
    "        # Create GTI and filter\n",
    "        fname = f'rate_{file}_bkg.fits'\n",
    "        mean, sigma = fit(fname, bkg_dir, PN_cts_limit = 3, EMOS_cts_limit = 0.6, PLOT=False)\n",
    "        print(f'tabgtigen table={fname} expression=\"RATE<={mean+2*sigma}\" gtiset={file}_bkg_gti.fits')\n",
    "        f.write(f'tabgtigen table={fname} expression=\"RATE<={mean+2*sigma}\" gtiset={file}_bkg_gti.fits')\n",
    "f.close()\n",
    "\n",
    "f = open('bkg_clean.sh', 'w')\n",
    "for file in files:\n",
    "        if 'mos' in file:\n",
    "                ins = 'EM'\n",
    "        \n",
    "        else:\n",
    "                ins = 'EP'\n",
    "        print(f'evselect table={file}.fits.gz withfilteredset=Y filteredset={file}_bkg_clean.fits destruct=Y \\\n",
    "                keepfilteroutput=T expression=\"gti({file}_bkg_gti.fits,TIME)&&(PI>150)\"')\n",
    "        f.write(f'evselect table={file}.fits.gz withfilteredset=Y filteredset={file}_bkg_clean.fits destruct=Y \\\n",
    "                keepfilteroutput=T expression=\"gti({file}_bkg_gti.fits,TIME)&&(PI>150)\"')\n",
    "f.close()\n",
    "                "
   ]
  },
  {
   "cell_type": "markdown",
   "metadata": {},
   "source": [
    "# 5. scale counts rate of bkg at 9-12 keV from clean file"
   ]
  },
  {
   "cell_type": "markdown",
   "metadata": {},
   "source": [
    "extract high energies from bkg clean event files"
   ]
  },
  {
   "cell_type": "code",
   "execution_count": 51,
   "metadata": {},
   "outputs": [
    {
     "name": "stdout",
     "output_type": "stream",
     "text": [
      "evselect table=mos1_closed_FF_2022_v2_bkg_clean.fits withfilteredset=Y filteredset=mos1_closed_FF_2022_v2_bkg_clean_9-12_oofov.fits destruct=Y                     keepfilteroutput=T expression=\"#XMMEA_16&&(PATTERN<=12)&&(PI in [9000:12000])                    &&(CCDNR.ne.6)\"\n",
      "evselect table=mos1_closed_FF_2022_v2_bkg_clean_9-12_oofov.fits xcolumn=X ycolumn=Y imagebinning=binSize         ximagebinsize=20 yimagebinsize=20 withimageset=true imageset=mos1_closed_FF_2022_v2_bkg_clean_9-12_oofov_img.fits\n",
      "evselect table=mos2_closed_FF_2022_v2_bkg_clean.fits withfilteredset=Y filteredset=mos2_closed_FF_2022_v2_bkg_clean_9-12_oofov.fits destruct=Y                     keepfilteroutput=T expression=\"#XMMEA_16&&(PATTERN<=12)&&(PI in [9000:12000])\"\n",
      "evselect table=mos2_closed_FF_2022_v2_bkg_clean_9-12_oofov.fits xcolumn=X ycolumn=Y imagebinning=binSize         ximagebinsize=20 yimagebinsize=20 withimageset=true imageset=mos2_closed_FF_2022_v2_bkg_clean_9-12_oofov_img.fits\n",
      "evselect table=pn_closed_EFF_2022_v2_bkg_clean.fits withfilteredset=Y filteredset=pn_closed_EFF_2022_v2_bkg_clean_9-12_oofov.fits             destruct=Y keepfilteroutput=T expression=\"#XMMEA_16&&(PATTERN<=4)&&(PI in [9000:12000])\"\n",
      "evselect table=pn_closed_EFF_2022_v2_bkg_clean_9-12_oofov.fits xcolumn=X ycolumn=Y imagebinning=binSize         ximagebinsize=20 yimagebinsize=20 withimageset=true imageset=pn_closed_EFF_2022_v2_bkg_clean_9-12_oofov_img.fits\n",
      "evselect table=pn_closed_EFF_oot_2022_v2_bkg_clean.fits withfilteredset=Y filteredset=pn_closed_EFF_oot_2022_v2_bkg_clean_9-12_oofov.fits             destruct=Y keepfilteroutput=T expression=\"#XMMEA_16&&(PATTERN<=4)&&(PI in [9000:12000])\"\n",
      "evselect table=pn_closed_EFF_oot_2022_v2_bkg_clean_9-12_oofov.fits xcolumn=X ycolumn=Y imagebinning=binSize         ximagebinsize=20 yimagebinsize=20 withimageset=true imageset=pn_closed_EFF_oot_2022_v2_bkg_clean_9-12_oofov_img.fits\n"
     ]
    }
   ],
   "source": [
    "bkg_dir = '/stage/headat/yanling/xmm/fwc_dat'\n",
    "os.chdir(bkg_dir)\n",
    "# after 2005, loss of emos1 ccd should be included\n",
    "files = ['mos1_closed_FF_2022_v2', 'mos2_closed_FF_2022_v2', 'pn_closed_EFF_2022_v2', 'pn_closed_EFF_oot_2022_v2']\n",
    "\n",
    "f = open('bkg_oofov_9-12_oofov_img.sh', 'w')\n",
    "for file in files:\n",
    "    if ('pn' in file):\n",
    "        pattern = 4\n",
    "        command = f'evselect table={file}_bkg_clean.fits withfilteredset=Y filteredset={file}_bkg_clean_9-12_oofov.fits \\\n",
    "            destruct=Y keepfilteroutput=T expression=\"#XMMEA_16&&(PATTERN<={pattern})&&(PI in [9000:12000])\"'\n",
    "        print(command)\n",
    "        f.write(command)\n",
    "    else:\n",
    "        pattern = 12\n",
    "        if ('mos1' in file):\n",
    "            command = f'evselect table={file}_bkg_clean.fits withfilteredset=Y filteredset={file}_bkg_clean_9-12_oofov.fits destruct=Y \\\n",
    "                    keepfilteroutput=T expression=\"#XMMEA_16&&(PATTERN<={pattern})&&(PI in [9000:12000])\\\n",
    "                    &&(CCDNR.ne.6)\"'\n",
    "            print(command)\n",
    "            f.write(command)\n",
    "        else:\n",
    "            command = f'evselect table={file}_bkg_clean.fits withfilteredset=Y filteredset={file}_bkg_clean_9-12_oofov.fits destruct=Y \\\n",
    "                    keepfilteroutput=T expression=\"#XMMEA_16&&(PATTERN<={pattern})&&(PI in [9000:12000])\"' #&&region({region_file})\n",
    "            print(command)\n",
    "            f.write(command)\n",
    "\n",
    "    command = f'evselect table={file}_bkg_clean_9-12_oofov.fits xcolumn=X ycolumn=Y imagebinning=binSize \\\n",
    "        ximagebinsize=20 yimagebinsize=20 withimageset=true imageset={file}_bkg_clean_9-12_oofov_img.fits'\n",
    "    print(command)\n",
    "    f.write(command)\n",
    "\n",
    "f.close()\n",
    "    \n"
   ]
  },
  {
   "cell_type": "markdown",
   "metadata": {},
   "source": [
    "Calculate background counts\n"
   ]
  },
  {
   "cell_type": "code",
   "execution_count": 53,
   "metadata": {},
   "outputs": [
    {
     "name": "stdout",
     "output_type": "stream",
     "text": [
      "mos1_closed_FF_2022_v2 125161 1886442.17854285 0.06634764713365265\n",
      "mos2_closed_FF_2022_v2 152663 1859701.47908783 0.08209005677345596\n",
      "pn_closed_EFF_2022_v2 51401 739987.328768998 0.06946200022844697\n",
      "pn_closed_EFF_oot_2022_v2 46518 740268.032837234 0.0628394013202352\n"
     ]
    }
   ],
   "source": [
    "files = ['mos1_closed_FF_2022_v2', 'mos2_closed_FF_2022_v2', 'pn_closed_EFF_2022_v2', 'pn_closed_EFF_oot_2022_v2']\n",
    "os.chdir(bkg_dir)\n",
    "\n",
    "f = open(f'{bkg_dir}/bkg_counts.log', 'w')\n",
    "bkg_counts_list = np.zeros(len(files))\n",
    "bkg_livetime_list = np.zeros(len(files))\n",
    "for i, file in enumerate(files):\n",
    "    fname = f'{file}_bkg_clean_9-12_oofov_img.fits'\n",
    "    hdul = fits.open(fname)\n",
    "    data = hdul[0].data\n",
    "    bkg_counts = np.sum(data)\n",
    "    hdul.close()\n",
    "\n",
    "    # Read livetime for bkg\n",
    "    fname = f'{file}_bkg_clean.fits'\n",
    "    hdul = fits.open(fname)\n",
    "    data = hdul[1].header\n",
    "    bkg_livetime = data['LIVETI02']\n",
    "    hdul.close()\n",
    "    bkg_counts_list[i] = bkg_counts\n",
    "    bkg_livetime_list[i] = bkg_livetime\n",
    "    print(file, bkg_counts, bkg_livetime, bkg_counts/bkg_livetime)\n",
    "    f.write(f'file, bkg_counts, bkg_livetime, bkg_counts/bkg_livetime')\n",
    "    f.write(f'{file}, {bkg_counts}, {bkg_livetime}, {bkg_counts/bkg_livetime}')\n",
    "f.close()\n"
   ]
  },
  {
   "cell_type": "markdown",
   "metadata": {},
   "source": [
    "extract clean events and images from observation files"
   ]
  },
  {
   "cell_type": "code",
   "execution_count": 54,
   "metadata": {},
   "outputs": [
    {
     "name": "stdout",
     "output_type": "stream",
     "text": [
      "evselect table=EMOS1_clean.fits withfilteredset=Y filteredset=EMOS1_oofov_clean.fits destruct=Y                     keepfilteroutput=T expression=\"#XMMEA_16&&(PATTERN<=12)&&(PI in [9000:12000])                    &&(CCDNR.ne.6)\"\n",
      "evselect table=EMOS1_oofov_clean.fits xcolumn=X ycolumn=Y imagebinning=binSize             ximagebinsize=20 yimagebinsize=20 withimageset=true imageset=EMOS1_oofov_counts.img\n",
      "evselect table=EMOS2_clean.fits withfilteredset=Y filteredset=EMOS2_oofov_clean.fits destruct=Y                     keepfilteroutput=T expression=\"#XMMEA_16&&(PATTERN<=12)&&(PI in [9000:12000])\n",
      "evselect table=EMOS2_oofov_clean.fits xcolumn=X ycolumn=Y imagebinning=binSize             ximagebinsize=20 yimagebinsize=20 withimageset=true imageset=EMOS2_oofov_counts.img\n",
      "evselect table=EPN_clean.fits withfilteredset=Y filteredset=EPN_oofov_clean.fits         destruct=Y keepfilteroutput=T expression=\"#XMMEA_16&&(PATTERN<=4)&&(PI in [9000:12000])\"\n",
      "evselect table=EPN_oofov_clean.fits xcolumn=X ycolumn=Y imagebinning=binSize             ximagebinsize=20 yimagebinsize=20 withimageset=true imageset=EPN_oofov_counts.img\n",
      "evselect table=Oot_clean.fits withfilteredset=Y filteredset=Oot_oofov_clean.fits         destruct=Y keepfilteroutput=T expression=\"#XMMEA_16&&(PATTERN<=4)&&(PI in [9000:12000])\"\n",
      "evselect table=Oot_oofov_clean.fits xcolumn=X ycolumn=Y imagebinning=binSize             ximagebinsize=20 yimagebinsize=20 withimageset=true imageset=Oot_oofov_counts.img\n"
     ]
    }
   ],
   "source": [
    "data_dir = '/stage/headat/yanling/xmm/reduction_230227/101'\n",
    "os.chdir(data_dir)\n",
    "files = ['EMOS1', 'EMOS2', 'EPN', 'Oot']\n",
    "f = open(f'{data_dir}/data_oofov_9-12_oofov_img.sh', 'w')\n",
    "\n",
    "for file in files:\n",
    "    if (file=='EPN') or (file=='Oot'):\n",
    "        pattern=4\n",
    "        print(f'evselect table={file}_clean.fits withfilteredset=Y filteredset={file}_oofov_clean.fits \\\n",
    "        destruct=Y keepfilteroutput=T expression=\"#XMMEA_16&&(PATTERN<={pattern})&&(PI in [9000:12000])\"') #\"#XMMEA_16&&(PATTERN<={pattern})&&(PI in [9000:12000])\"\n",
    "        print(f'evselect table={file}_oofov_clean.fits xcolumn=X ycolumn=Y imagebinning=binSize \\\n",
    "            ximagebinsize=20 yimagebinsize=20 withimageset=true imageset={file}_oofov_counts.img')\n",
    "        f.write(f'evselect table={file}_clean.fits withfilteredset=Y filteredset={file}_oofov_clean.fits \\\n",
    "        destruct=Y keepfilteroutput=T expression=\"#XMMEA_16&&(PATTERN<={pattern})&&(PI in [9000:12000])\"')\n",
    "        f.write(f'evselect table={file}_oofov_clean.fits xcolumn=X ycolumn=Y imagebinning=binSize \\\n",
    "            ximagebinsize=20 yimagebinsize=20 withimageset=true imageset={file}_oofov_counts.img')\n",
    "    else:\n",
    "        pattern = 12\n",
    "        if 'MOS1' in file:\n",
    "            print(f'evselect table={file}_clean.fits withfilteredset=Y filteredset={file}_oofov_clean.fits destruct=Y \\\n",
    "                    keepfilteroutput=T expression=\"#XMMEA_16&&(PATTERN<={pattern})&&(PI in [9000:12000])\\\n",
    "                    &&(CCDNR.ne.6)\"') # &&region({region_file})\n",
    "            f.write(f'evselect table={file}_clean.fits withfilteredset=Y filteredset={file}_oofov_clean.fits destruct=Y \\\n",
    "                keepfilteroutput=T expression=\"#XMMEA_16&&(PATTERN<={pattern})&&(PI in [9000:12000])\\\n",
    "                &&(CCDNR.ne.6)\"')\n",
    "        else:\n",
    "            print(f'evselect table={file}_clean.fits withfilteredset=Y filteredset={file}_oofov_clean.fits destruct=Y \\\n",
    "                    keepfilteroutput=T expression=\"#XMMEA_16&&(PATTERN<={pattern})&&(PI in [9000:12000])') # &&region({region_file})\n",
    "            f.write(f'evselect table={file}_clean.fits withfilteredset=Y filteredset={file}_oofov_clean.fits destruct=Y \\\n",
    "                keepfilteroutput=T expression=\"#XMMEA_16&&(PATTERN<={pattern})&&(PI in [9000:12000])\"')\n",
    "        \n",
    "        print(f'evselect table={file}_oofov_clean.fits xcolumn=X ycolumn=Y imagebinning=binSize \\\n",
    "            ximagebinsize=20 yimagebinsize=20 withimageset=true imageset={file}_oofov_counts.img')\n",
    "        f.write(f'evselect table={file}_oofov_clean.fits xcolumn=X ycolumn=Y imagebinning=binSize \\\n",
    "            ximagebinsize=20 yimagebinsize=20 withimageset=true imageset={file}_oofov_counts.img')\n",
    "f.close()\n"
   ]
  },
  {
   "cell_type": "markdown",
   "metadata": {},
   "source": [
    "read data counts"
   ]
  },
  {
   "cell_type": "code",
   "execution_count": 81,
   "metadata": {},
   "outputs": [
    {
     "name": "stdout",
     "output_type": "stream",
     "text": [
      "EMOS1 3585 42168.3808472157 0.08501630672017398\n",
      "EMOS2 4378 44494.2199368477 0.09839480288032598\n",
      "EPN 2173 26172.2461067066 0.0830268824135492\n",
      "Oot 2103 26664.291492641 0.07886952483175488\n",
      "ctr ratio: [1.28137636 1.19862023 1.19528493 1.25509669] cts ratio: [0.02864311 0.02867754 0.04227544 0.04520831]\n"
     ]
    }
   ],
   "source": [
    "# Read the counts\n",
    "data_dir = '/stage/headat/yanling/xmm/reduction_230227/201'\n",
    "os.chdir(data_dir)\n",
    "f = open(f'{data_dir}/data_oofov_counts.log', 'w')\n",
    "\n",
    "files = ['EMOS1', 'EMOS2', 'EPN', 'Oot']\n",
    "obs_counts_list = np.zeros(len(files))\n",
    "obs_livetime_list = np.zeros(len(files))\n",
    "for i, instrument in enumerate(files):\n",
    "    fname = glob.glob(instrument + '_oofov_*.img')[0]\n",
    "    hdul = fits.open(fname)\n",
    "    data = hdul[0].data\n",
    "\n",
    "    obs_counts = np.sum(data)\n",
    "\n",
    "    hdul.close()\n",
    "\n",
    "    # Read livetime for source\n",
    "    fname = instrument + '_clean.fits'\n",
    "    hdul = fits.open(fname)\n",
    "    data = hdul[1].header\n",
    "\n",
    "    obs_livetime = data['LIVETI02']\n",
    "\n",
    "    hdul.close()\n",
    "    print(instrument, obs_counts, obs_livetime, obs_counts/obs_livetime)\n",
    "    f.write('instrument, obs_counts, obs_livetime, obs_counts/obs_livetime')\n",
    "    f.write(f'{instrument}, {obs_counts}, {obs_livetime}, {obs_counts/obs_livetime}')\n",
    "    obs_counts_list[i] = obs_counts\n",
    "    obs_livetime_list[i] = obs_livetime\n",
    "f.close()\n",
    "\n",
    "'''oofov area \n",
    "bkg\n",
    "mos1_closed_FF_2022_v2 125161 1886442.17854285 0.06634764713365265\n",
    "mos2_closed_FF_2022_v2 136006 1859701.47908783 0.07313324290450635\n",
    "pn_closed_EFF_2022_v2 39345 739987.328768998 0.053169829361067796\n",
    "pn_closed_EFF_oot_2022_v2 35303 740268.032837234 0.04768948331416362\n",
    "101 obs \n",
    "EMOS1 3360 39004.5795996189 0.08614373067189345\n",
    "EMOS2 4230 46478.1277415752 0.09101055067276771\n",
    "EPN 1339 15959.1501955055 0.08390171052949275\n",
    "Oot 1116 14977.9862565659 0.07450934864563513\n",
    "'''\n",
    "obs_counts_list = np.array(obs_counts_list)\n",
    "obs_livetime_list = np.array(obs_livetime_list)\n",
    "bkg_counts_list = np.array(bkg_counts_list)\n",
    "bkg_livetime_list = np.array(bkg_livetime_list)\n",
    "f = open(f'{bkg_dir}/bkg_oofov_9-12_ratio_counts.log', 'w')\n",
    "f.write('instrument, ctr ratio, cts ratio')\n",
    "f.write(f'{instrument},{(obs_counts_list/obs_livetime_list)/(bkg_counts_list/bkg_livetime_list)}, {(obs_counts_list)/(bkg_counts_list)}')\n",
    "f.close()\n",
    "print('ctr ratio:', (obs_counts_list/obs_livetime_list)/(bkg_counts_list/bkg_livetime_list), 'cts ratio:', (obs_counts_list)/(bkg_counts_list))"
   ]
  },
  {
   "cell_type": "markdown",
   "metadata": {},
   "source": [
    "# 6. Generate scaled bkg cts image"
   ]
  },
  {
   "cell_type": "markdown",
   "metadata": {},
   "source": [
    "Reproject background events "
   ]
  },
  {
   "cell_type": "code",
   "execution_count": 29,
   "metadata": {},
   "outputs": [
    {
     "name": "stdout",
     "output_type": "stream",
     "text": [
      "evproject eventset=mos2_closed_FF_2022_v2_obs101_bkg_clean.fits attsource=fixed attra=24.409 attdec=-12.943 attapos=59.44\n",
      "evproject eventset=mos2_closed_FF_2022_v2_obs201_bkg_clean.fits attsource=fixed attra=24.429 attdec=-12.87 attapos=60.977\n"
     ]
    }
   ],
   "source": [
    "'''\n",
    "attra=24.429 attdec=-12.870 attapos=-60.977\n",
    "attra=24.409 attdec=-12.943 attapos=-59.440\n",
    "'''\n",
    "f = open(f'{bkg_dir}/bkg_reproj_evt.sh', 'w')\n",
    "bkg_dir = '/stage/headat/yanling/xmm/fwc_dat'\n",
    "os.chdir(bkg_dir)\n",
    "# files = ['mos1_closed_FF_2022_v2', 'mos2_closed_FF_2022_v2', 'pn_closed_EFF_2022_v2', 'pn_closed_EFF_oot_2022_v2']\n",
    "files = ['mos2_closed_FF_2022_v2']\n",
    "ralist = [24.409, 24.429]\n",
    "declist = [-12.943, -12.870]\n",
    "palist = [59.440, 60.977]\n",
    "\n",
    "for j in range(2):\n",
    "        obs = f'{j+1}01'\n",
    "        ra = ralist[j]; dec = declist[j]; pa = palist[j]\n",
    "        for i in range(len(files)):\n",
    "                os.system(f'cp {files[i]}_bkg_clean.fits {files[i]}_obs{obs}_bkg_clean.fits')\n",
    "                print(f'evproject eventset={files[i]}_obs{obs}_bkg_clean.fits attsource=fixed attra={ra} attdec={dec} attapos={pa}')\n",
    "                f.write(f'cp {files[i]}_bkg_clean.fits {files[i]}_obs{obs}_bkg_clean.fits\\n')\n",
    "                f.write(f'evproject eventset={files[i]}_obs{obs}_bkg_clean.fits attsource=fixed attra={ra} attdec={dec} attapos={pa}\\n')\n",
    "\n",
    "f.close()\n"
   ]
  },
  {
   "cell_type": "markdown",
   "metadata": {},
   "source": [
    "extract and scale the bkg images"
   ]
  },
  {
   "cell_type": "code",
   "execution_count": 2,
   "metadata": {},
   "outputs": [
    {
     "name": "stdout",
     "output_type": "stream",
     "text": [
      "evselect table=mos1_closed_FF_2022_v2_obs101_bkg_clean.fits xcolumn=X ycolumn=Y imagebinning=binSize ximagebinsize=80 yimagebinsize=80 withimageset=true imageset=mos1_closed_FF_2022_v2_obs101_bkg_clean_700-1200.img expression=\"#XMMEA_EM&&(PATTERN<=12)&&(PI>=700)&&(PI<=1200)&&(CCDNR.ne.6)\"\n",
      "farith mos1_closed_FF_2022_v2_obs101_bkg_clean_700-1200.img 0.02684542 mos1_closed_FF_2022_v2_obs101_bkg_clean_700-1200_scaled.img \"*\" clobber=yes\n",
      "evselect table=mos2_closed_FF_2022_v2_obs101_bkg_clean.fits xcolumn=X ycolumn=Y imagebinning=binSize ximagebinsize=80 yimagebinsize=80 withimageset=true imageset=mos2_closed_FF_2022_v2_obs101_bkg_clean_700-1200.img expression=\"#XMMEA_EM&&(PATTERN<=12)&&(PI>=700)&&(PI<=1200)\n",
      "\"\n",
      "farith mos2_closed_FF_2022_v2_obs101_bkg_clean_700-1200.img 0.02770809 mos2_closed_FF_2022_v2_obs101_bkg_clean_700-1200_scaled.img \"*\" clobber=yes\n",
      "evselect table=pn_closed_EFF_2022_v2_obs101_bkg_clean.fits xcolumn=X ycolumn=Y imagebinning=binSize ximagebinsize=80 yimagebinsize=80 withimageset=true imageset=pn_closed_EFF_2022_v2_obs101_bkg_clean_700-1200.img expression=\"#XMMEA_EP&&(PATTERN<=4)&&(PI>=700)&&(PI<=1200)\"\n",
      "farith pn_closed_EFF_2022_v2_obs101_bkg_clean_700-1200.img 0.02605008 pn_closed_EFF_2022_v2_obs101_bkg_clean_700-1200_scaled.img \"*\" clobber=yes\n",
      "evselect table=pn_closed_EFF_oot_2022_v2_obs101_bkg_clean.fits xcolumn=X ycolumn=Y imagebinning=binSize ximagebinsize=80 yimagebinsize=80 withimageset=true imageset=pn_closed_EFF_oot_2022_v2_obs101_bkg_clean_700-1200.img expression=\"#XMMEA_EP&&(PATTERN<=4)&&(PI>=700)&&(PI<=1200)\"\n",
      "farith pn_closed_EFF_oot_2022_v2_obs101_bkg_clean_700-1200.img 0.02399071 pn_closed_EFF_oot_2022_v2_obs101_bkg_clean_700-1200_scaled.img \"*\" clobber=yes\n",
      "evselect table=mos1_closed_FF_2022_v2_obs101_bkg_clean.fits xcolumn=X ycolumn=Y imagebinning=binSize ximagebinsize=80 yimagebinsize=80 withimageset=true imageset=mos1_closed_FF_2022_v2_obs101_bkg_clean_1200-2000.img expression=\"#XMMEA_EM&&(PATTERN<=12)&&(PI>=1200)&&(PI<=2000)&&(CCDNR.ne.6)\"\n",
      "farith mos1_closed_FF_2022_v2_obs101_bkg_clean_1200-2000.img 0.02684542 mos1_closed_FF_2022_v2_obs101_bkg_clean_1200-2000_scaled.img \"*\" clobber=yes\n",
      "evselect table=mos2_closed_FF_2022_v2_obs101_bkg_clean.fits xcolumn=X ycolumn=Y imagebinning=binSize ximagebinsize=80 yimagebinsize=80 withimageset=true imageset=mos2_closed_FF_2022_v2_obs101_bkg_clean_1200-2000.img expression=\"#XMMEA_EM&&(PATTERN<=12)&&(PI>=1200)&&(PI<=2000)\n",
      "\"\n",
      "farith mos2_closed_FF_2022_v2_obs101_bkg_clean_1200-2000.img 0.02770809 mos2_closed_FF_2022_v2_obs101_bkg_clean_1200-2000_scaled.img \"*\" clobber=yes\n",
      "evselect table=pn_closed_EFF_2022_v2_obs101_bkg_clean.fits xcolumn=X ycolumn=Y imagebinning=binSize ximagebinsize=80 yimagebinsize=80 withimageset=true imageset=pn_closed_EFF_2022_v2_obs101_bkg_clean_1200-2000.img expression=\"#XMMEA_EP&&(PATTERN<=4)&&(PI>=1200)&&(PI<=2000)\"\n",
      "farith pn_closed_EFF_2022_v2_obs101_bkg_clean_1200-2000.img 0.02605008 pn_closed_EFF_2022_v2_obs101_bkg_clean_1200-2000_scaled.img \"*\" clobber=yes\n",
      "evselect table=pn_closed_EFF_oot_2022_v2_obs101_bkg_clean.fits xcolumn=X ycolumn=Y imagebinning=binSize ximagebinsize=80 yimagebinsize=80 withimageset=true imageset=pn_closed_EFF_oot_2022_v2_obs101_bkg_clean_1200-2000.img expression=\"#XMMEA_EP&&(PATTERN<=4)&&(PI>=1200)&&(PI<=2000)\"\n",
      "farith pn_closed_EFF_oot_2022_v2_obs101_bkg_clean_1200-2000.img 0.02399071 pn_closed_EFF_oot_2022_v2_obs101_bkg_clean_1200-2000_scaled.img \"*\" clobber=yes\n",
      "evselect table=mos1_closed_FF_2022_v2_obs101_bkg_clean.fits xcolumn=X ycolumn=Y imagebinning=binSize ximagebinsize=80 yimagebinsize=80 withimageset=true imageset=mos1_closed_FF_2022_v2_obs101_bkg_clean_2000-5000.img expression=\"#XMMEA_EM&&(PATTERN<=12)&&(PI>=2000)&&(PI<=5000)&&(CCDNR.ne.6)\"\n",
      "farith mos1_closed_FF_2022_v2_obs101_bkg_clean_2000-5000.img 0.02684542 mos1_closed_FF_2022_v2_obs101_bkg_clean_2000-5000_scaled.img \"*\" clobber=yes\n",
      "evselect table=mos2_closed_FF_2022_v2_obs101_bkg_clean.fits xcolumn=X ycolumn=Y imagebinning=binSize ximagebinsize=80 yimagebinsize=80 withimageset=true imageset=mos2_closed_FF_2022_v2_obs101_bkg_clean_2000-5000.img expression=\"#XMMEA_EM&&(PATTERN<=12)&&(PI>=2000)&&(PI<=5000)\n",
      "\"\n",
      "farith mos2_closed_FF_2022_v2_obs101_bkg_clean_2000-5000.img 0.02770809 mos2_closed_FF_2022_v2_obs101_bkg_clean_2000-5000_scaled.img \"*\" clobber=yes\n",
      "evselect table=pn_closed_EFF_2022_v2_obs101_bkg_clean.fits xcolumn=X ycolumn=Y imagebinning=binSize ximagebinsize=80 yimagebinsize=80 withimageset=true imageset=pn_closed_EFF_2022_v2_obs101_bkg_clean_2000-5000.img expression=\"#XMMEA_EP&&(PATTERN<=4)&&(PI>=2000)&&(PI<=5000)\"\n",
      "farith pn_closed_EFF_2022_v2_obs101_bkg_clean_2000-5000.img 0.02605008 pn_closed_EFF_2022_v2_obs101_bkg_clean_2000-5000_scaled.img \"*\" clobber=yes\n",
      "evselect table=pn_closed_EFF_oot_2022_v2_obs101_bkg_clean.fits xcolumn=X ycolumn=Y imagebinning=binSize ximagebinsize=80 yimagebinsize=80 withimageset=true imageset=pn_closed_EFF_oot_2022_v2_obs101_bkg_clean_2000-5000.img expression=\"#XMMEA_EP&&(PATTERN<=4)&&(PI>=2000)&&(PI<=5000)\"\n",
      "farith pn_closed_EFF_oot_2022_v2_obs101_bkg_clean_2000-5000.img 0.02399071 pn_closed_EFF_oot_2022_v2_obs101_bkg_clean_2000-5000_scaled.img \"*\" clobber=yes\n",
      "evselect table=mos1_closed_FF_2022_v2_obs101_bkg_clean.fits xcolumn=X ycolumn=Y imagebinning=binSize ximagebinsize=80 yimagebinsize=80 withimageset=true imageset=mos1_closed_FF_2022_v2_obs101_bkg_clean_5000-7000.img expression=\"#XMMEA_EM&&(PATTERN<=12)&&(PI>=5000)&&(PI<=7000)&&(CCDNR.ne.6)\"\n",
      "farith mos1_closed_FF_2022_v2_obs101_bkg_clean_5000-7000.img 0.02684542 mos1_closed_FF_2022_v2_obs101_bkg_clean_5000-7000_scaled.img \"*\" clobber=yes\n",
      "evselect table=mos2_closed_FF_2022_v2_obs101_bkg_clean.fits xcolumn=X ycolumn=Y imagebinning=binSize ximagebinsize=80 yimagebinsize=80 withimageset=true imageset=mos2_closed_FF_2022_v2_obs101_bkg_clean_5000-7000.img expression=\"#XMMEA_EM&&(PATTERN<=12)&&(PI>=5000)&&(PI<=7000)\n",
      "\"\n",
      "farith mos2_closed_FF_2022_v2_obs101_bkg_clean_5000-7000.img 0.02770809 mos2_closed_FF_2022_v2_obs101_bkg_clean_5000-7000_scaled.img \"*\" clobber=yes\n",
      "evselect table=pn_closed_EFF_2022_v2_obs101_bkg_clean.fits xcolumn=X ycolumn=Y imagebinning=binSize ximagebinsize=80 yimagebinsize=80 withimageset=true imageset=pn_closed_EFF_2022_v2_obs101_bkg_clean_5000-7000.img expression=\"#XMMEA_EP&&(PATTERN<=4)&&(PI>=5000)&&(PI<=7000)\"\n",
      "farith pn_closed_EFF_2022_v2_obs101_bkg_clean_5000-7000.img 0.02605008 pn_closed_EFF_2022_v2_obs101_bkg_clean_5000-7000_scaled.img \"*\" clobber=yes\n",
      "evselect table=pn_closed_EFF_oot_2022_v2_obs101_bkg_clean.fits xcolumn=X ycolumn=Y imagebinning=binSize ximagebinsize=80 yimagebinsize=80 withimageset=true imageset=pn_closed_EFF_oot_2022_v2_obs101_bkg_clean_5000-7000.img expression=\"#XMMEA_EP&&(PATTERN<=4)&&(PI>=5000)&&(PI<=7000)\"\n",
      "farith pn_closed_EFF_oot_2022_v2_obs101_bkg_clean_5000-7000.img 0.02399071 pn_closed_EFF_oot_2022_v2_obs101_bkg_clean_5000-7000_scaled.img \"*\" clobber=yes\n",
      "evselect table=mos1_closed_FF_2022_v2_obs201_bkg_clean.fits xcolumn=X ycolumn=Y imagebinning=binSize ximagebinsize=80 yimagebinsize=80 withimageset=true imageset=mos1_closed_FF_2022_v2_obs201_bkg_clean_700-1200.img expression=\"#XMMEA_EM&&(PATTERN<=12)&&(PI>=700)&&(PI<=1200)&&(CCDNR.ne.6)\"\n",
      "farith mos1_closed_FF_2022_v2_obs201_bkg_clean_700-1200.img 0.02864311 mos1_closed_FF_2022_v2_obs201_bkg_clean_700-1200_scaled.img \"*\" clobber=yes\n",
      "evselect table=mos2_closed_FF_2022_v2_obs201_bkg_clean.fits xcolumn=X ycolumn=Y imagebinning=binSize ximagebinsize=80 yimagebinsize=80 withimageset=true imageset=mos2_closed_FF_2022_v2_obs201_bkg_clean_700-1200.img expression=\"#XMMEA_EM&&(PATTERN<=12)&&(PI>=700)&&(PI<=1200)\n",
      "\"\n",
      "farith mos2_closed_FF_2022_v2_obs201_bkg_clean_700-1200.img 0.02867754 mos2_closed_FF_2022_v2_obs201_bkg_clean_700-1200_scaled.img \"*\" clobber=yes\n",
      "evselect table=pn_closed_EFF_2022_v2_obs201_bkg_clean.fits xcolumn=X ycolumn=Y imagebinning=binSize ximagebinsize=80 yimagebinsize=80 withimageset=true imageset=pn_closed_EFF_2022_v2_obs201_bkg_clean_700-1200.img expression=\"#XMMEA_EP&&(PATTERN<=4)&&(PI>=700)&&(PI<=1200)\"\n",
      "farith pn_closed_EFF_2022_v2_obs201_bkg_clean_700-1200.img 0.04227544 pn_closed_EFF_2022_v2_obs201_bkg_clean_700-1200_scaled.img \"*\" clobber=yes\n",
      "evselect table=pn_closed_EFF_oot_2022_v2_obs201_bkg_clean.fits xcolumn=X ycolumn=Y imagebinning=binSize ximagebinsize=80 yimagebinsize=80 withimageset=true imageset=pn_closed_EFF_oot_2022_v2_obs201_bkg_clean_700-1200.img expression=\"#XMMEA_EP&&(PATTERN<=4)&&(PI>=700)&&(PI<=1200)\"\n",
      "farith pn_closed_EFF_oot_2022_v2_obs201_bkg_clean_700-1200.img 0.04520831 pn_closed_EFF_oot_2022_v2_obs201_bkg_clean_700-1200_scaled.img \"*\" clobber=yes\n",
      "evselect table=mos1_closed_FF_2022_v2_obs201_bkg_clean.fits xcolumn=X ycolumn=Y imagebinning=binSize ximagebinsize=80 yimagebinsize=80 withimageset=true imageset=mos1_closed_FF_2022_v2_obs201_bkg_clean_1200-2000.img expression=\"#XMMEA_EM&&(PATTERN<=12)&&(PI>=1200)&&(PI<=2000)&&(CCDNR.ne.6)\"\n",
      "farith mos1_closed_FF_2022_v2_obs201_bkg_clean_1200-2000.img 0.02864311 mos1_closed_FF_2022_v2_obs201_bkg_clean_1200-2000_scaled.img \"*\" clobber=yes\n",
      "evselect table=mos2_closed_FF_2022_v2_obs201_bkg_clean.fits xcolumn=X ycolumn=Y imagebinning=binSize ximagebinsize=80 yimagebinsize=80 withimageset=true imageset=mos2_closed_FF_2022_v2_obs201_bkg_clean_1200-2000.img expression=\"#XMMEA_EM&&(PATTERN<=12)&&(PI>=1200)&&(PI<=2000)\n",
      "\"\n",
      "farith mos2_closed_FF_2022_v2_obs201_bkg_clean_1200-2000.img 0.02867754 mos2_closed_FF_2022_v2_obs201_bkg_clean_1200-2000_scaled.img \"*\" clobber=yes\n",
      "evselect table=pn_closed_EFF_2022_v2_obs201_bkg_clean.fits xcolumn=X ycolumn=Y imagebinning=binSize ximagebinsize=80 yimagebinsize=80 withimageset=true imageset=pn_closed_EFF_2022_v2_obs201_bkg_clean_1200-2000.img expression=\"#XMMEA_EP&&(PATTERN<=4)&&(PI>=1200)&&(PI<=2000)\"\n",
      "farith pn_closed_EFF_2022_v2_obs201_bkg_clean_1200-2000.img 0.04227544 pn_closed_EFF_2022_v2_obs201_bkg_clean_1200-2000_scaled.img \"*\" clobber=yes\n",
      "evselect table=pn_closed_EFF_oot_2022_v2_obs201_bkg_clean.fits xcolumn=X ycolumn=Y imagebinning=binSize ximagebinsize=80 yimagebinsize=80 withimageset=true imageset=pn_closed_EFF_oot_2022_v2_obs201_bkg_clean_1200-2000.img expression=\"#XMMEA_EP&&(PATTERN<=4)&&(PI>=1200)&&(PI<=2000)\"\n",
      "farith pn_closed_EFF_oot_2022_v2_obs201_bkg_clean_1200-2000.img 0.04520831 pn_closed_EFF_oot_2022_v2_obs201_bkg_clean_1200-2000_scaled.img \"*\" clobber=yes\n",
      "evselect table=mos1_closed_FF_2022_v2_obs201_bkg_clean.fits xcolumn=X ycolumn=Y imagebinning=binSize ximagebinsize=80 yimagebinsize=80 withimageset=true imageset=mos1_closed_FF_2022_v2_obs201_bkg_clean_2000-5000.img expression=\"#XMMEA_EM&&(PATTERN<=12)&&(PI>=2000)&&(PI<=5000)&&(CCDNR.ne.6)\"\n",
      "farith mos1_closed_FF_2022_v2_obs201_bkg_clean_2000-5000.img 0.02864311 mos1_closed_FF_2022_v2_obs201_bkg_clean_2000-5000_scaled.img \"*\" clobber=yes\n",
      "evselect table=mos2_closed_FF_2022_v2_obs201_bkg_clean.fits xcolumn=X ycolumn=Y imagebinning=binSize ximagebinsize=80 yimagebinsize=80 withimageset=true imageset=mos2_closed_FF_2022_v2_obs201_bkg_clean_2000-5000.img expression=\"#XMMEA_EM&&(PATTERN<=12)&&(PI>=2000)&&(PI<=5000)\n",
      "\"\n",
      "farith mos2_closed_FF_2022_v2_obs201_bkg_clean_2000-5000.img 0.02867754 mos2_closed_FF_2022_v2_obs201_bkg_clean_2000-5000_scaled.img \"*\" clobber=yes\n",
      "evselect table=pn_closed_EFF_2022_v2_obs201_bkg_clean.fits xcolumn=X ycolumn=Y imagebinning=binSize ximagebinsize=80 yimagebinsize=80 withimageset=true imageset=pn_closed_EFF_2022_v2_obs201_bkg_clean_2000-5000.img expression=\"#XMMEA_EP&&(PATTERN<=4)&&(PI>=2000)&&(PI<=5000)\"\n",
      "farith pn_closed_EFF_2022_v2_obs201_bkg_clean_2000-5000.img 0.04227544 pn_closed_EFF_2022_v2_obs201_bkg_clean_2000-5000_scaled.img \"*\" clobber=yes\n",
      "evselect table=pn_closed_EFF_oot_2022_v2_obs201_bkg_clean.fits xcolumn=X ycolumn=Y imagebinning=binSize ximagebinsize=80 yimagebinsize=80 withimageset=true imageset=pn_closed_EFF_oot_2022_v2_obs201_bkg_clean_2000-5000.img expression=\"#XMMEA_EP&&(PATTERN<=4)&&(PI>=2000)&&(PI<=5000)\"\n",
      "farith pn_closed_EFF_oot_2022_v2_obs201_bkg_clean_2000-5000.img 0.04520831 pn_closed_EFF_oot_2022_v2_obs201_bkg_clean_2000-5000_scaled.img \"*\" clobber=yes\n",
      "evselect table=mos1_closed_FF_2022_v2_obs201_bkg_clean.fits xcolumn=X ycolumn=Y imagebinning=binSize ximagebinsize=80 yimagebinsize=80 withimageset=true imageset=mos1_closed_FF_2022_v2_obs201_bkg_clean_5000-7000.img expression=\"#XMMEA_EM&&(PATTERN<=12)&&(PI>=5000)&&(PI<=7000)&&(CCDNR.ne.6)\"\n",
      "farith mos1_closed_FF_2022_v2_obs201_bkg_clean_5000-7000.img 0.02864311 mos1_closed_FF_2022_v2_obs201_bkg_clean_5000-7000_scaled.img \"*\" clobber=yes\n",
      "evselect table=mos2_closed_FF_2022_v2_obs201_bkg_clean.fits xcolumn=X ycolumn=Y imagebinning=binSize ximagebinsize=80 yimagebinsize=80 withimageset=true imageset=mos2_closed_FF_2022_v2_obs201_bkg_clean_5000-7000.img expression=\"#XMMEA_EM&&(PATTERN<=12)&&(PI>=5000)&&(PI<=7000)\n",
      "\"\n",
      "farith mos2_closed_FF_2022_v2_obs201_bkg_clean_5000-7000.img 0.02867754 mos2_closed_FF_2022_v2_obs201_bkg_clean_5000-7000_scaled.img \"*\" clobber=yes\n",
      "evselect table=pn_closed_EFF_2022_v2_obs201_bkg_clean.fits xcolumn=X ycolumn=Y imagebinning=binSize ximagebinsize=80 yimagebinsize=80 withimageset=true imageset=pn_closed_EFF_2022_v2_obs201_bkg_clean_5000-7000.img expression=\"#XMMEA_EP&&(PATTERN<=4)&&(PI>=5000)&&(PI<=7000)\"\n",
      "farith pn_closed_EFF_2022_v2_obs201_bkg_clean_5000-7000.img 0.04227544 pn_closed_EFF_2022_v2_obs201_bkg_clean_5000-7000_scaled.img \"*\" clobber=yes\n",
      "evselect table=pn_closed_EFF_oot_2022_v2_obs201_bkg_clean.fits xcolumn=X ycolumn=Y imagebinning=binSize ximagebinsize=80 yimagebinsize=80 withimageset=true imageset=pn_closed_EFF_oot_2022_v2_obs201_bkg_clean_5000-7000.img expression=\"#XMMEA_EP&&(PATTERN<=4)&&(PI>=5000)&&(PI<=7000)\"\n",
      "farith pn_closed_EFF_oot_2022_v2_obs201_bkg_clean_5000-7000.img 0.04520831 pn_closed_EFF_oot_2022_v2_obs201_bkg_clean_5000-7000_scaled.img \"*\" clobber=yes\n"
     ]
    }
   ],
   "source": [
    "bkg_dir = '/stage/headat/yanling/xmm/fwc_dat'\n",
    "os.chdir(bkg_dir)\n",
    "files = ['mos1_closed_FF_2022_v2', 'mos2_closed_FF_2022_v2', 'pn_closed_EFF_2022_v2', 'pn_closed_EFF_oot_2022_v2']\n",
    "scales_dir = {'101':[0.02684542, 0.02770809, 0.02605008, 0.02399071], \n",
    "    '201':[0.02864311, 0.02867754, 0.04227544, 0.04520831]}\n",
    "os.chdir(bkg_dir)\n",
    "\n",
    "for obs in [101, 201]:\n",
    "    for band in ['700-1200', '1200-2000', '2000-5000', '5000-7000']:\n",
    "        blo = band.split('-')[0]\n",
    "        bhi = band.split('-')[1]\n",
    "\n",
    "        scales = scales_dir[str(obs)]\n",
    "        f = open(f'{bkg_dir}/bkg_img_obs{obs}_{blo}-{bhi}.sh', 'w')\n",
    "        for i, file in enumerate(files):\n",
    "            evtfile = f'{file}_obs{obs}_bkg_clean'\n",
    "            imgfile = f'{evtfile}_{blo}-{bhi}'\n",
    "            if ('pn' in file):\n",
    "                ins = 'EP'\n",
    "                pattern = 4\n",
    "                print(f'evselect table={evtfile}.fits xcolumn=X ycolumn=Y imagebinning=binSize ximagebinsize=80 \\\n",
    "yimagebinsize=80 withimageset=true imageset={imgfile}.img expression=\"#XMMEA_{ins}&&(PATTERN<={pattern})&&(PI>={blo})&&(PI<={bhi})\"')\n",
    "                f.write(f'evselect table={evtfile}.fits xcolumn=X ycolumn=Y imagebinning=binSize ximagebinsize=80 \\\n",
    "yimagebinsize=80 withimageset=true imageset={imgfile}.img expression=\"#XMMEA_{ins}&&(PATTERN<={pattern})&&(PI>={blo})&&(PI<={bhi})\"\\n')\n",
    "            else:\n",
    "                ins = 'EM'\n",
    "                pattern = 12\n",
    "                if 'mos1' in file:\n",
    "                    print(f'evselect table={evtfile}.fits xcolumn=X ycolumn=Y imagebinning=binSize ximagebinsize=80 \\\n",
    "yimagebinsize=80 withimageset=true imageset={imgfile}.img expression=\"#XMMEA_{ins}&&(PATTERN<={pattern})&&(PI>={blo})&&(PI<={bhi})&&(CCDNR.ne.6)\"')\n",
    "                    f.write(f'evselect table={evtfile}.fits xcolumn=X ycolumn=Y imagebinning=binSize ximagebinsize=80 \\\n",
    "yimagebinsize=80 withimageset=true imageset={imgfile}.img expression=\"#XMMEA_{ins}&&(PATTERN<={pattern})&&(PI>={blo})&&(PI<={bhi})&&(CCDNR.ne.6)\"\\n')\n",
    "                else:\n",
    "                    print(f'evselect table={evtfile}.fits xcolumn=X ycolumn=Y imagebinning=binSize ximagebinsize=80 \\\n",
    "yimagebinsize=80 withimageset=true imageset={imgfile}.img expression=\"#XMMEA_{ins}&&(PATTERN<={pattern})&&(PI>={blo})&&(PI<={bhi})\\n\"')\n",
    "                    f.write(f'evselect table={evtfile}.fits xcolumn=X ycolumn=Y imagebinning=binSize ximagebinsize=80 \\\n",
    "yimagebinsize=80 withimageset=true imageset={imgfile}.img expression=\"#XMMEA_{ins}&&(PATTERN<={pattern})&&(PI>={blo})&&(PI<={bhi})\"\\n')\n",
    "            \n",
    "            print(f'farith {imgfile}.img {scales[i]} {imgfile}_scaled.img \"*\" clobber=yes')\n",
    "            f.write(f'farith {imgfile}.img {scales[i]} {imgfile}_scaled.img \"*\" clobber=yes\\n')\n",
    "        f.close()"
   ]
  },
  {
   "cell_type": "markdown",
   "metadata": {},
   "source": []
  },
  {
   "cell_type": "markdown",
   "metadata": {},
   "source": [
    "manage pn image (substract oot data)"
   ]
  },
  {
   "cell_type": "code",
   "execution_count": 4,
   "metadata": {},
   "outputs": [
    {
     "name": "stdout",
     "output_type": "stream",
     "text": [
      "farith pn_closed_EFF_oot_2022_v2_obs101_bkg_clean_700-1200_scaled.img 0.023 pn_closed_EFF_oot_2022_v2_obs101_bkg_clean_700-1200_scaled_corr.img MUL clobber=yes\n",
      "farith pn_closed_EFF_2022_v2_obs101_bkg_clean_700-1200_scaled.img pn_closed_EFF_oot_2022_v2_obs101_bkg_clean_700-1200_scaled_corr.img pn_closed_EFF_2022_v2_obs101_bkg_clean_700-1200_scaled_corr.img SUB clobber=yes\n",
      "farith pn_closed_EFF_oot_2022_v2_obs201_bkg_clean_700-1200_scaled.img 0.023 pn_closed_EFF_oot_2022_v2_obs201_bkg_clean_700-1200_scaled_corr.img MUL clobber=yes\n",
      "farith pn_closed_EFF_2022_v2_obs201_bkg_clean_700-1200_scaled.img pn_closed_EFF_oot_2022_v2_obs201_bkg_clean_700-1200_scaled_corr.img pn_closed_EFF_2022_v2_obs201_bkg_clean_700-1200_scaled_corr.img SUB clobber=yes\n",
      "farith pn_closed_EFF_oot_2022_v2_obs101_bkg_clean_1200-2000_scaled.img 0.023 pn_closed_EFF_oot_2022_v2_obs101_bkg_clean_1200-2000_scaled_corr.img MUL clobber=yes\n",
      "farith pn_closed_EFF_2022_v2_obs101_bkg_clean_1200-2000_scaled.img pn_closed_EFF_oot_2022_v2_obs101_bkg_clean_1200-2000_scaled_corr.img pn_closed_EFF_2022_v2_obs101_bkg_clean_1200-2000_scaled_corr.img SUB clobber=yes\n",
      "farith pn_closed_EFF_oot_2022_v2_obs201_bkg_clean_1200-2000_scaled.img 0.023 pn_closed_EFF_oot_2022_v2_obs201_bkg_clean_1200-2000_scaled_corr.img MUL clobber=yes\n",
      "farith pn_closed_EFF_2022_v2_obs201_bkg_clean_1200-2000_scaled.img pn_closed_EFF_oot_2022_v2_obs201_bkg_clean_1200-2000_scaled_corr.img pn_closed_EFF_2022_v2_obs201_bkg_clean_1200-2000_scaled_corr.img SUB clobber=yes\n",
      "farith pn_closed_EFF_oot_2022_v2_obs101_bkg_clean_2000-5000_scaled.img 0.023 pn_closed_EFF_oot_2022_v2_obs101_bkg_clean_2000-5000_scaled_corr.img MUL clobber=yes\n",
      "farith pn_closed_EFF_2022_v2_obs101_bkg_clean_2000-5000_scaled.img pn_closed_EFF_oot_2022_v2_obs101_bkg_clean_2000-5000_scaled_corr.img pn_closed_EFF_2022_v2_obs101_bkg_clean_2000-5000_scaled_corr.img SUB clobber=yes\n",
      "farith pn_closed_EFF_oot_2022_v2_obs201_bkg_clean_2000-5000_scaled.img 0.023 pn_closed_EFF_oot_2022_v2_obs201_bkg_clean_2000-5000_scaled_corr.img MUL clobber=yes\n",
      "farith pn_closed_EFF_2022_v2_obs201_bkg_clean_2000-5000_scaled.img pn_closed_EFF_oot_2022_v2_obs201_bkg_clean_2000-5000_scaled_corr.img pn_closed_EFF_2022_v2_obs201_bkg_clean_2000-5000_scaled_corr.img SUB clobber=yes\n",
      "farith pn_closed_EFF_oot_2022_v2_obs101_bkg_clean_5000-7000_scaled.img 0.023 pn_closed_EFF_oot_2022_v2_obs101_bkg_clean_5000-7000_scaled_corr.img MUL clobber=yes\n",
      "farith pn_closed_EFF_2022_v2_obs101_bkg_clean_5000-7000_scaled.img pn_closed_EFF_oot_2022_v2_obs101_bkg_clean_5000-7000_scaled_corr.img pn_closed_EFF_2022_v2_obs101_bkg_clean_5000-7000_scaled_corr.img SUB clobber=yes\n",
      "farith pn_closed_EFF_oot_2022_v2_obs201_bkg_clean_5000-7000_scaled.img 0.023 pn_closed_EFF_oot_2022_v2_obs201_bkg_clean_5000-7000_scaled_corr.img MUL clobber=yes\n",
      "farith pn_closed_EFF_2022_v2_obs201_bkg_clean_5000-7000_scaled.img pn_closed_EFF_oot_2022_v2_obs201_bkg_clean_5000-7000_scaled_corr.img pn_closed_EFF_2022_v2_obs201_bkg_clean_5000-7000_scaled_corr.img SUB clobber=yes\n"
     ]
    }
   ],
   "source": [
    "bkg_dir = '/stage/headat/yanling/xmm/fwc_dat'\n",
    "os.chdir(bkg_dir)\n",
    "f = open('bkg_pn_oot_corr.sh', 'w')\n",
    "for band in ['700-1200', '1200-2000', '2000-5000', '5000-7000']:\n",
    "      blo = band.split('-')[0]\n",
    "      bhi = band.split('-')[1]\n",
    "      frame = 'eff'\n",
    "      # Scale OoT image\n",
    "      for obs in [101,201]:\n",
    "            pn_imgname = f'pn_closed_EFF_2022_v2_obs{obs}_bkg_clean_{blo}-{bhi}_scaled'\n",
    "            oot_imgname = f'pn_closed_EFF_oot_2022_v2_obs{obs}_bkg_clean_{blo}-{bhi}_scaled'\n",
    "            if(frame == 'eff'):\n",
    "                  print(f'farith {oot_imgname}.img 0.023 {oot_imgname}_corr.img MUL clobber=yes')\n",
    "                  f.write(f'farith {oot_imgname}.img 0.023 {oot_imgname}_corr.img MUL clobber=yes\\n')\n",
    "                  \n",
    "            elif(frame == 'ff'):\n",
    "                  print(f'farith {oot_imgname}.img 0.063 {oot_imgname}_corr.img MUL clobber=yes')\n",
    "                  f.write(f'farith {oot_imgname}.img 0.063 {oot_imgname}_corr.img MUL clobber=yes\\n')\n",
    "\n",
    "            print(f'farith {pn_imgname}.img {oot_imgname}_corr.img {pn_imgname}_corr.img SUB clobber=yes')\n",
    "            f.write(f'farith {pn_imgname}.img {oot_imgname}_corr.img {pn_imgname}_corr.img SUB clobber=yes\\n')\n",
    "f.close()"
   ]
  },
  {
   "cell_type": "markdown",
   "metadata": {},
   "source": [
    "check bkg images"
   ]
  },
  {
   "cell_type": "code",
   "execution_count": 39,
   "metadata": {},
   "outputs": [
    {
     "name": "stdout",
     "output_type": "stream",
     "text": [
      "(648, 648)\n"
     ]
    },
    {
     "data": {
      "image/png": "[encoded data removed]",
      "text/plain": [
       "<Figure size 600x600 with 2 Axes>"
      ]
     },
     "metadata": {},
     "output_type": "display_data"
    },
    {
     "name": "stdout",
     "output_type": "stream",
     "text": [
      "nan\n"
     ]
    },
    {
     "data": {
      "text/plain": [
       "<Figure size 640x480 with 0 Axes>"
      ]
     },
     "metadata": {},
     "output_type": "display_data"
    }
   ],
   "source": [
    "# from astropy.visualization import astropy_mpl_style\n",
    "import matplotlib.colors as colors\n",
    "# plt.style.use(astropy_mpl_style)\n",
    "plt.style.use('default')\n",
    "from astropy.utils.data import get_pkg_data_filename\n",
    "from astropy.wcs import WCS\n",
    "from astropy.convolution import convolve\n",
    "from astropy.convolution import Gaussian2DKernel\n",
    "kernel = Gaussian2DKernel(x_stddev=1)\n",
    "\n",
    "file = f'{bkg_dir}/mos2_closed_FF_2022_v2_obs201_bkg_clean_700-1200_scaled'\n",
    "# file = 'EPN_corr_counts'\n",
    "hdu = fits.open(f'{file}.img')[0]\n",
    "image_data = hdu.data\n",
    "print(image_data.shape)\n",
    "fig = plt.figure(figsize = (6,6))\n",
    "ax = fig.add_axes([0.1, 0.1, 0.8, 0.8], projection=WCS(f'{file}.img'))\n",
    "ra = ax.coords[0]\n",
    "dec = ax.coords[1]\n",
    "# plt.grid(color='grey', ls='dashed')\n",
    "plt.grid('off')\n",
    "ra.set_axislabel('RA')\n",
    "dec.set_axislabel('Dec')\n",
    "'''\n",
    "ra.set_ticks_visible(True)\n",
    "dec.set_ticks_visible(True)\n",
    "ra.display_minor_ticks(True)\n",
    "dec.display_minor_ticks(True)\n",
    "ra.set_ticks_position('all')\n",
    "ra.set_ticks(number=4)\n",
    "dec.set_ticks(number=4)\n",
    "'''\n",
    "image_data = np.where(np.isfinite(np.log10(image_data)), image_data, np.nan)\n",
    "astropy_conv = convolve(image_data, kernel)\n",
    "plt.imshow(astropy_conv, cmap='gnuplot2', norm = colors.LogNorm(vmin = 1e-1, vmax = 1), origin='lower')\n",
    "plt.colorbar()\n",
    "plt.savefig(f'{file}.png')\n",
    "plt.show()\n",
    "plt.clf()\n",
    "print(np.min(np.log10(image_data[50:550,50:550])))"
   ]
  },
  {
   "cell_type": "code",
   "execution_count": null,
   "metadata": {},
   "outputs": [],
   "source": []
  }
 ],
 "metadata": {
  "kernelspec": {
   "display_name": "Python 3.9.6 64-bit",
   "language": "python",
   "name": "python3"
  },
  "language_info": {
   "codemirror_mode": {
    "name": "ipython",
    "version": 3
   },
   "file_extension": ".py",
   "mimetype": "text/x-python",
   "name": "python",
   "nbconvert_exporter": "python",
   "pygments_lexer": "ipython3",
   "version": "3.9.2"
  },
  "orig_nbformat": 4,
  "vscode": {
   "interpreter": {
    "hash": "31f2aee4e71d21fbe5cf8b01ff0e069b9275f58929596ceb00d14d90e3e16cd6"
   }
  }
 },
 "nbformat": 4,
 "nbformat_minor": 2
}
