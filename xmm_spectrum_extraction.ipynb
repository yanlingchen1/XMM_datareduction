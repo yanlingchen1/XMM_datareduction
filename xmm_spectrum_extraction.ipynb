{
 "cells": [
  {
   "cell_type": "code",
   "execution_count": 7,
   "metadata": {},
   "outputs": [],
   "source": [
    "'''\n",
    "This spectrum extraction pipeline is adapted by sas pipeline\n",
    "https://www.cosmos.esa.int/web/xmm-newton/sas-thread-esasspec\n",
    "'''\n",
    "import numpy as np\n",
    "import os\n",
    "from glob import glob\n"
   ]
  },
  {
   "cell_type": "markdown",
   "metadata": {},
   "source": [
    "# Set SAS environment\n",
    "define workdir"
   ]
  },
  {
   "cell_type": "code",
   "execution_count": 1,
   "metadata": {},
   "outputs": [],
   "source": [
    "workdir  = '/stage/headat/yanling/xmm/reduction_230227/spectras'\n",
    "os.makedirs(workdir, exist_ok=True)\n",
    "datadir = '/stage/headat/yanling/xmm/reduction_230227/101'\n",
    "figdir = \n",
    "# input_evtfile = f'{instrument}_hiband_loband_clean_{today}_fov.fits'\n"
   ]
  },
  {
   "cell_type": "code",
   "execution_count": 9,
   "metadata": {},
   "outputs": [],
   "source": [
    "obs = 101\n",
    "f = open(f'{workdir}/set_env_{obs}.sh', 'w')\n",
    "string = f'''\n",
    "sasversion\n",
    "export SAS_CCF=/stage/headat/yanling/xmm/0502020{obs}/ccf.cif\n",
    "export SAS_ODF={glob(f'/stage/headat/yanling/xmm/0502020{obs}/*0502020{obs}_*SUM.SAS')[0]}\n",
    "sasversion\n",
    "'''\n",
    "f.write(string)\n",
    "f.close()"
   ]
  },
  {
   "cell_type": "markdown",
   "metadata": {},
   "source": [
    "# generate vignetted corrected, bkg subtracted images"
   ]
  },
  {
   "cell_type": "code",
   "execution_count": null,
   "metadata": {},
   "outputs": [],
   "source": [
    "# get emosaic images (do it locally when extracting sb profile, and upload to sron server)\n",
    "# also define spectra extraction region locally and upload to server\n",
    "# regions should be in detector coordinates\n"
   ]
  },
  {
   "cell_type": "markdown",
   "metadata": {},
   "source": [
    "# extract spectra"
   ]
  },
  {
   "cell_type": "markdown",
   "metadata": {},
   "source": [
    "extract separate spectra, rmf and arf\n",
    "from data events and background events"
   ]
  },
  {
   "cell_type": "code",
   "execution_count": null,
   "metadata": {},
   "outputs": [],
   "source": []
  },
  {
   "cell_type": "markdown",
   "metadata": {},
   "source": [
    "arfgen cross talk?"
   ]
  },
  {
   "cell_type": "code",
   "execution_count": null,
   "metadata": {},
   "outputs": [],
   "source": []
  },
  {
   "cell_type": "markdown",
   "metadata": {},
   "source": [
    "combine spectra\n",
    "https://www.cosmos.esa.int/web/xmm-newton/sas-thread-epic-merging"
   ]
  },
  {
   "cell_type": "code",
   "execution_count": null,
   "metadata": {},
   "outputs": [],
   "source": [
    " epicspeccombine pha=\"src_spectrum_01.ds src_spectrum_02.ds src_spectrum_03.ds\"\\\n",
    "   bkg=\"bkg_spectrum_01.ds bkg_spectrum_02.ds bkg_spectrum_03.ds\" \\\n",
    "   rmf=\"response_01.rmf response_02.rmf response_03.rmf\" \\\n",
    "   arf=\"arf_01.arf arf_02.arf arf_03.arf\" \\\n",
    "   filepha=\"src_spectrum_grp.ds\" \\\n",
    "   filebkg=\"bkg_spectrum_grp.ds\" \\\n",
    "   filersp=\"response_grp.rmf\" \\\n",
    "   allowHEdiff=yes"
   ]
  }
 ],
 "metadata": {
  "kernelspec": {
   "display_name": "Python 3.9.2 64-bit",
   "language": "python",
   "name": "python3"
  },
  "language_info": {
   "codemirror_mode": {
    "name": "ipython",
    "version": 3
   },
   "file_extension": ".py",
   "mimetype": "text/x-python",
   "name": "python",
   "nbconvert_exporter": "python",
   "pygments_lexer": "ipython3",
   "version": "3.9.2"
  },
  "orig_nbformat": 4,
  "vscode": {
   "interpreter": {
    "hash": "916dbcbb3f70747c44a77c7bcd40155683ae19c65e1c03b4aa3499c5328201f1"
   }
  }
 },
 "nbformat": 4,
 "nbformat_minor": 2
}
