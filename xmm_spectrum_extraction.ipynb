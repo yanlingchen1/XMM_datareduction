{
 "cells": [
  {
   "cell_type": "code",
   "execution_count": null,
   "metadata": {},
   "outputs": [],
   "source": [
    "'''\n",
    "CAUTION:\n",
    "All the clean event files in directory failed to clean!\n",
    "always take this when doing evselect!\n",
    "gtifile1 = 'EMOS1_gti_loband_2023-05-05.fits'\n",
    "gtifile2 = 'EMOS1_gti_hiband_2023-05-05.fits'\n",
    "\n",
    "'''\n",
    "\n",
    "'''\n",
    "This spectrum extraction pipeline is adapted by sas pipeline\n",
    "https://www.cosmos.esa.int/web/xmm-newton/sas-thread-esasspec\n",
    "\n",
    "'''\n",
    "import numpy as np\n",
    "import os\n",
    "from glob import glob\n"
   ]
  },
  {
   "cell_type": "markdown",
   "metadata": {},
   "source": [
    "# Set SAS environment\n",
    "define workdir"
   ]
  },
  {
   "cell_type": "code",
   "execution_count": 5,
   "metadata": {},
   "outputs": [],
   "source": [
    "gtifile1 = 'EMOS1_gti_loband_2023-05-05.fits'\n",
    "gtifile2 = 'EMOS1_gti_hiband_2023-05-05.fits'\n",
    "workdir  = '/stage/headat/yanling/xmm/reduction_230227/spectras/filtered_onlyhiband/101'\n",
    "os.makedirs(workdir, exist_ok=True)\n",
    "datadir = '/stage/headat/yanling/xmm/reduction_230227/101'\n",
    "os.chdir(workdir)\n",
    "# input_evtfile = f'{instrument}_hiband_loband_clean_{today}_fov.fits'\n"
   ]
  },
  {
   "cell_type": "code",
   "execution_count": 11,
   "metadata": {},
   "outputs": [
    {
     "name": "stdout",
     "output_type": "stream",
     "text": [
      "\n",
      "sasversion\n",
      "export SAS_CCF=/stage/headat/yanling/xmm/0502020101/ccf.cif\n",
      "export SAS_ODF=/stage/headat/yanling/xmm/0502020101/1378_0502020101_SCX00000SUM.SAS\n",
      "sasversion\n",
      "sasversion\n",
      "\n"
     ]
    }
   ],
   "source": [
    "obs = 101\n",
    "string = f'''\n",
    "sasversion\n",
    "export SAS_CCF=/stage/headat/yanling/xmm/0502020{obs}/ccf.cif\n",
    "export SAS_ODF={glob(f'/stage/headat/yanling/xmm/0502020{obs}/*0502020{obs}_*SUM.SAS')[0]}\n",
    "sasversion\n",
    "sasversion\n",
    "'''\n",
    "print(string)\n"
   ]
  },
  {
   "cell_type": "markdown",
   "metadata": {},
   "source": [
    "# generate vignetted corrected, bkg subtracted images"
   ]
  },
  {
   "cell_type": "code",
   "execution_count": null,
   "metadata": {},
   "outputs": [],
   "source": [
    "# get emosaic images (do it locally when extracting sb profile, and upload to sron server)\n",
    "# also define spectra extraction region locally and upload to server\n",
    "# regions should be in detector coordinates\n",
    "\n",
    "### regions for shocks in A222\n",
    "# shock*_phy_*01.reg\n",
    "\n",
    "### regions for A222 radial profile\n",
    "\n",
    "\n",
    "### regions for A223 radial profile\n",
    "\n",
    "\n"
   ]
  },
  {
   "cell_type": "markdown",
   "metadata": {},
   "source": [
    "# extract QPB spectra"
   ]
  },
  {
   "cell_type": "markdown",
   "metadata": {},
   "source": [
    "## 1. Use fwc data for both 101 and 201\n",
    "LIVETIME before & after flare filtered:\n",
    "EMOS1: 106.8 ks (101.2 ks)\n",
    "EMOS2: 106.9 ks (102.1 ks)\n",
    "EPN and OOT: 105 ks (102.3 ks)\n",
    "\n",
    "evqpb (don't use, sron cif file don't contain PN EFF information, and the extracted fwc= exptime instead of 2 times of exp time!)\n"
   ]
  },
  {
   "cell_type": "code",
   "execution_count": null,
   "metadata": {},
   "outputs": [],
   "source": [
    "## check the scaling of fwc\n",
    "'''oofov area \n",
    "bkg\n",
    "/stage/headat/yanling/xmm/fwc_dat_2023-05-10/events/E*_obs*01_bkg_clean_2023-05-10.fits\n",
    "inst, cts, livetime, cts/livetime\n",
    "mos1_closed_FF_2022_v2 125161 1886442.17854285 0.06634764713365265\n",
    "mos2_closed_FF_2022_v2 136006 1859701.47908783 0.07313324290450635\n",
    "pn_closed_EFF_2022_v2 39345 739987.328768998 0.053169829361067796\n",
    "pn_closed_EFF_oot_2022_v2 35303 740268.032837234 0.04768948331416362\n",
    "101 obs \n",
    "/stage/headat/yanling/xmm/reduction_230227/*01/{inst}_hiband_loband_clean_fov.fits\n",
    "inst, cts, livetime, cts/livetime\n",
    "EMOS1 3360 39004.5795996189 0.08614373067189345\n",
    "EMOS2 4230 46478.1277415752 0.09101055067276771\n",
    "EPN 1339 15959.1501955055 0.08390171052949275\n",
    "Oot 1116 14977.9862565659 0.07450934864563513\n",
    "201 obs \n",
    "inst, cts, livetime, cts/livetime\n",
    "EMOS1 3360 39004.5795996189 0.0850\n",
    "EMOS2 4230 46478.1277415752 0.0984\n",
    "EPN 1339 15959.1501955055 0.0830\n",
    "Oot 1116 14977.9862565659 0.0789\n",
    "'''\n",
    "qpb_oofov_ctr_backscales = {'101':[1.298, 1.244, 1.578, 1.562], '201':[1.281, 1.345, 1.561, 1.654]}"
   ]
  },
  {
   "cell_type": "code",
   "execution_count": null,
   "metadata": {},
   "outputs": [],
   "source": [
    "# extract the spec at bkg regions\n",
    "obs = 101\n",
    "bkgdir = '/stage/headat/yanling/xmm/fwc_dat_2023-05-10/events'\n",
    "bkgfiles = glob(f'{bkgdir}/E*_obs{obs}_bkg_clean_2023-05-10.fits')\n",
    "print(bkgfiles)\n",
    "f = open(f'qpb_bkg_{obs}.sh','w')\n",
    "for bkgfile in bkgfiles:\n",
    "    inst = bkgfile.split('/')[-1].split('_')[0]\n",
    "    gtifile = f'{bkgdir}/../{inst}_bkg_gti_2023-05-10.fits'\n",
    "    if 'MOS' in inst:\n",
    "        regname = glob(f'../../regions/bkg_{obs}_all.reg')[0]\n",
    "    else:\n",
    "        regname = glob(f'../../regions/bkg_{obs}_pn.reg')[0]\n",
    "    f1 = open(regname)\n",
    "    lines = f1.readlines()\n",
    "    f1.close()\n",
    "\n",
    "    if 'MOS1' in bkgfile:\n",
    "        express = f\"(FLAG==0) && (PATTERN<=12) && CCDNR.ne.6\"\n",
    "    elif 'MOS2' in bkgfile:\n",
    "        express = f\"(FLAG==0) && (PATTERN<=12)\"\n",
    "    else: \n",
    "        express = f\"(FLAG==0) && (PATTERN<=4)\"\n",
    "    for i, line in enumerate(lines):\n",
    "        express = express + line[:-1]\n",
    "    # generate the events of [corner(_oofov)] and [all fov without corner region(_fov)]\n",
    "    if 'MOS' in bkgfile:\n",
    "        f.write(f'''\n",
    "evselect table={bkgfile} withspectrumset=Y spectrumset=qpb_{inst}_{obs}_bkg_spec_bin5.fits energycolumn=PI spectralbinsize=5 withspecranges=yes specchannelmin=0 specchannelmax=11999 expression=\"{express}&&gti({gtifile},TIME)\"\\n\n",
    "        ''')\n",
    "    else:\n",
    "        f.write(f'''\n",
    "evselect table={bkgfile} withspectrumset=Y spectrumset=qpb_{inst}_{obs}_bkg_spec.fits energycolumn=PI spectralbinsize=5 withspecranges=yes specchannelmin=0 specchannelmax=20479 expression=\"{express}&&gti({gtifile},TIME)\"\\n\n",
    "        ''')\n",
    "    # generate the corresponding images of previously generated events\n",
    "    f.write(f'''\n",
    "evselect table={bkgfile} xcolumn=X ycolumn=Y imagebinning=binSize ximagebinsize=80 yimagebinsize=80 withimageset=Y imageset=qbp_{inst}_bkg_{obs}_img.fits expression=\"{express}&&gti({gtifile},TIME)\"\\n''')\n",
    "\n",
    "f.close()\n",
    "# f = open('qpb_bkg.sh')\n",
    "# print(f.readlines())\n",
    "# f.close()"
   ]
  },
  {
   "cell_type": "code",
   "execution_count": null,
   "metadata": {},
   "outputs": [],
   "source": [
    "# extract the spec at annuli\n",
    "obs = 101\n",
    "bkgdir = '/stage/headat/yanling/xmm/fwc_dat_2023-05-10/events'\n",
    "bkgfiles = glob(f'{bkgdir}/E*_obs{obs}_bkg_clean_2023-05-10.fits')\n",
    "f = open(f'qpb_spec_{obs}.sh','w')\n",
    "for bkgfile in bkgfiles:\n",
    "    for i in range(5):\n",
    "        inst = bkgfile.split('/')[-1].split('_')[0]\n",
    "        gtifile = f'{bkgdir}/../{inst}_bkg_gti_2023-05-10.fits'\n",
    "        regname = glob(f'../../regions/shocks_phy_{obs}_reg{int(i+1)}*.txt')[0]\n",
    "        f1 = open(regname)\n",
    "        lines = f1.readlines()\n",
    "        f1.close()\n",
    "        if 'MOS1' in bkgfile:\n",
    "            express = f\"(FLAG==0) && (PATTERN<=12) && CCDNR.ne.6\"\n",
    "        elif 'MOS2' in bkgfile:\n",
    "            express = f\"(FLAG==0) && (PATTERN<=12)\"\n",
    "        else: \n",
    "            express = f\"(FLAG==0) && (PATTERN<=4)\"\n",
    "        for j, line in enumerate(lines):    \n",
    "            if len(lines)>3:\n",
    "                if j<=1:\n",
    "                    express = express + line[:-2]\n",
    "                elif (j>1) and j<len(lines)-1:\n",
    "                    express = express + \"&&\" + line[:-2]\n",
    "                else:\n",
    "                    express = express+ \"&&\" + line[:-1]\n",
    "            else:\n",
    "                if j<1:\n",
    "                    express = express + line[:-2]\n",
    "                else:\n",
    "                    express = express + line[:-1]\n",
    "    \n",
    "        # generate the events of [corner(_oofov)] and [all fov without corner region(_fov)]\n",
    "        if 'MOS' in bkgfile:\n",
    "            f.write(f'''\n",
    "evselect table={bkgfile} withspectrumset=Y spectrumset=qpb_{inst}_{obs}_reg{int(i+1)}_spec_bin5.fits energycolumn=PI spectralbinsize=5 withspecranges=yes specchannelmin=0 specchannelmax=11999 expression=\"{express}&&gti({gtifile},TIME)\"\\n\n",
    "            ''')\n",
    "        else:\n",
    "            f.write(f'''\n",
    "evselect table={bkgfile} withspectrumset=Y spectrumset=qpb_{inst}_{obs}_reg{int(i+1)}_spec.fits energycolumn=PI spectralbinsize=5 withspecranges=yes specchannelmin=0 specchannelmax=20479 expression=\"{express}&&gti({gtifile},TIME)\"\\n\n",
    "            ''')\n",
    "        # generate the corresponding images of previously generated events\n",
    "        f.write(f'''\n",
    "evselect table={bkgfile} xcolumn=X ycolumn=Y imagebinning=binSize ximagebinsize=80 yimagebinsize=80 withimageset=Y imageset=qpb_{inst}_{obs}_reg{int(i+1)}_img.fits expression=\"{express}&&gti({gtifile},TIME)\"\\n''')\n",
    "f.close()\n",
    "# f = open(f'qpb_spec_{obs}.sh')\n",
    "# print(f.readlines())\n",
    "# f.close()"
   ]
  },
  {
   "cell_type": "markdown",
   "metadata": {},
   "source": []
  },
  {
   "cell_type": "code",
   "execution_count": null,
   "metadata": {},
   "outputs": [],
   "source": []
  },
  {
   "cell_type": "markdown",
   "metadata": {},
   "source": [
    "calculate QPB spectras scales"
   ]
  },
  {
   "cell_type": "code",
   "execution_count": null,
   "metadata": {},
   "outputs": [],
   "source": []
  },
  {
   "cell_type": "markdown",
   "metadata": {},
   "source": [
    "scale QPB spectra \n"
   ]
  },
  {
   "cell_type": "code",
   "execution_count": null,
   "metadata": {},
   "outputs": [],
   "source": [
    "qpb_oofov_ctr_scales = {'101':[1.298, 1.244, 1.578, 1.562], '201':[1.281, 1.345, 1.561, 1.654]}\n",
    "obs = '101'\n",
    "f = open(f'scale_qpb_{obs}.sh', 'w')\n",
    "\n",
    "for i, inst in enumerate(['EMOS1', 'EMOS2', 'EPN', 'Oot']):\n",
    "    speclist = glob(f'qpb_{inst}_{obs}_*_spec.fits')\n",
    "    for spec in speclist:\n",
    "        f.write(f\"mathpha expr='{spec} * {qpb_oofov_ctr_scales[obs][i]}' units=C outfil={spec.split('.')[0]}_scaled.fits exposure={spec} areascal=NULL clobber=yes ncomments=0\\n\")\n",
    "f.close()"
   ]
  },
  {
   "cell_type": "markdown",
   "metadata": {},
   "source": [
    "check scaled values"
   ]
  },
  {
   "cell_type": "code",
   "execution_count": null,
   "metadata": {},
   "outputs": [],
   "source": [
    "from astropy.io import fits\n",
    "with fits.open('qpb_EMOS1_201_reg3_spec_scaled.fits') as f:\n",
    "    print(np.max(f[1].data['COUNTS']))\n",
    "with fits.open('qpb_EMOS1_201_reg3_spec.fits') as f:\n",
    "    print(np.max(f[1].data['COUNTS']))"
   ]
  },
  {
   "cell_type": "code",
   "execution_count": null,
   "metadata": {},
   "outputs": [],
   "source": [
    "bkgdir = '/stage/headat/yanling/xmm/fwc_dat_2023-05-10/events'\n",
    "datafile = f'{bkgdir}/EPN_bkg_clean_2023-05-10.fits'\n",
    "express = '#XMMEA_16&&(PATTERN<=4)'\n",
    "obs = '101'\n",
    "inst = 'EPN'\n",
    "print(f'evselect table={datafile} withspectrumset=Y spectrumset=EPN_101_oofov_qpb_spec.fits energycolumn=PI spectralbinsize=5 withspecranges=yes specchannelmin=0 specchannelmax=20479 expression=\"{express}\"\\n')\n",
    "\n",
    "datadir = '/stage/headat/yanling/xmm/reduction_230227/101'\n",
    "datafile = f'{datadir}/EPN_hiband_loband_clean_2023-05-05_oofov.fits'\n",
    "express = '(PATTERN<=4)'\n",
    "obs = '101'\n",
    "inst = 'EPN'\n",
    "print(f'evselect table={datafile} withspectrumset=Y spectrumset=EPN_101_oofov_data_spec.fits energycolumn=PI spectralbinsize=5 withspecranges=yes specchannelmin=0 specchannelmax=20479 expression=\"{express}\"\\n')"
   ]
  },
  {
   "cell_type": "code",
   "execution_count": null,
   "metadata": {},
   "outputs": [],
   "source": []
  },
  {
   "cell_type": "markdown",
   "metadata": {},
   "source": [
    "check spec extract regions"
   ]
  },
  {
   "cell_type": "code",
   "execution_count": null,
   "metadata": {},
   "outputs": [],
   "source": [
    "from astropy.io import fits\n",
    "from astropy.wcs import WCS\n",
    "import matplotlib.pyplot as plt\n",
    "from astropy.convolution import convolve\n",
    "from astropy.convolution import Gaussian2DKernel\n",
    "kernel = Gaussian2DKernel(x_stddev=1)\n",
    "os.chdir(workdir)\n",
    "os.makedirs('png', exist_ok=True)\n",
    "for file in glob(f'*img.fits'):\n",
    "    print(file)\n",
    "    title = file\n",
    "    hdu = fits.open(f'{file}')[0]\n",
    "    image_data = hdu.data\n",
    "    print(image_data.shape)\n",
    "    fig = plt.figure(figsize = (6,6))\n",
    "    ax = fig.add_axes([0.1, 0.1, 0.8, 0.8], projection=WCS(f'{file}'))\n",
    "    ra = ax.coords[0]\n",
    "    dec = ax.coords[1]\n",
    "\n",
    "    ra.set_axislabel('RA')\n",
    "    dec.set_axislabel('Dec')\n",
    "    image_data = np.where(np.isfinite(np.log10(image_data)), image_data, np.nan)\n",
    "    astropy_conv = convolve(image_data, kernel)\n",
    "    ax.set_title(title)\n",
    "    print(np.nanmax(np.log10(image_data)), np.nanmin(np.log10(image_data)[image_data>0]))\n",
    "    ax.matshow(np.log10(astropy_conv),  cmap='gnuplot2',origin='lower')\n",
    "    # plt.colorbar()\n",
    "    plt.savefig(f'png/{os.path.basename(file).split(\".\")[0]}.png')\n",
    "    # plt.show()\n",
    "    plt.close()\n"
   ]
  },
  {
   "cell_type": "markdown",
   "metadata": {},
   "source": [
    "# extract spectrums"
   ]
  },
  {
   "cell_type": "code",
   "execution_count": 14,
   "metadata": {},
   "outputs": [
    {
     "name": "stdout",
     "output_type": "stream",
     "text": [
      "['\\n', 'evselect table=/stage/headat/yanling/xmm/reduction_230227/101/EMOS1_hiband_loband_clean_fov.fits withspectrumset=Y spectrumset=source_EMOS1_101_bkg_spec_bin5.fits energycolumn=PI spectralbinsize=5 withspecranges=yes specchannelmin=0 specchannelmax=11999 expression=\"(FLAG==0) && (PATTERN<=12) && CCDNR.ne.6&&(((X,Y) IN circle(14280.503,22120.496,3600))||((X,Y) IN ellipse(34143.931,35808.983,3022.7,5858.74,20.000129)))&&!((X,Y) IN ellipse(30976.894,40421.167,1177.58,732.6,148.48054))&&!((X,Y) IN ellipse(33292.262,40795.094,651.2,586.32,140.88808))&&!((X,Y) IN ellipse(32517.501,36298.293,267.96,238.84,67.291356))&&!((X,Y) IN ellipse(35119.686,39799.764,233.4,156.8,87.631986))&&!((X,Y) IN ellipse(35466.543,34487.918,566.26,498.58,115.08428))&&!((X,Y) IN ellipse(36753.658,34831.119,697.4,441.2,93.351365))&&!((X,Y) IN ellipse(34511.694,31562.732,444.88,357.78,101.90737))&&!((X,Y) IN ellipse(12634.451,24561.072,406.44,336.44,143.41351))&&!((X,Y) IN ellipse(14461.988,23707.064,296.82,204.48,28.197311))&&gti(/stage/headat/yanling/xmm/reduction_230227/101/EMOS2_gti_hiband_2023-05-05.fits,TIME)\"\\n', '\\n', '        \\n', 'evselect table=/stage/headat/yanling/xmm/reduction_230227/101/EMOS1_hiband_loband_clean_fov.fits xcolumn=X ycolumn=Y imagebinning=binSize ximagebinsize=80 yimagebinsize=80 withimageset=Y imageset=source_EMOS1_bkg_101_img.fits expression=\"(FLAG==0) && (PATTERN<=12) && CCDNR.ne.6&&(((X,Y) IN circle(14280.503,22120.496,3600))||((X,Y) IN ellipse(34143.931,35808.983,3022.7,5858.74,20.000129)))&&!((X,Y) IN ellipse(30976.894,40421.167,1177.58,732.6,148.48054))&&!((X,Y) IN ellipse(33292.262,40795.094,651.2,586.32,140.88808))&&!((X,Y) IN ellipse(32517.501,36298.293,267.96,238.84,67.291356))&&!((X,Y) IN ellipse(35119.686,39799.764,233.4,156.8,87.631986))&&!((X,Y) IN ellipse(35466.543,34487.918,566.26,498.58,115.08428))&&!((X,Y) IN ellipse(36753.658,34831.119,697.4,441.2,93.351365))&&!((X,Y) IN ellipse(34511.694,31562.732,444.88,357.78,101.90737))&&!((X,Y) IN ellipse(12634.451,24561.072,406.44,336.44,143.41351))&&!((X,Y) IN ellipse(14461.988,23707.064,296.82,204.48,28.197311))&&gti(/stage/headat/yanling/xmm/reduction_230227/101/EMOS2_gti_hiband_2023-05-05.fits,TIME)\"\\n', '\\n', '    \\n', 'evselect table=/stage/headat/yanling/xmm/reduction_230227/101/EMOS2_hiband_loband_clean_fov.fits withspectrumset=Y spectrumset=source_EMOS2_101_bkg_spec_bin5.fits energycolumn=PI spectralbinsize=5 withspecranges=yes specchannelmin=0 specchannelmax=11999 expression=\"(FLAG==0) && (PATTERN<=12)&&(((X,Y) IN circle(14280.503,22120.496,3600))||((X,Y) IN ellipse(34143.931,35808.983,3022.7,5858.74,20.000129)))&&!((X,Y) IN ellipse(30976.894,40421.167,1177.58,732.6,148.48054))&&!((X,Y) IN ellipse(33292.262,40795.094,651.2,586.32,140.88808))&&!((X,Y) IN ellipse(32517.501,36298.293,267.96,238.84,67.291356))&&!((X,Y) IN ellipse(35119.686,39799.764,233.4,156.8,87.631986))&&!((X,Y) IN ellipse(35466.543,34487.918,566.26,498.58,115.08428))&&!((X,Y) IN ellipse(36753.658,34831.119,697.4,441.2,93.351365))&&!((X,Y) IN ellipse(34511.694,31562.732,444.88,357.78,101.90737))&&!((X,Y) IN ellipse(12634.451,24561.072,406.44,336.44,143.41351))&&!((X,Y) IN ellipse(14461.988,23707.064,296.82,204.48,28.197311))&&gti(/stage/headat/yanling/xmm/reduction_230227/101/EMOS2_gti_hiband_2023-05-05.fits,TIME)\"\\n', '\\n', '        \\n', 'evselect table=/stage/headat/yanling/xmm/reduction_230227/101/EMOS2_hiband_loband_clean_fov.fits xcolumn=X ycolumn=Y imagebinning=binSize ximagebinsize=80 yimagebinsize=80 withimageset=Y imageset=source_EMOS2_bkg_101_img.fits expression=\"(FLAG==0) && (PATTERN<=12)&&(((X,Y) IN circle(14280.503,22120.496,3600))||((X,Y) IN ellipse(34143.931,35808.983,3022.7,5858.74,20.000129)))&&!((X,Y) IN ellipse(30976.894,40421.167,1177.58,732.6,148.48054))&&!((X,Y) IN ellipse(33292.262,40795.094,651.2,586.32,140.88808))&&!((X,Y) IN ellipse(32517.501,36298.293,267.96,238.84,67.291356))&&!((X,Y) IN ellipse(35119.686,39799.764,233.4,156.8,87.631986))&&!((X,Y) IN ellipse(35466.543,34487.918,566.26,498.58,115.08428))&&!((X,Y) IN ellipse(36753.658,34831.119,697.4,441.2,93.351365))&&!((X,Y) IN ellipse(34511.694,31562.732,444.88,357.78,101.90737))&&!((X,Y) IN ellipse(12634.451,24561.072,406.44,336.44,143.41351))&&!((X,Y) IN ellipse(14461.988,23707.064,296.82,204.48,28.197311))&&gti(/stage/headat/yanling/xmm/reduction_230227/101/EMOS2_gti_hiband_2023-05-05.fits,TIME)\"\\n', '\\n', '    \\n', 'evselect table=/stage/headat/yanling/xmm/reduction_230227/101/EPN_hiband_loband_clean_fov.fits withspectrumset=Y spectrumset=source_EPN_101_bkg_spec.fits energycolumn=PI spectralbinsize=5 withspecranges=yes specchannelmin=0 specchannelmax=20479 expression=\"(FLAG==0) && (PATTERN<=4)&&((X,Y) IN circle(14280.503,22120.496,3600))&&!((X,Y) IN ellipse(12634.451,24561.072,406.44,336.44,143.41351))&&!((X,Y) IN ellipse(14461.988,23707.064,296.82,204.48,28.197311))&&gti(/stage/headat/yanling/xmm/reduction_230227/101/EMOS2_gti_hiband_2023-05-05.fits,TIME)\"\\n', '\\n', '        \\n', 'evselect table=/stage/headat/yanling/xmm/reduction_230227/101/EPN_hiband_loband_clean_fov.fits xcolumn=X ycolumn=Y imagebinning=binSize ximagebinsize=80 yimagebinsize=80 withimageset=Y imageset=source_EPN_bkg_101_img.fits expression=\"(FLAG==0) && (PATTERN<=4)&&((X,Y) IN circle(14280.503,22120.496,3600))&&!((X,Y) IN ellipse(12634.451,24561.072,406.44,336.44,143.41351))&&!((X,Y) IN ellipse(14461.988,23707.064,296.82,204.48,28.197311))&&gti(/stage/headat/yanling/xmm/reduction_230227/101/EMOS2_gti_hiband_2023-05-05.fits,TIME)\"\\n', '\\n', '    ']\n"
     ]
    }
   ],
   "source": [
    "# extract the spec at data regions\n",
    "obs = 101\n",
    "datadir = f'/stage/headat/yanling/xmm/reduction_230227/{obs}'\n",
    "datafiles = glob(f'{datadir}/E*_hiband_loband_clean_fov.fits')\n",
    "f = open(f'source_{obs}_bkg_spec.sh','w')\n",
    "for datafile in datafiles:\n",
    "    inst = datafile.split('/')[-1].split('_')[0]\n",
    "    gtifile1 = f'{datadir}/{inst}_gti_loband_2023-05-05.fits'\n",
    "    gtifile2 = f'{datadir}/EMOS2_gti_hiband_2023-05-05.fits'\n",
    "    if 'MOS' in inst:\n",
    "        regname = glob(f'../../regions/bkg_{obs}_all.reg')[0]\n",
    "    else:\n",
    "        regname = glob(f'../../regions/bkg_{obs}_pn.reg')[0]\n",
    "    f1 = open(regname)\n",
    "    lines = f1.readlines()\n",
    "    f1.close()\n",
    "\n",
    "    if 'MOS1' in datafile:\n",
    "        express = f\"(FLAG==0) && (PATTERN<=12) && CCDNR.ne.6\"\n",
    "    elif 'MOS2' in datafile:\n",
    "        express = f\"(FLAG==0) && (PATTERN<=12)\"\n",
    "    else: \n",
    "        express = f\"(FLAG==0) && (PATTERN<=4)\"\n",
    "    for i, line in enumerate(lines):\n",
    "        express = express + line[:-1]\n",
    "    # generate the events of [corner(_oofov)] and [all fov without corner region(_fov)]\n",
    "    if 'MOS' in datafile:\n",
    "        f.write(f'''\n",
    "evselect table={datafile} withspectrumset=Y spectrumset=source_{inst}_{obs}_bkg_spec_bin5.fits energycolumn=PI spectralbinsize=5 withspecranges=yes specchannelmin=0 specchannelmax=11999 expression=\"{express}&&gti({gtifile2},TIME)\"\\n\n",
    "        ''')\n",
    "    else:\n",
    "        f.write(f'''\n",
    "evselect table={datafile} withspectrumset=Y spectrumset=source_{inst}_{obs}_bkg_spec.fits energycolumn=PI spectralbinsize=5 withspecranges=yes specchannelmin=0 specchannelmax=20479 expression=\"{express}&&gti({gtifile2},TIME)\"\\n\n",
    "        ''')\n",
    "    # generate the corresponding images of previously generated events\n",
    "    f.write(f'''\n",
    "evselect table={datafile} xcolumn=X ycolumn=Y imagebinning=binSize ximagebinsize=80 yimagebinsize=80 withimageset=Y imageset=source_{inst}_bkg_{obs}_img.fits expression=\"{express}&&gti({gtifile2},TIME)\"\\n\n",
    "    ''')\n",
    "\n",
    "f.close()\n",
    "f = open(f'source_{obs}_bkg_spec.sh')\n",
    "print(f.readlines())\n",
    "f.close()"
   ]
  },
  {
   "cell_type": "code",
   "execution_count": null,
   "metadata": {},
   "outputs": [],
   "source": [
    "# extract the spec at annuli\n",
    "obs = 101\n",
    "datadir = f'/stage/headat/yanling/xmm/reduction_230227/{obs}'\n",
    "datafiles = glob(f'{datadir}/E*_hiband_loband_clean_fov.fits')\n",
    "f = open(f'source_{obs}_data_spec.sh','w')\n",
    "for datafile in datafiles:\n",
    "    for i in range(5):\n",
    "        inst = datafile.split('/')[-1].split('_')[0]\n",
    "        gtifile1 = f'{datadir}/{inst}_gti_loband_2023-05-05.fits'\n",
    "        gtifile2 = f'{datadir}/EMOS2_gti_hiband_2023-05-05.fits'\n",
    "        regname = glob(f'../../regions/shocks_phy_{obs}_reg{int(i+1)}*.txt')[0]\n",
    "        f1 = open(regname)\n",
    "        lines = f1.readlines()\n",
    "        f1.close()\n",
    "        if 'MOS1' in datafile:\n",
    "            express = f\"(FLAG==0) && (PATTERN<=12) && CCDNR.ne.6\"\n",
    "        elif 'MOS2' in datafile:\n",
    "            express = f\"(FLAG==0) && (PATTERN<=12)\"\n",
    "        else: \n",
    "            express = f\"(FLAG==0) && (PATTERN<=4)\"\n",
    "        for j, line in enumerate(lines):    \n",
    "            if len(lines)>3:\n",
    "                if j<=1:\n",
    "                    express = express + line[:-2]\n",
    "                elif (j>1) and j<len(lines)-1:\n",
    "                    express = express + \"&&\" + line[:-2]\n",
    "                else:\n",
    "                    express = express+ \"&&\" + line[:-1]\n",
    "            else:\n",
    "                if j<1:\n",
    "                    express = express + line[:-2]\n",
    "                else:\n",
    "                    express = express + line[:-1]\n",
    "    \n",
    "        # generate the events of [corner(_oofov)] and [all fov without corner region(_fov)]\n",
    "        if 'MOS' in datafile:\n",
    "            f.write(f'''\n",
    "evselect table={datafile} withspectrumset=Y spectrumset=source_{inst}_{obs}_reg{int(i+1)}_spec_bin5.fits energycolumn=PI spectralbinsize=5 withspecranges=yes specchannelmin=0 specchannelmax=11999 expression=\"{express}&&gti({gtifile2},TIME)\"\\n\n",
    "            ''')\n",
    "        else:\n",
    "            f.write(f'''\n",
    "evselect table={datafile} withspectrumset=Y spectrumset=source_{inst}_{obs}_reg{int(i+1)}_spec.fits energycolumn=PI spectralbinsize=5 withspecranges=yes specchannelmin=0 specchannelmax=20479 expression=\"{express}&&gti({gtifile2},TIME)\"\\n\n",
    "            ''')\n",
    "        # generate the corresponding images of previously generated events\n",
    "        f.write(f'''\n",
    "evselect table={datafile} xcolumn=X ycolumn=Y imagebinning=binSize ximagebinsize=80 yimagebinsize=80 withimageset=Y imageset=source_{inst}_{obs}_reg{int(i+1)}_img.fits expression=\"{express}&&gti({gtifile2},TIME)\"\\n''')\n",
    "f.close()\n",
    "# f = open('source_spec.sh')\n",
    "# print(f.readlines())\n",
    "# f.close()"
   ]
  },
  {
   "cell_type": "markdown",
   "metadata": {},
   "source": [
    "extract source spectrums from oofov"
   ]
  },
  {
   "cell_type": "code",
   "execution_count": 6,
   "metadata": {},
   "outputs": [
    {
     "name": "stdout",
     "output_type": "stream",
     "text": [
      "['\\n', 'evselect table=/stage/headat/yanling/xmm/reduction_230227/101/EMOS1_hiband_loband_clean_fov.fits withspectrumset=Y spectrumset=source_EMOS1_101_oofov_spec_bin5.fits energycolumn=PI spectralbinsize=5 withspecranges=yes specchannelmin=0 specchannelmax=11999 expression=\"#XMMEA_16&&(PATTERN<=12) && CCDNR.ne.6&&gti(/stage/headat/yanling/xmm/reduction_230227/101/EMOS2_gti_hiband_2023-05-05.fits,TIME)\"\\n', '\\n', '        \\n', 'evselect table=/stage/headat/yanling/xmm/reduction_230227/101/EMOS1_hiband_loband_clean_fov.fits xcolumn=X ycolumn=Y imagebinning=binSize ximagebinsize=80 yimagebinsize=80 withimageset=Y imageset=source_EMOS1_oofov_101_img.fits expression=\"#XMMEA_16&&(PATTERN<=12) && CCDNR.ne.6&&gti(/stage/headat/yanling/xmm/reduction_230227/101/EMOS2_gti_hiband_2023-05-05.fits,TIME)\"\\n', '\\n', '    \\n', 'evselect table=/stage/headat/yanling/xmm/reduction_230227/101/EMOS2_hiband_loband_clean_fov.fits withspectrumset=Y spectrumset=source_EMOS2_101_oofov_spec_bin5.fits energycolumn=PI spectralbinsize=5 withspecranges=yes specchannelmin=0 specchannelmax=11999 expression=\"#XMMEA_16&&(PATTERN<=12)&&gti(/stage/headat/yanling/xmm/reduction_230227/101/EMOS2_gti_hiband_2023-05-05.fits,TIME)\"\\n', '\\n', '        \\n', 'evselect table=/stage/headat/yanling/xmm/reduction_230227/101/EMOS2_hiband_loband_clean_fov.fits xcolumn=X ycolumn=Y imagebinning=binSize ximagebinsize=80 yimagebinsize=80 withimageset=Y imageset=source_EMOS2_oofov_101_img.fits expression=\"#XMMEA_16&&(PATTERN<=12)&&gti(/stage/headat/yanling/xmm/reduction_230227/101/EMOS2_gti_hiband_2023-05-05.fits,TIME)\"\\n', '\\n', '    \\n', 'evselect table=/stage/headat/yanling/xmm/reduction_230227/101/EPN_hiband_loband_clean_fov.fits withspectrumset=Y spectrumset=source_EPN_101_oofov_spec.fits energycolumn=PI spectralbinsize=5 withspecranges=yes specchannelmin=0 specchannelmax=20479 expression=\"#XMMEA_16&&(PATTERN<=4)&&gti(/stage/headat/yanling/xmm/reduction_230227/101/EMOS2_gti_hiband_2023-05-05.fits,TIME)\"\\n', '\\n', '        \\n', 'evselect table=/stage/headat/yanling/xmm/reduction_230227/101/EPN_hiband_loband_clean_fov.fits xcolumn=X ycolumn=Y imagebinning=binSize ximagebinsize=80 yimagebinsize=80 withimageset=Y imageset=source_EPN_oofov_101_img.fits expression=\"#XMMEA_16&&(PATTERN<=4)&&gti(/stage/headat/yanling/xmm/reduction_230227/101/EMOS2_gti_hiband_2023-05-05.fits,TIME)\"\\n', '\\n', '    ']\n"
     ]
    }
   ],
   "source": [
    "# extract the spec at data regions\n",
    "from glob import glob\n",
    "obs = 101\n",
    "datadir = f'/stage/headat/yanling/xmm/reduction_230227/{obs}'\n",
    "datafiles = glob(f'{datadir}/E*_hiband_loband_clean_fov.fits')\n",
    "f = open(f'source_{obs}_oofov_spec.sh','w')\n",
    "for datafile in datafiles:\n",
    "    inst = datafile.split('/')[-1].split('_')[0]\n",
    "    gtifile1 = f'{datadir}/{inst}_gti_loband_2023-05-05.fits'\n",
    "    gtifile2 = f'{datadir}/EMOS2_gti_hiband_2023-05-05.fits'\n",
    "\n",
    "\n",
    "    if 'MOS1' in datafile:\n",
    "        express = f\"(PATTERN<=12) && CCDNR.ne.6\"\n",
    "    elif 'MOS2' in datafile:\n",
    "        express = f\"(PATTERN<=12)\"\n",
    "    else: \n",
    "        express = f\"(PATTERN<=4)\"\n",
    "\n",
    "    # generate the events of [corner(_oofov)] and [all fov without corner region(_fov)]\n",
    "    if 'MOS' in datafile:\n",
    "        f.write(f'''\n",
    "evselect table={datafile} withspectrumset=Y spectrumset=source_{inst}_{obs}_oofov_spec_bin5.fits energycolumn=PI spectralbinsize=5 withspecranges=yes specchannelmin=0 specchannelmax=11999 expression=\"#XMMEA_16&&{express}&&gti({gtifile2},TIME)\"\\n\n",
    "        ''')\n",
    "    else:\n",
    "        f.write(f'''\n",
    "evselect table={datafile} withspectrumset=Y spectrumset=source_{inst}_{obs}_oofov_spec.fits energycolumn=PI spectralbinsize=5 withspecranges=yes specchannelmin=0 specchannelmax=20479 expression=\"#XMMEA_16&&{express}&&gti({gtifile2},TIME)\"\\n\n",
    "        ''')\n",
    "    # generate the corresponding images of previously generated events\n",
    "    f.write(f'''\n",
    "evselect table={datafile} xcolumn=X ycolumn=Y imagebinning=binSize ximagebinsize=80 yimagebinsize=80 withimageset=Y imageset=source_{inst}_oofov_{obs}_img.fits expression=\"#XMMEA_16&&{express}&&gti({gtifile2},TIME)\"\\n\n",
    "    ''')\n",
    "\n",
    "f.close()\n",
    "f = open(f'source_{obs}_oofov_spec.sh')\n",
    "print(f.readlines())\n",
    "f.close()"
   ]
  },
  {
   "cell_type": "markdown",
   "metadata": {},
   "source": [
    "# extract rmf and arf"
   ]
  },
  {
   "cell_type": "markdown",
   "metadata": {},
   "source": [
    "extract rmf and arfs"
   ]
  },
  {
   "cell_type": "code",
   "execution_count": 10,
   "metadata": {},
   "outputs": [],
   "source": [
    "obs = 101\n",
    "f = open(f'gen_arf_rmf_{obs}.sh', 'w')\n",
    "set3=\"withrmfset=true extendedsource=yes detmaptype=flat withbadpixcorr=Y modeleffarea=Y modelquantumeff=Y modelfiltertrans=Y\"\n",
    "\n",
    "for inst in ['EPN', 'EMOS1', 'EMOS2']:\n",
    "    f.write(f'''\n",
    "rmfgen spectrumset=source_{inst}_{obs}_oofov_spec_bin5.fits rmfset=source_{inst}_{obs}_bkg.rmf detmaptype=flat extendedsource=yes badpixlocation={inst}_hiband_loband_clean_fov.fits\\n\n",
    "        ''') # arfgen spectrumset=source_{inst}_{obs}_bkg_spec_bin5.fits {set3} rmfset=source_{inst}_{obs}_bkg.rmf arfset=source_{inst}_{obs}_bkg.arf badpixlocation={inst}_hiband_loband_clean_fov.fits\\n\n",
    "#     for reg in ['oofov']:#['reg1', 'reg2', 'reg3', 'reg4', 'reg5']:\n",
    "#         f.write(f'''\n",
    "# rmfgen spectrumset=source_{inst}_{obs}_{reg}_spec_bin.fits rmfset=source_{inst}_{obs}_{reg}.rmf detmaptype=flat extendedsource=yes badpixlocation={inst}_hiband_loband_clean_fov.fits\\n\n",
    "#         ''')# arfgen spectrumset=source_{inst}_{obs}_{reg}_spec.fits {set3} rmfset=source_{inst}_{obs}_{reg}.rmf arfset=source_{inst}_{obs}_{reg}.arf badpixlocation={inst}_hiband_loband_clean_fov.fits\\n\n",
    "f.close()\n",
    "# f = open(f'gen_arf_rmf_{obs}.sh')\n",
    "# print(f.readlines())"
   ]
  },
  {
   "cell_type": "markdown",
   "metadata": {},
   "source": []
  },
  {
   "cell_type": "markdown",
   "metadata": {},
   "source": [
    "1. Specifying an external detector map for an extended source\n",
    "skip it if the detmaptype=flat"
   ]
  },
  {
   "cell_type": "code",
   "execution_count": null,
   "metadata": {},
   "outputs": [],
   "source": [
    "#to create a detector coordinate image covering the region  $-1500<DETX<+1500$ and  $-1500<DETY<+1500$ of size 20x20 pixels use the command:\n",
    "obs = 101\n",
    "datadir = f'/stage/headat/yanling/xmm/reduction_230227/{obs}'\n",
    "datafiles = glob(f'{datadir}/E*_hiband_loband_clean_fov.fits')\n",
    "f = open(f'det_img_{obs}.sh','w')\n",
    "for datafile in datafiles:\n",
    "    inst = datafile.split('/')[-1].split('_')[0]\n",
    "    f.write(f'''\n",
    "evselect table={datafile} destruct=false withfilteredset=true withimageset=true imageset=detmap_{inst}_{obs}_img.fits xcolumn=DETX ycolumn=DETY withxranges=true ximagemin=-1500 ximagemax=1500 withyranges=true yimagemin=-1500 yimagemax=1500 imagebinning='imageSize' ximagesize=400 yimagesize=400 writedss=true updateexposure=true''')\n",
    "f.close()\n",
    "f = open(f'det_img_{obs}.sh')\n",
    "print(f.readlines())\n",
    "f.close()"
   ]
  },
  {
   "cell_type": "markdown",
   "metadata": {},
   "source": [
    "combine spectra\n",
    "https://www.cosmos.esa.int/web/xmm-newton/sas-thread-epic-merging"
   ]
  },
  {
   "cell_type": "code",
   "execution_count": null,
   "metadata": {},
   "outputs": [],
   "source": [
    " epicspeccombine pha=\"src_spectrum_01.ds src_spectrum_02.ds src_spectrum_03.ds\"\\\n",
    "   bkg=\"bkg_spectrum_01.ds bkg_spectrum_02.ds bkg_spectrum_03.ds\" \\\n",
    "   rmf=\"response_01.rmf response_02.rmf response_03.rmf\" \\\n",
    "   arf=\"arf_01.arf arf_02.arf arf_03.arf\" \\\n",
    "   filepha=\"src_spectrum_grp.ds\" \\\n",
    "   filebkg=\"bkg_spectrum_grp.ds\" \\\n",
    "   filersp=\"response_grp.rmf\" \\\n",
    "   allowHEdiff=yes"
   ]
  }
 ],
 "metadata": {
  "kernelspec": {
   "display_name": "Python 3.9.2 64-bit",
   "language": "python",
   "name": "python3"
  },
  "language_info": {
   "codemirror_mode": {
    "name": "ipython",
    "version": 3
   },
   "file_extension": ".py",
   "mimetype": "text/x-python",
   "name": "python",
   "nbconvert_exporter": "python",
   "pygments_lexer": "ipython3",
   "version": "3.9.2"
  },
  "orig_nbformat": 4,
  "vscode": {
   "interpreter": {
    "hash": "31f2aee4e71d21fbe5cf8b01ff0e069b9275f58929596ceb00d14d90e3e16cd6"
   }
  }
 },
 "nbformat": 4,
 "nbformat_minor": 2
}
