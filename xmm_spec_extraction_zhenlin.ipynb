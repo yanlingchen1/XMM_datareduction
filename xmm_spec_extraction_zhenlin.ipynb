{
 "cells": [
  {
   "cell_type": "code",
   "execution_count": null,
   "metadata": {
    "vscode": {
     "languageId": "shellscript"
    }
   },
   "outputs": [],
   "source": [
    "export SAS_CCF=ccf.cif\n",
    "export SAS_ODF=`ls -1 *SUM.SAS`\n",
    "export set3=\"withrmfset=true extendedsource=yes detmaptype=flat withbadpixcorr=Y modeleffarea=Y modelquantumeff=Y modelfiltertrans=Y\"\n",
    "export x0=22520.976\n",
    "export y0=18680.894\n",
    "for ann in $(seq 1 1 6)\n",
    "do\n",
    "let r_in=$ann+2\n",
    "let r_out=$ann+3\n",
    "export rin=`cat annuli_less.reg | grep 'annu' | awk -F'[,)]' -v awkvar=\"$r_in\" '{print $awkvar}'`\n",
    "export rout=`cat annuli_less.reg | grep 'annu' | awk -F'[,)]' -v awkvar=\"$r_out\" '{print $awkvar}'`\n",
    "####################MOS1\n",
    "evselect table=M1EV_clean_soft.fits withspectrumset=yes spectrumset=M1_annl${ann}.pi spectralbinsize=15 specchannelmin=0 specchannelmax=1199\n",
    "9 energycolumn=PI withspecranges=yes \\\n",
    "expression='(PATTERN <=12) && (FLAG==0) && circle('$x0,$y0,$rout',X,Y) &&! circle('$x0,$y0,$rin',X,Y)'\n",
    "rmfgen spectrumset=M1_annl${ann}.pi rmfset=M1_annl${ann}.rmf detmaptype=flat extendedsource=yes badpixlocation=M1EV_clean_soft.fits\n",
    "arfgen spectrumset=M1_annl${ann}.pi $set3 rmfset=M1_annl${ann}.rmf arfset=M1_annl${ann}.arf badpixlocation=M1EV_clean_soft.fits\n",
    "fparkey 'none' M1_annl${ann}.pi+1 BACKFILE add=yes\n",
    "fparkey M1_annl${ann}.arf M1_annl${ann}.pi+1 ANCRFILE add=yes\n",
    "fparkey M1_annl${ann}.rmf M1_annl${ann}.pi+1 RESPFILE add=yes\n",
    "evselect table=M1_fwc_evt.fits withspectrumset=yes spectrumset=M1_annl${ann}_fwc.pi spectralbinsize=15 specchannelmin=0 specchannelmax=11999\n",
    " energycolumn=PI withspecranges=yes \\\n",
    "expression='(PATTERN <=12) && (FLAG==0) && circle('$x0,$y0,$rout',X,Y) &&! circle('$x0,$y0,$rin',X,Y) && CCDNR.ne.6 && CCDNR.ne.3'\n",
    "####################MOS2\n",
    "evselect table=M2EV_clean_soft.fits withspectrumset=yes spectrumset=M2_annl${ann}.pi spectralbinsize=15 specchannelmin=0 specchannelmax=1199\n",
    "9 energycolumn=PI withspecranges=yes \\\n",
    "expression='(PATTERN <=12) && (FLAG==0) && circle('$x0,$y0,$rout',X,Y) &&! circle('$x0,$y0,$rin',X,Y)'\n",
    "rmfgen spectrumset=M2_annl${ann}.pi rmfset=M2_annl${ann}.rmf detmaptype=flat extendedsource=yes badpixlocation=M2EV_clean_soft.fits\n",
    "arfgen spectrumset=M2_annl${ann}.pi $set3 rmfset=M2_annl${ann}.rmf arfset=M2_annl${ann}.arf badpixlocation=M2EV_clean_soft.fits\n",
    "fparkey 'none' M2_annl${ann}.pi+1 BACKFILE add=yes\n",
    "fparkey M2_annl${ann}.arf M2_annl${ann}.pi+1 ANCRFILE add=yes\n",
    "fparkey M2_annl${ann}.rmf M2_annl${ann}.pi+1 RESPFILE add=yes\n",
    "evselect table=M2_fwc_evt.fits withspectrumset=yes spectrumset=M2_annl${ann}_fwc.pi spectralbinsize=15 specchannelmin=0 specchannelmax=11999 energycolumn=PI withspecranges=yes \\\n",
    "expression='(PATTERN <=12) && (FLAG==0) && circle('$x0,$y0,$rout',X,Y) &&! circle('$x0,$y0,$rin',X,Y)'\n",
    "####################PN\n",
    "evselect table=PNEV_clean_soft.fits withspectrumset=yes spectrumset=PN_annl${ann}.pi spectralbinsize=5 specchannelmin=0 specchannelmax=20479 energycolumn=PI withspecranges=yes \\\n",
    "expression='(PATTERN <=4) && (FLAG==0) && circle('$x0,$y0,$rout',X,Y) &&! circle('$x0,$y0,$rin',X,Y)'\n",
    "rmfgen spectrumset=PN_annl${ann}.pi rmfset=PN_annl${ann}.rmf detmaptype=flat extendedsource=yes badpixlocation=PNEV_clean_soft.fits\n",
    "arfgen spectrumset=PN_annl${ann}.pi $set3 rmfset=PN_annl${ann}.rmf arfset=PN_annl${ann}.arf badpixlocation=PNEV_clean_soft.fits\n",
    "fparkey 'none' PN_annl${ann}.pi+1 BACKFILE add=yes\n",
    "fparkey PN_annl${ann}.arf PN_annl${ann}.pi+1 ANCRFILE add=yes\n",
    "fparkey PN_annl${ann}.rmf PN_annl${ann}.pi+1 RESPFILE add=yes\n",
    "evselect table=PN_fwc_evt.fits withspectrumset=yes spectrumset=PN_annl${ann}_fwc.pi spectralbinsize=5 specchannelmin=0 specchannelmax=20479 energycolumn=PI withspecranges=yes \\\n",
    "expression='(PATTERN <=4) && (FLAG==0) && circle('$x0,$y0,$rout',X,Y) &&! circle('$x0,$y0,$rin',X,Y)'\n",
    "done\n"
   ]
  }
 ],
 "metadata": {
  "kernelspec": {
   "display_name": "Python 3.10.8 64-bit",
   "language": "python",
   "name": "python3"
  },
  "language_info": {
   "name": "python",
   "version": "3.10.8"
  },
  "orig_nbformat": 4,
  "vscode": {
   "interpreter": {
    "hash": "73b928cb5b7f5ae852aa9daac71ac05d6a51e334a317a8e99e7e167806a4d52d"
   }
  }
 },
 "nbformat": 4,
 "nbformat_minor": 2
}
